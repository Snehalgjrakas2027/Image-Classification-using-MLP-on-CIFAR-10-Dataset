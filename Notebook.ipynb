{
  "nbformat": 4,
  "nbformat_minor": 0,
  "metadata": {
    "colab": {
      "provenance": []
    },
    "kernelspec": {
      "name": "python3",
      "display_name": "Python 3"
    },
    "language_info": {
      "name": "python"
    }
  },
  "cells": [
    {
      "cell_type": "markdown",
      "source": [
        "#Practical 6: Image Classification using Multilayer Feed Forward Neural Network on the CIFAR-10 Dataset\n",
        "\n"
      ],
      "metadata": {
        "id": "5KR1yLwyy0H9"
      }
    },
    {
      "cell_type": "markdown",
      "source": [
        "##Name: Snehal Rakas\n",
        "##Roll No. : 12"
      ],
      "metadata": {
        "id": "T8_7x-jm-dWP"
      }
    },
    {
      "cell_type": "markdown",
      "source": [
        "##Problem Statement:\n",
        "Develop a Multilayer Feed Forward Neural Network (MLP) to classify images from the CIFAR-10 dataset into 10 different categories. The goal is to preprocess the dataset, build an MLP model, train it on CIFAR-10, and evaluate its performance."
      ],
      "metadata": {
        "id": "Ej6-lkxAzKK7"
      }
    },
    {
      "cell_type": "markdown",
      "source": [
        "##Description:\n",
        "The CIFAR-10 dataset consists of 60,000 color images of 32x32 pixels belonging to 10 classes, with 6,000 images per class. The dataset is divided into 50,000 training and 10,000 testing images. The classes include:\n",
        "\n",
        "Airplane\n",
        "Automobile\n",
        "Bird\n",
        "Cat\n",
        "Deer\n",
        "Dog\n",
        "Frog\n",
        "Horse\n",
        "Ship\n",
        "Truck\n",
        "Unlike Convolutional Neural Networks (CNNs), which are more suited for image classification, this practical explores how a Multilayer Feed Forward Neural Network (MLP) can be used to classify CIFAR-10 images. Since MLPs primarily work with 1D input vectors, the 3D image data needs to be flattened before being passed into the network."
      ],
      "metadata": {
        "id": "eXMzepuRzOwn"
      }
    },
    {
      "cell_type": "markdown",
      "source": [
        "##Installing TensorFlow 2.x\n"
      ],
      "metadata": {
        "id": "WE1ljs3kzipS"
      }
    },
    {
      "cell_type": "code",
      "source": [
        "#verify the installation\n",
        "import tensorflow as tf\n",
        "from tensorflow import keras\n",
        "\n",
        "#Check tf.keras version\n",
        "print(tf.__version__)"
      ],
      "metadata": {
        "id": "UkotrrQUzJSQ",
        "colab": {
          "base_uri": "https://localhost:8080/"
        },
        "outputId": "252c4539-ab7c-4193-815e-2ceef21dcfcc"
      },
      "execution_count": null,
      "outputs": [
        {
          "output_type": "stream",
          "name": "stdout",
          "text": [
            "2.18.0\n"
          ]
        }
      ]
    },
    {
      "cell_type": "markdown",
      "source": [
        "##Preparing the Data"
      ],
      "metadata": {
        "id": "-RY8r1DU0ij1"
      }
    },
    {
      "cell_type": "markdown",
      "source": [
        "###Loading the Data"
      ],
      "metadata": {
        "id": "o3jMT0100jsv"
      }
    },
    {
      "cell_type": "code",
      "source": [
        "from keras.datasets import cifar10\n",
        "\n",
        "# Loading CIFAR-10 dataset\n",
        "(X_train, Y_train), (X_test, Y_test) = cifar10.load_data()\n"
      ],
      "metadata": {
        "colab": {
          "base_uri": "https://localhost:8080/"
        },
        "id": "soSj5-9m0WcU",
        "outputId": "466d13c5-edf6-4e96-e3f1-8fe5bf9eb68f"
      },
      "execution_count": null,
      "outputs": [
        {
          "output_type": "stream",
          "name": "stdout",
          "text": [
            "Downloading data from https://www.cs.toronto.edu/~kriz/cifar-10-python.tar.gz\n",
            "\u001b[1m170498071/170498071\u001b[0m \u001b[32m━━━━━━━━━━━━━━━━━━━━\u001b[0m\u001b[37m\u001b[0m \u001b[1m3s\u001b[0m 0us/step\n"
          ]
        }
      ]
    },
    {
      "cell_type": "code",
      "source": [
        "# Data Exploration\n",
        "print(X_train.shape)\n",
        "print(X_test.shape)"
      ],
      "metadata": {
        "colab": {
          "base_uri": "https://localhost:8080/"
        },
        "id": "9PYUx62Y0wTI",
        "outputId": "009b59e8-c4a2-43fa-abf8-7762eff19946"
      },
      "execution_count": null,
      "outputs": [
        {
          "output_type": "stream",
          "name": "stdout",
          "text": [
            "(50000, 32, 32, 3)\n",
            "(10000, 32, 32, 3)\n"
          ]
        }
      ]
    },
    {
      "cell_type": "markdown",
      "source": [
        "##Data Processing"
      ],
      "metadata": {
        "id": "WhYdspsl01jL"
      }
    },
    {
      "cell_type": "code",
      "source": [
        "X_train = X_train.astype('float32')\n",
        "X_test = X_test.astype('float32')"
      ],
      "metadata": {
        "id": "Mt98b5DE00Sv"
      },
      "execution_count": null,
      "outputs": []
    },
    {
      "cell_type": "code",
      "source": [
        "import tensorflow as tf\n",
        "from keras.datasets import cifar10\n",
        "\n",
        "# Load CIFAR-10 dataset\n",
        "(X_train, Y_train), (X_test, Y_test) = cifar10.load_data()\n",
        "\n",
        "# Reshape the images into a 1D vector of 3072 (32x32x3)\n",
        "RESHAPED = 32 * 32 * 3  # 3072 neurons per input\n",
        "X_train = X_train.reshape(X_train.shape[0], RESHAPED)\n",
        "X_test = X_test.reshape(X_test.shape[0], RESHAPED)\n",
        "\n",
        "# Convert data type to float32 for 32-bit precision\n",
        "X_train = X_train.astype('float32')\n",
        "X_test = X_test.astype('float32')\n",
        "\n",
        "# Normalize pixel values to range [0,1]\n",
        "X_train /= 255.0\n",
        "X_test /= 255.0\n",
        "\n",
        "# Print dataset shape\n",
        "print(X_train.shape, 'train samples')\n",
        "print(X_test.shape, 'test samples')\n",
        "\n",
        "# One-hot encode the labels (10 classes)\n",
        "Y_train = tf.keras.utils.to_categorical(Y_train, 10)\n",
        "Y_test = tf.keras.utils.to_categorical(Y_test, 10)\n",
        "\n"
      ],
      "metadata": {
        "colab": {
          "base_uri": "https://localhost:8080/"
        },
        "id": "BmbvAGOC074L",
        "outputId": "c851d6a6-49ba-48ba-96c2-e0f56e3f317b"
      },
      "execution_count": null,
      "outputs": [
        {
          "output_type": "stream",
          "name": "stdout",
          "text": [
            "(50000, 3072) train samples\n",
            "(10000, 3072) test samples\n"
          ]
        }
      ]
    },
    {
      "cell_type": "markdown",
      "source": [
        "##Designing the Model"
      ],
      "metadata": {
        "id": "x9_upyzv1LBu"
      }
    },
    {
      "cell_type": "markdown",
      "source": [
        "###Preparing the Model 0: Single layer Perceptron"
      ],
      "metadata": {
        "id": "1mug_lkU1Sb6"
      }
    },
    {
      "cell_type": "code",
      "source": [
        "import tensorflow as tf\n",
        "from tensorflow.keras.layers import Dense\n",
        "from tensorflow.keras import Sequential\n",
        "model_0 = Sequential()"
      ],
      "metadata": {
        "id": "I8VbWHpo0_Vp"
      },
      "execution_count": null,
      "outputs": []
    },
    {
      "cell_type": "code",
      "source": [
        "# Now the model will take as input arrays of shape (*, 784)# and output arrays of shape (*, 10)\n",
        "model_0.add(Dense(10,input_shape=(784,),name='dense_layer', activation='softmax'))"
      ],
      "metadata": {
        "colab": {
          "base_uri": "https://localhost:8080/"
        },
        "id": "VKCKM95x13rJ",
        "outputId": "028e9578-b475-4282-f388-577e2570b234"
      },
      "execution_count": null,
      "outputs": [
        {
          "output_type": "stream",
          "name": "stderr",
          "text": [
            "/usr/local/lib/python3.11/dist-packages/keras/src/layers/core/dense.py:87: UserWarning: Do not pass an `input_shape`/`input_dim` argument to a layer. When using Sequential models, prefer using an `Input(shape)` object as the first layer in the model instead.\n",
            "  super().__init__(activity_regularizer=activity_regularizer, **kwargs)\n"
          ]
        }
      ]
    },
    {
      "cell_type": "code",
      "source": [
        "from keras.models import Sequential\n",
        "from keras.layers import Dense\n",
        "\n",
        "# Define the model\n",
        "model_0 = Sequential()\n",
        "\n",
        "# Input layer with 3072 neurons and output layer with 10 neurons (one for each class)\n",
        "model_0.add(Dense(10, input_shape=(3072,), name='dense_layer', activation='softmax'))\n"
      ],
      "metadata": {
        "id": "craqLzaD16mw"
      },
      "execution_count": null,
      "outputs": []
    },
    {
      "cell_type": "code",
      "source": [
        "# Compiling the model.\n",
        "model_0.compile(optimizer='SGD',\n",
        "              loss='categorical_crossentropy',\n",
        "              metrics=['accuracy'])"
      ],
      "metadata": {
        "id": "23eyfnco2Bwu"
      },
      "execution_count": null,
      "outputs": []
    },
    {
      "cell_type": "code",
      "source": [
        "# Training the model.\n",
        "training = model_0.fit(X_train, Y_train, batch_size=64, epochs=40, validation_split=0.2)"
      ],
      "metadata": {
        "colab": {
          "base_uri": "https://localhost:8080/"
        },
        "id": "xGPMy8rg2EWc",
        "outputId": "ebd8f13e-34c9-4b62-e0bc-090079824628"
      },
      "execution_count": null,
      "outputs": [
        {
          "output_type": "stream",
          "name": "stdout",
          "text": [
            "Epoch 1/40\n",
            "\u001b[1m625/625\u001b[0m \u001b[32m━━━━━━━━━━━━━━━━━━━━\u001b[0m\u001b[37m\u001b[0m \u001b[1m3s\u001b[0m 5ms/step - accuracy: 0.4245 - loss: 1.6812 - val_accuracy: 0.3943 - val_loss: 1.7540\n",
            "Epoch 2/40\n",
            "\u001b[1m625/625\u001b[0m \u001b[32m━━━━━━━━━━━━━━━━━━━━\u001b[0m\u001b[37m\u001b[0m \u001b[1m3s\u001b[0m 4ms/step - accuracy: 0.4282 - loss: 1.6794 - val_accuracy: 0.3976 - val_loss: 1.7526\n",
            "Epoch 3/40\n",
            "\u001b[1m625/625\u001b[0m \u001b[32m━━━━━━━━━━━━━━━━━━━━\u001b[0m\u001b[37m\u001b[0m \u001b[1m4s\u001b[0m 3ms/step - accuracy: 0.4254 - loss: 1.6779 - val_accuracy: 0.3734 - val_loss: 1.7916\n",
            "Epoch 4/40\n",
            "\u001b[1m625/625\u001b[0m \u001b[32m━━━━━━━━━━━━━━━━━━━━\u001b[0m\u001b[37m\u001b[0m \u001b[1m3s\u001b[0m 3ms/step - accuracy: 0.4201 - loss: 1.6767 - val_accuracy: 0.3904 - val_loss: 1.7680\n",
            "Epoch 5/40\n",
            "\u001b[1m625/625\u001b[0m \u001b[32m━━━━━━━━━━━━━━━━━━━━\u001b[0m\u001b[37m\u001b[0m \u001b[1m3s\u001b[0m 3ms/step - accuracy: 0.4251 - loss: 1.6691 - val_accuracy: 0.3945 - val_loss: 1.7739\n",
            "Epoch 6/40\n",
            "\u001b[1m625/625\u001b[0m \u001b[32m━━━━━━━━━━━━━━━━━━━━\u001b[0m\u001b[37m\u001b[0m \u001b[1m4s\u001b[0m 6ms/step - accuracy: 0.4265 - loss: 1.6657 - val_accuracy: 0.3988 - val_loss: 1.7497\n",
            "Epoch 7/40\n",
            "\u001b[1m625/625\u001b[0m \u001b[32m━━━━━━━━━━━━━━━━━━━━\u001b[0m\u001b[37m\u001b[0m \u001b[1m2s\u001b[0m 3ms/step - accuracy: 0.4231 - loss: 1.6828 - val_accuracy: 0.3902 - val_loss: 1.7672\n",
            "Epoch 8/40\n",
            "\u001b[1m625/625\u001b[0m \u001b[32m━━━━━━━━━━━━━━━━━━━━\u001b[0m\u001b[37m\u001b[0m \u001b[1m2s\u001b[0m 3ms/step - accuracy: 0.4266 - loss: 1.6732 - val_accuracy: 0.3814 - val_loss: 1.7760\n",
            "Epoch 9/40\n",
            "\u001b[1m625/625\u001b[0m \u001b[32m━━━━━━━━━━━━━━━━━━━━\u001b[0m\u001b[37m\u001b[0m \u001b[1m2s\u001b[0m 3ms/step - accuracy: 0.4256 - loss: 1.6702 - val_accuracy: 0.3881 - val_loss: 1.7574\n",
            "Epoch 10/40\n",
            "\u001b[1m625/625\u001b[0m \u001b[32m━━━━━━━━━━━━━━━━━━━━\u001b[0m\u001b[37m\u001b[0m \u001b[1m3s\u001b[0m 3ms/step - accuracy: 0.4303 - loss: 1.6670 - val_accuracy: 0.4016 - val_loss: 1.7513\n",
            "Epoch 11/40\n",
            "\u001b[1m625/625\u001b[0m \u001b[32m━━━━━━━━━━━━━━━━━━━━\u001b[0m\u001b[37m\u001b[0m \u001b[1m4s\u001b[0m 5ms/step - accuracy: 0.4250 - loss: 1.6765 - val_accuracy: 0.4041 - val_loss: 1.7406\n",
            "Epoch 12/40\n",
            "\u001b[1m625/625\u001b[0m \u001b[32m━━━━━━━━━━━━━━━━━━━━\u001b[0m\u001b[37m\u001b[0m \u001b[1m2s\u001b[0m 3ms/step - accuracy: 0.4248 - loss: 1.6730 - val_accuracy: 0.3941 - val_loss: 1.7565\n",
            "Epoch 13/40\n",
            "\u001b[1m625/625\u001b[0m \u001b[32m━━━━━━━━━━━━━━━━━━━━\u001b[0m\u001b[37m\u001b[0m \u001b[1m3s\u001b[0m 3ms/step - accuracy: 0.4272 - loss: 1.6741 - val_accuracy: 0.3820 - val_loss: 1.7864\n",
            "Epoch 14/40\n",
            "\u001b[1m625/625\u001b[0m \u001b[32m━━━━━━━━━━━━━━━━━━━━\u001b[0m\u001b[37m\u001b[0m \u001b[1m3s\u001b[0m 3ms/step - accuracy: 0.4309 - loss: 1.6602 - val_accuracy: 0.3720 - val_loss: 1.8120\n",
            "Epoch 15/40\n",
            "\u001b[1m625/625\u001b[0m \u001b[32m━━━━━━━━━━━━━━━━━━━━\u001b[0m\u001b[37m\u001b[0m \u001b[1m2s\u001b[0m 3ms/step - accuracy: 0.4321 - loss: 1.6585 - val_accuracy: 0.3975 - val_loss: 1.7444\n",
            "Epoch 16/40\n",
            "\u001b[1m625/625\u001b[0m \u001b[32m━━━━━━━━━━━━━━━━━━━━\u001b[0m\u001b[37m\u001b[0m \u001b[1m3s\u001b[0m 4ms/step - accuracy: 0.4287 - loss: 1.6674 - val_accuracy: 0.3807 - val_loss: 1.7762\n",
            "Epoch 17/40\n",
            "\u001b[1m625/625\u001b[0m \u001b[32m━━━━━━━━━━━━━━━━━━━━\u001b[0m\u001b[37m\u001b[0m \u001b[1m2s\u001b[0m 3ms/step - accuracy: 0.4284 - loss: 1.6684 - val_accuracy: 0.3894 - val_loss: 1.7736\n",
            "Epoch 18/40\n",
            "\u001b[1m625/625\u001b[0m \u001b[32m━━━━━━━━━━━━━━━━━━━━\u001b[0m\u001b[37m\u001b[0m \u001b[1m3s\u001b[0m 4ms/step - accuracy: 0.4261 - loss: 1.6665 - val_accuracy: 0.3952 - val_loss: 1.7648\n",
            "Epoch 19/40\n",
            "\u001b[1m625/625\u001b[0m \u001b[32m━━━━━━━━━━━━━━━━━━━━\u001b[0m\u001b[37m\u001b[0m \u001b[1m2s\u001b[0m 3ms/step - accuracy: 0.4331 - loss: 1.6520 - val_accuracy: 0.3917 - val_loss: 1.7577\n",
            "Epoch 20/40\n",
            "\u001b[1m625/625\u001b[0m \u001b[32m━━━━━━━━━━━━━━━━━━━━\u001b[0m\u001b[37m\u001b[0m \u001b[1m3s\u001b[0m 4ms/step - accuracy: 0.4357 - loss: 1.6509 - val_accuracy: 0.3769 - val_loss: 1.7859\n",
            "Epoch 21/40\n",
            "\u001b[1m625/625\u001b[0m \u001b[32m━━━━━━━━━━━━━━━━━━━━\u001b[0m\u001b[37m\u001b[0m \u001b[1m2s\u001b[0m 4ms/step - accuracy: 0.4328 - loss: 1.6524 - val_accuracy: 0.3988 - val_loss: 1.7790\n",
            "Epoch 22/40\n",
            "\u001b[1m625/625\u001b[0m \u001b[32m━━━━━━━━━━━━━━━━━━━━\u001b[0m\u001b[37m\u001b[0m \u001b[1m2s\u001b[0m 3ms/step - accuracy: 0.4342 - loss: 1.6555 - val_accuracy: 0.3938 - val_loss: 1.7563\n",
            "Epoch 23/40\n",
            "\u001b[1m625/625\u001b[0m \u001b[32m━━━━━━━━━━━━━━━━━━━━\u001b[0m\u001b[37m\u001b[0m \u001b[1m2s\u001b[0m 3ms/step - accuracy: 0.4359 - loss: 1.6476 - val_accuracy: 0.3980 - val_loss: 1.7621\n",
            "Epoch 24/40\n",
            "\u001b[1m625/625\u001b[0m \u001b[32m━━━━━━━━━━━━━━━━━━━━\u001b[0m\u001b[37m\u001b[0m \u001b[1m2s\u001b[0m 3ms/step - accuracy: 0.4346 - loss: 1.6477 - val_accuracy: 0.3768 - val_loss: 1.8016\n",
            "Epoch 25/40\n",
            "\u001b[1m625/625\u001b[0m \u001b[32m━━━━━━━━━━━━━━━━━━━━\u001b[0m\u001b[37m\u001b[0m \u001b[1m3s\u001b[0m 3ms/step - accuracy: 0.4319 - loss: 1.6561 - val_accuracy: 0.4025 - val_loss: 1.7457\n",
            "Epoch 26/40\n",
            "\u001b[1m625/625\u001b[0m \u001b[32m━━━━━━━━━━━━━━━━━━━━\u001b[0m\u001b[37m\u001b[0m \u001b[1m3s\u001b[0m 4ms/step - accuracy: 0.4376 - loss: 1.6468 - val_accuracy: 0.3882 - val_loss: 1.7661\n",
            "Epoch 27/40\n",
            "\u001b[1m625/625\u001b[0m \u001b[32m━━━━━━━━━━━━━━━━━━━━\u001b[0m\u001b[37m\u001b[0m \u001b[1m2s\u001b[0m 3ms/step - accuracy: 0.4342 - loss: 1.6539 - val_accuracy: 0.3975 - val_loss: 1.7691\n",
            "Epoch 28/40\n",
            "\u001b[1m625/625\u001b[0m \u001b[32m━━━━━━━━━━━━━━━━━━━━\u001b[0m\u001b[37m\u001b[0m \u001b[1m2s\u001b[0m 3ms/step - accuracy: 0.4303 - loss: 1.6590 - val_accuracy: 0.3837 - val_loss: 1.7918\n",
            "Epoch 29/40\n",
            "\u001b[1m625/625\u001b[0m \u001b[32m━━━━━━━━━━━━━━━━━━━━\u001b[0m\u001b[37m\u001b[0m \u001b[1m3s\u001b[0m 3ms/step - accuracy: 0.4337 - loss: 1.6533 - val_accuracy: 0.4024 - val_loss: 1.7501\n",
            "Epoch 30/40\n",
            "\u001b[1m625/625\u001b[0m \u001b[32m━━━━━━━━━━━━━━━━━━━━\u001b[0m\u001b[37m\u001b[0m \u001b[1m3s\u001b[0m 3ms/step - accuracy: 0.4341 - loss: 1.6473 - val_accuracy: 0.3978 - val_loss: 1.7601\n",
            "Epoch 31/40\n",
            "\u001b[1m625/625\u001b[0m \u001b[32m━━━━━━━━━━━━━━━━━━━━\u001b[0m\u001b[37m\u001b[0m \u001b[1m3s\u001b[0m 4ms/step - accuracy: 0.4384 - loss: 1.6411 - val_accuracy: 0.3880 - val_loss: 1.7669\n",
            "Epoch 32/40\n",
            "\u001b[1m625/625\u001b[0m \u001b[32m━━━━━━━━━━━━━━━━━━━━\u001b[0m\u001b[37m\u001b[0m \u001b[1m4s\u001b[0m 3ms/step - accuracy: 0.4362 - loss: 1.6508 - val_accuracy: 0.3901 - val_loss: 1.7591\n",
            "Epoch 33/40\n",
            "\u001b[1m625/625\u001b[0m \u001b[32m━━━━━━━━━━━━━━━━━━━━\u001b[0m\u001b[37m\u001b[0m \u001b[1m2s\u001b[0m 3ms/step - accuracy: 0.4368 - loss: 1.6431 - val_accuracy: 0.3931 - val_loss: 1.7708\n",
            "Epoch 34/40\n",
            "\u001b[1m625/625\u001b[0m \u001b[32m━━━━━━━━━━━━━━━━━━━━\u001b[0m\u001b[37m\u001b[0m \u001b[1m2s\u001b[0m 3ms/step - accuracy: 0.4348 - loss: 1.6506 - val_accuracy: 0.3677 - val_loss: 1.8066\n",
            "Epoch 35/40\n",
            "\u001b[1m625/625\u001b[0m \u001b[32m━━━━━━━━━━━━━━━━━━━━\u001b[0m\u001b[37m\u001b[0m \u001b[1m3s\u001b[0m 4ms/step - accuracy: 0.4396 - loss: 1.6387 - val_accuracy: 0.3990 - val_loss: 1.7600\n",
            "Epoch 36/40\n",
            "\u001b[1m625/625\u001b[0m \u001b[32m━━━━━━━━━━━━━━━━━━━━\u001b[0m\u001b[37m\u001b[0m \u001b[1m4s\u001b[0m 3ms/step - accuracy: 0.4386 - loss: 1.6431 - val_accuracy: 0.3997 - val_loss: 1.7651\n",
            "Epoch 37/40\n",
            "\u001b[1m625/625\u001b[0m \u001b[32m━━━━━━━━━━━━━━━━━━━━\u001b[0m\u001b[37m\u001b[0m \u001b[1m3s\u001b[0m 3ms/step - accuracy: 0.4364 - loss: 1.6434 - val_accuracy: 0.3822 - val_loss: 1.7870\n",
            "Epoch 38/40\n",
            "\u001b[1m625/625\u001b[0m \u001b[32m━━━━━━━━━━━━━━━━━━━━\u001b[0m\u001b[37m\u001b[0m \u001b[1m2s\u001b[0m 3ms/step - accuracy: 0.4398 - loss: 1.6360 - val_accuracy: 0.3916 - val_loss: 1.7708\n",
            "Epoch 39/40\n",
            "\u001b[1m625/625\u001b[0m \u001b[32m━━━━━━━━━━━━━━━━━━━━\u001b[0m\u001b[37m\u001b[0m \u001b[1m3s\u001b[0m 4ms/step - accuracy: 0.4303 - loss: 1.6476 - val_accuracy: 0.3995 - val_loss: 1.7517\n",
            "Epoch 40/40\n",
            "\u001b[1m625/625\u001b[0m \u001b[32m━━━━━━━━━━━━━━━━━━━━\u001b[0m\u001b[37m\u001b[0m \u001b[1m2s\u001b[0m 4ms/step - accuracy: 0.4333 - loss: 1.6465 - val_accuracy: 0.3992 - val_loss: 1.7646\n"
          ]
        }
      ]
    },
    {
      "cell_type": "code",
      "source": [
        "import matplotlib.pyplot as plt\n",
        "%matplotlib inline\n",
        "# list all data in training\n",
        "print(training.history.keys())"
      ],
      "metadata": {
        "colab": {
          "base_uri": "https://localhost:8080/"
        },
        "id": "lTHsbvq82Gye",
        "outputId": "7640cc52-5a0a-49b3-f177-e1c4828a88c2"
      },
      "execution_count": null,
      "outputs": [
        {
          "output_type": "stream",
          "name": "stdout",
          "text": [
            "dict_keys(['accuracy', 'loss', 'val_accuracy', 'val_loss'])\n"
          ]
        }
      ]
    },
    {
      "cell_type": "code",
      "source": [
        "\n",
        "# summarize training for accuracy\n",
        "plt.plot(training.history['accuracy'])\n",
        "plt.plot(training.history['val_accuracy'])\n",
        "plt.title('model accuracy')\n",
        "plt.ylabel('accuracy')\n",
        "plt.xlabel('epoch')\n",
        "plt.legend(['train', 'test'], loc='upper left')\n",
        "plt.show()"
      ],
      "metadata": {
        "colab": {
          "base_uri": "https://localhost:8080/",
          "height": 471
        },
        "id": "jf6Dvd5z2K0t",
        "outputId": "c93f5798-0c08-4c30-b7d2-563643ae89cc"
      },
      "execution_count": null,
      "outputs": [
        {
          "output_type": "display_data",
          "data": {
            "text/plain": [
              "<Figure size 640x480 with 1 Axes>"
            ],
            "image/png": "[encoded data removed]"
          },
          "metadata": {}
        }
      ]
    },
    {
      "cell_type": "markdown",
      "source": [
        "Accuracy Graph Analysis: The model shows overfitting as training accuracy improves while test accuracy fluctuates and remains low."
      ],
      "metadata": {
        "id": "8fwMHH7l3g_T"
      }
    },
    {
      "cell_type": "code",
      "source": [
        "# summarize traning for loss\n",
        "plt.plot(training.history['loss'])\n",
        "plt.plot(training.history['val_loss'])\n",
        "plt.title('model loss')\n",
        "plt.ylabel('loss')\n",
        "plt.xlabel('epoch')\n",
        "plt.legend(['train', 'test'], loc='upper left')\n",
        "plt.show()"
      ],
      "metadata": {
        "colab": {
          "base_uri": "https://localhost:8080/",
          "height": 471
        },
        "id": "twLxrlDP2PHv",
        "outputId": "6361b064-745f-4ece-d5f4-8f19b9bafae8"
      },
      "execution_count": null,
      "outputs": [
        {
          "output_type": "display_data",
          "data": {
            "text/plain": [
              "<Figure size 640x480 with 1 Axes>"
            ],
            "image/png": "[encoded data removed]"
          },
          "metadata": {}
        }
      ]
    },
    {
      "cell_type": "markdown",
      "source": [
        "Loss Graph Analysis: The decreasing training loss and highly fluctuating test loss indicate poor generalization and overfitting."
      ],
      "metadata": {
        "id": "TyqyMAWx3nxh"
      }
    },
    {
      "cell_type": "code",
      "source": [
        "#evaluate the model\n",
        "test_loss, test_acc = model_0.evaluate(X_test, Y_test)\n",
        "print('Test accuracy:', test_acc)"
      ],
      "metadata": {
        "colab": {
          "base_uri": "https://localhost:8080/"
        },
        "id": "0guaHp_Z2QLK",
        "outputId": "e3ed0d45-da16-43d5-f98a-df75ea483a7f"
      },
      "execution_count": null,
      "outputs": [
        {
          "output_type": "stream",
          "name": "stdout",
          "text": [
            "\u001b[1m313/313\u001b[0m \u001b[32m━━━━━━━━━━━━━━━━━━━━\u001b[0m\u001b[37m\u001b[0m \u001b[1m1s\u001b[0m 2ms/step - accuracy: 0.3954 - loss: 1.7441\n",
            "Test accuracy: 0.3935999870300293\n"
          ]
        }
      ]
    },
    {
      "cell_type": "code",
      "source": [
        "model_0.summary()"
      ],
      "metadata": {
        "colab": {
          "base_uri": "https://localhost:8080/",
          "height": 181
        },
        "id": "DI1U5Sko2kfN",
        "outputId": "486fdc66-8b24-464a-ae63-08338fd5197b"
      },
      "execution_count": null,
      "outputs": [
        {
          "output_type": "display_data",
          "data": {
            "text/plain": [
              "\u001b[1mModel: \"sequential_1\"\u001b[0m\n"
            ],
            "text/html": [
              "<pre style=\"white-space:pre;overflow-x:auto;line-height:normal;font-family:Menlo,'DejaVu Sans Mono',consolas,'Courier New',monospace\"><span style=\"font-weight: bold\">Model: \"sequential_1\"</span>\n",
              "</pre>\n"
            ]
          },
          "metadata": {}
        },
        {
          "output_type": "display_data",
          "data": {
            "text/plain": [
              "┏━━━━━━━━━━━━━━━━━━━━━━━━━━━━━━━━━━━━━━┳━━━━━━━━━━━━━━━━━━━━━━━━━━━━━┳━━━━━━━━━━━━━━━━━┓\n",
              "┃\u001b[1m \u001b[0m\u001b[1mLayer (type)                        \u001b[0m\u001b[1m \u001b[0m┃\u001b[1m \u001b[0m\u001b[1mOutput Shape               \u001b[0m\u001b[1m \u001b[0m┃\u001b[1m \u001b[0m\u001b[1m        Param #\u001b[0m\u001b[1m \u001b[0m┃\n",
              "┡━━━━━━━━━━━━━━━━━━━━━━━━━━━━━━━━━━━━━━╇━━━━━━━━━━━━━━━━━━━━━━━━━━━━━╇━━━━━━━━━━━━━━━━━┩\n",
              "│ dense_layer (\u001b[38;5;33mDense\u001b[0m)                  │ (\u001b[38;5;45mNone\u001b[0m, \u001b[38;5;34m10\u001b[0m)                  │          \u001b[38;5;34m30,730\u001b[0m │\n",
              "└──────────────────────────────────────┴─────────────────────────────┴─────────────────┘\n"
            ],
            "text/html": [
              "<pre style=\"white-space:pre;overflow-x:auto;line-height:normal;font-family:Menlo,'DejaVu Sans Mono',consolas,'Courier New',monospace\">┏━━━━━━━━━━━━━━━━━━━━━━━━━━━━━━━━━━━━━━┳━━━━━━━━━━━━━━━━━━━━━━━━━━━━━┳━━━━━━━━━━━━━━━━━┓\n",
              "┃<span style=\"font-weight: bold\"> Layer (type)                         </span>┃<span style=\"font-weight: bold\"> Output Shape                </span>┃<span style=\"font-weight: bold\">         Param # </span>┃\n",
              "┡━━━━━━━━━━━━━━━━━━━━━━━━━━━━━━━━━━━━━━╇━━━━━━━━━━━━━━━━━━━━━━━━━━━━━╇━━━━━━━━━━━━━━━━━┩\n",
              "│ dense_layer (<span style=\"color: #0087ff; text-decoration-color: #0087ff\">Dense</span>)                  │ (<span style=\"color: #00d7ff; text-decoration-color: #00d7ff\">None</span>, <span style=\"color: #00af00; text-decoration-color: #00af00\">10</span>)                  │          <span style=\"color: #00af00; text-decoration-color: #00af00\">30,730</span> │\n",
              "└──────────────────────────────────────┴─────────────────────────────┴─────────────────┘\n",
              "</pre>\n"
            ]
          },
          "metadata": {}
        },
        {
          "output_type": "display_data",
          "data": {
            "text/plain": [
              "\u001b[1m Total params: \u001b[0m\u001b[38;5;34m30,732\u001b[0m (120.05 KB)\n"
            ],
            "text/html": [
              "<pre style=\"white-space:pre;overflow-x:auto;line-height:normal;font-family:Menlo,'DejaVu Sans Mono',consolas,'Courier New',monospace\"><span style=\"font-weight: bold\"> Total params: </span><span style=\"color: #00af00; text-decoration-color: #00af00\">30,732</span> (120.05 KB)\n",
              "</pre>\n"
            ]
          },
          "metadata": {}
        },
        {
          "output_type": "display_data",
          "data": {
            "text/plain": [
              "\u001b[1m Trainable params: \u001b[0m\u001b[38;5;34m30,730\u001b[0m (120.04 KB)\n"
            ],
            "text/html": [
              "<pre style=\"white-space:pre;overflow-x:auto;line-height:normal;font-family:Menlo,'DejaVu Sans Mono',consolas,'Courier New',monospace\"><span style=\"font-weight: bold\"> Trainable params: </span><span style=\"color: #00af00; text-decoration-color: #00af00\">30,730</span> (120.04 KB)\n",
              "</pre>\n"
            ]
          },
          "metadata": {}
        },
        {
          "output_type": "display_data",
          "data": {
            "text/plain": [
              "\u001b[1m Non-trainable params: \u001b[0m\u001b[38;5;34m0\u001b[0m (0.00 B)\n"
            ],
            "text/html": [
              "<pre style=\"white-space:pre;overflow-x:auto;line-height:normal;font-family:Menlo,'DejaVu Sans Mono',consolas,'Courier New',monospace\"><span style=\"font-weight: bold\"> Non-trainable params: </span><span style=\"color: #00af00; text-decoration-color: #00af00\">0</span> (0.00 B)\n",
              "</pre>\n"
            ]
          },
          "metadata": {}
        },
        {
          "output_type": "display_data",
          "data": {
            "text/plain": [
              "\u001b[1m Optimizer params: \u001b[0m\u001b[38;5;34m2\u001b[0m (12.00 B)\n"
            ],
            "text/html": [
              "<pre style=\"white-space:pre;overflow-x:auto;line-height:normal;font-family:Menlo,'DejaVu Sans Mono',consolas,'Courier New',monospace\"><span style=\"font-weight: bold\"> Optimizer params: </span><span style=\"color: #00af00; text-decoration-color: #00af00\">2</span> (12.00 B)\n",
              "</pre>\n"
            ]
          },
          "metadata": {}
        }
      ]
    },
    {
      "cell_type": "markdown",
      "source": [
        "###Improved Model 1: Adding Hidden Layer - Multi Layer Perceptron"
      ],
      "metadata": {
        "id": "pZvxPapb2rWD"
      }
    },
    {
      "cell_type": "code",
      "source": [
        "import tensorflow as tf\n",
        "from keras.models import Sequential\n",
        "from keras.layers import Dense\n",
        "\n",
        "# Define the model\n",
        "model_1 = tf.keras.Sequential()\n",
        "\n",
        "N_hidden = 64  # Number of neurons in hidden layers\n",
        "\n",
        "# Input layer with 3072 neurons (32x32x3 flattened)\n",
        "model_1.add(Dense(N_hidden, name='dense_layer', input_shape=(3072,), activation='relu'))\n",
        "\n",
        "# Second hidden layer with 64 neurons\n",
        "model_1.add(Dense(N_hidden, name='dense_layer_2', activation='relu'))\n",
        "\n",
        "# Output layer with 10 neurons (one per CIFAR-10 class)\n",
        "model_1.add(Dense(10, name='dense_layer_3', activation='softmax'))\n"
      ],
      "metadata": {
        "id": "6I9H53PL2mhA"
      },
      "execution_count": null,
      "outputs": []
    },
    {
      "cell_type": "code",
      "source": [
        "# Compiling the model.\n",
        "model_1.compile(optimizer='SGD',\n",
        "              loss='categorical_crossentropy',\n",
        "              metrics=['accuracy'])"
      ],
      "metadata": {
        "id": "wEB9M3eS231T"
      },
      "execution_count": null,
      "outputs": []
    },
    {
      "cell_type": "code",
      "source": [
        "# Training the model.\n",
        "training = model_1.fit(X_train, Y_train, batch_size=64, epochs=70, validation_split=0.2)"
      ],
      "metadata": {
        "colab": {
          "base_uri": "https://localhost:8080/"
        },
        "id": "mkBKCzfQ24q8",
        "outputId": "6f089091-e27e-4609-8e69-2b9ee90134cc"
      },
      "execution_count": null,
      "outputs": [
        {
          "output_type": "stream",
          "name": "stdout",
          "text": [
            "Epoch 1/70\n",
            "\u001b[1m625/625\u001b[0m \u001b[32m━━━━━━━━━━━━━━━━━━━━\u001b[0m\u001b[37m\u001b[0m \u001b[1m4s\u001b[0m 5ms/step - accuracy: 0.2214 - loss: 2.1189 - val_accuracy: 0.3240 - val_loss: 1.8782\n",
            "Epoch 2/70\n",
            "\u001b[1m625/625\u001b[0m \u001b[32m━━━━━━━━━━━━━━━━━━━━\u001b[0m\u001b[37m\u001b[0m \u001b[1m5s\u001b[0m 5ms/step - accuracy: 0.3436 - loss: 1.8484 - val_accuracy: 0.3616 - val_loss: 1.8008\n",
            "Epoch 3/70\n",
            "\u001b[1m625/625\u001b[0m \u001b[32m━━━━━━━━━━━━━━━━━━━━\u001b[0m\u001b[37m\u001b[0m \u001b[1m5s\u001b[0m 5ms/step - accuracy: 0.3767 - loss: 1.7638 - val_accuracy: 0.3583 - val_loss: 1.7825\n",
            "Epoch 4/70\n",
            "\u001b[1m625/625\u001b[0m \u001b[32m━━━━━━━━━━━━━━━━━━━━\u001b[0m\u001b[37m\u001b[0m \u001b[1m5s\u001b[0m 4ms/step - accuracy: 0.3944 - loss: 1.7116 - val_accuracy: 0.3909 - val_loss: 1.7219\n",
            "Epoch 5/70\n",
            "\u001b[1m625/625\u001b[0m \u001b[32m━━━━━━━━━━━━━━━━━━━━\u001b[0m\u001b[37m\u001b[0m \u001b[1m4s\u001b[0m 6ms/step - accuracy: 0.4069 - loss: 1.6803 - val_accuracy: 0.4119 - val_loss: 1.6694\n",
            "Epoch 6/70\n",
            "\u001b[1m625/625\u001b[0m \u001b[32m━━━━━━━━━━━━━━━━━━━━\u001b[0m\u001b[37m\u001b[0m \u001b[1m3s\u001b[0m 5ms/step - accuracy: 0.4250 - loss: 1.6365 - val_accuracy: 0.4033 - val_loss: 1.6743\n",
            "Epoch 7/70\n",
            "\u001b[1m625/625\u001b[0m \u001b[32m━━━━━━━━━━━━━━━━━━━━\u001b[0m\u001b[37m\u001b[0m \u001b[1m5s\u001b[0m 5ms/step - accuracy: 0.4323 - loss: 1.6090 - val_accuracy: 0.4246 - val_loss: 1.6265\n",
            "Epoch 8/70\n",
            "\u001b[1m625/625\u001b[0m \u001b[32m━━━━━━━━━━━━━━━━━━━━\u001b[0m\u001b[37m\u001b[0m \u001b[1m6s\u001b[0m 6ms/step - accuracy: 0.4381 - loss: 1.5861 - val_accuracy: 0.3903 - val_loss: 1.6949\n",
            "Epoch 9/70\n",
            "\u001b[1m625/625\u001b[0m \u001b[32m━━━━━━━━━━━━━━━━━━━━\u001b[0m\u001b[37m\u001b[0m \u001b[1m3s\u001b[0m 4ms/step - accuracy: 0.4466 - loss: 1.5644 - val_accuracy: 0.4411 - val_loss: 1.5965\n",
            "Epoch 10/70\n",
            "\u001b[1m625/625\u001b[0m \u001b[32m━━━━━━━━━━━━━━━━━━━━\u001b[0m\u001b[37m\u001b[0m \u001b[1m5s\u001b[0m 5ms/step - accuracy: 0.4513 - loss: 1.5492 - val_accuracy: 0.4383 - val_loss: 1.5909\n",
            "Epoch 11/70\n",
            "\u001b[1m625/625\u001b[0m \u001b[32m━━━━━━━━━━━━━━━━━━━━\u001b[0m\u001b[37m\u001b[0m \u001b[1m5s\u001b[0m 5ms/step - accuracy: 0.4595 - loss: 1.5312 - val_accuracy: 0.4527 - val_loss: 1.5567\n",
            "Epoch 12/70\n",
            "\u001b[1m625/625\u001b[0m \u001b[32m━━━━━━━━━━━━━━━━━━━━\u001b[0m\u001b[37m\u001b[0m \u001b[1m3s\u001b[0m 4ms/step - accuracy: 0.4663 - loss: 1.5111 - val_accuracy: 0.4546 - val_loss: 1.5553\n",
            "Epoch 13/70\n",
            "\u001b[1m625/625\u001b[0m \u001b[32m━━━━━━━━━━━━━━━━━━━━\u001b[0m\u001b[37m\u001b[0m \u001b[1m6s\u001b[0m 5ms/step - accuracy: 0.4743 - loss: 1.4939 - val_accuracy: 0.4517 - val_loss: 1.5626\n",
            "Epoch 14/70\n",
            "\u001b[1m625/625\u001b[0m \u001b[32m━━━━━━━━━━━━━━━━━━━━\u001b[0m\u001b[37m\u001b[0m \u001b[1m5s\u001b[0m 5ms/step - accuracy: 0.4779 - loss: 1.4793 - val_accuracy: 0.4359 - val_loss: 1.5901\n",
            "Epoch 15/70\n",
            "\u001b[1m625/625\u001b[0m \u001b[32m━━━━━━━━━━━━━━━━━━━━\u001b[0m\u001b[37m\u001b[0m \u001b[1m3s\u001b[0m 4ms/step - accuracy: 0.4793 - loss: 1.4681 - val_accuracy: 0.4588 - val_loss: 1.5418\n",
            "Epoch 16/70\n",
            "\u001b[1m625/625\u001b[0m \u001b[32m━━━━━━━━━━━━━━━━━━━━\u001b[0m\u001b[37m\u001b[0m \u001b[1m3s\u001b[0m 5ms/step - accuracy: 0.4890 - loss: 1.4515 - val_accuracy: 0.4669 - val_loss: 1.5201\n",
            "Epoch 17/70\n",
            "\u001b[1m625/625\u001b[0m \u001b[32m━━━━━━━━━━━━━━━━━━━━\u001b[0m\u001b[37m\u001b[0m \u001b[1m5s\u001b[0m 4ms/step - accuracy: 0.4968 - loss: 1.4336 - val_accuracy: 0.4707 - val_loss: 1.5058\n",
            "Epoch 18/70\n",
            "\u001b[1m625/625\u001b[0m \u001b[32m━━━━━━━━━━━━━━━━━━━━\u001b[0m\u001b[37m\u001b[0m \u001b[1m5s\u001b[0m 5ms/step - accuracy: 0.5020 - loss: 1.4177 - val_accuracy: 0.4391 - val_loss: 1.5765\n",
            "Epoch 19/70\n",
            "\u001b[1m625/625\u001b[0m \u001b[32m━━━━━━━━━━━━━━━━━━━━\u001b[0m\u001b[37m\u001b[0m \u001b[1m3s\u001b[0m 6ms/step - accuracy: 0.5042 - loss: 1.4079 - val_accuracy: 0.4678 - val_loss: 1.5152\n",
            "Epoch 20/70\n",
            "\u001b[1m625/625\u001b[0m \u001b[32m━━━━━━━━━━━━━━━━━━━━\u001b[0m\u001b[37m\u001b[0m \u001b[1m3s\u001b[0m 5ms/step - accuracy: 0.5051 - loss: 1.4032 - val_accuracy: 0.4567 - val_loss: 1.5400\n",
            "Epoch 21/70\n",
            "\u001b[1m625/625\u001b[0m \u001b[32m━━━━━━━━━━━━━━━━━━━━\u001b[0m\u001b[37m\u001b[0m \u001b[1m3s\u001b[0m 5ms/step - accuracy: 0.5087 - loss: 1.3970 - val_accuracy: 0.4818 - val_loss: 1.4918\n",
            "Epoch 22/70\n",
            "\u001b[1m625/625\u001b[0m \u001b[32m━━━━━━━━━━━━━━━━━━━━\u001b[0m\u001b[37m\u001b[0m \u001b[1m3s\u001b[0m 4ms/step - accuracy: 0.5126 - loss: 1.3743 - val_accuracy: 0.4730 - val_loss: 1.5016\n",
            "Epoch 23/70\n",
            "\u001b[1m625/625\u001b[0m \u001b[32m━━━━━━━━━━━━━━━━━━━━\u001b[0m\u001b[37m\u001b[0m \u001b[1m6s\u001b[0m 6ms/step - accuracy: 0.5180 - loss: 1.3727 - val_accuracy: 0.4757 - val_loss: 1.4978\n",
            "Epoch 24/70\n",
            "\u001b[1m625/625\u001b[0m \u001b[32m━━━━━━━━━━━━━━━━━━━━\u001b[0m\u001b[37m\u001b[0m \u001b[1m3s\u001b[0m 4ms/step - accuracy: 0.5172 - loss: 1.3759 - val_accuracy: 0.4745 - val_loss: 1.4944\n",
            "Epoch 25/70\n",
            "\u001b[1m625/625\u001b[0m \u001b[32m━━━━━━━━━━━━━━━━━━━━\u001b[0m\u001b[37m\u001b[0m \u001b[1m3s\u001b[0m 4ms/step - accuracy: 0.5295 - loss: 1.3566 - val_accuracy: 0.4850 - val_loss: 1.4818\n",
            "Epoch 26/70\n",
            "\u001b[1m625/625\u001b[0m \u001b[32m━━━━━━━━━━━━━━━━━━━━\u001b[0m\u001b[37m\u001b[0m \u001b[1m6s\u001b[0m 6ms/step - accuracy: 0.5203 - loss: 1.3561 - val_accuracy: 0.4805 - val_loss: 1.4705\n",
            "Epoch 27/70\n",
            "\u001b[1m625/625\u001b[0m \u001b[32m━━━━━━━━━━━━━━━━━━━━\u001b[0m\u001b[37m\u001b[0m \u001b[1m4s\u001b[0m 4ms/step - accuracy: 0.5307 - loss: 1.3364 - val_accuracy: 0.4614 - val_loss: 1.5243\n",
            "Epoch 28/70\n",
            "\u001b[1m625/625\u001b[0m \u001b[32m━━━━━━━━━━━━━━━━━━━━\u001b[0m\u001b[37m\u001b[0m \u001b[1m3s\u001b[0m 4ms/step - accuracy: 0.5222 - loss: 1.3499 - val_accuracy: 0.4782 - val_loss: 1.5139\n",
            "Epoch 29/70\n",
            "\u001b[1m625/625\u001b[0m \u001b[32m━━━━━━━━━━━━━━━━━━━━\u001b[0m\u001b[37m\u001b[0m \u001b[1m3s\u001b[0m 5ms/step - accuracy: 0.5335 - loss: 1.3225 - val_accuracy: 0.4848 - val_loss: 1.4784\n",
            "Epoch 30/70\n",
            "\u001b[1m625/625\u001b[0m \u001b[32m━━━━━━━━━━━━━━━━━━━━\u001b[0m\u001b[37m\u001b[0m \u001b[1m5s\u001b[0m 4ms/step - accuracy: 0.5363 - loss: 1.3141 - val_accuracy: 0.4861 - val_loss: 1.4820\n",
            "Epoch 31/70\n",
            "\u001b[1m625/625\u001b[0m \u001b[32m━━━━━━━━━━━━━━━━━━━━\u001b[0m\u001b[37m\u001b[0m \u001b[1m3s\u001b[0m 4ms/step - accuracy: 0.5355 - loss: 1.3217 - val_accuracy: 0.4889 - val_loss: 1.4636\n",
            "Epoch 32/70\n",
            "\u001b[1m625/625\u001b[0m \u001b[32m━━━━━━━━━━━━━━━━━━━━\u001b[0m\u001b[37m\u001b[0m \u001b[1m6s\u001b[0m 6ms/step - accuracy: 0.5385 - loss: 1.3121 - val_accuracy: 0.4903 - val_loss: 1.4603\n",
            "Epoch 33/70\n",
            "\u001b[1m625/625\u001b[0m \u001b[32m━━━━━━━━━━━━━━━━━━━━\u001b[0m\u001b[37m\u001b[0m \u001b[1m4s\u001b[0m 5ms/step - accuracy: 0.5377 - loss: 1.3061 - val_accuracy: 0.4757 - val_loss: 1.4996\n",
            "Epoch 34/70\n",
            "\u001b[1m625/625\u001b[0m \u001b[32m━━━━━━━━━━━━━━━━━━━━\u001b[0m\u001b[37m\u001b[0m \u001b[1m5s\u001b[0m 5ms/step - accuracy: 0.5486 - loss: 1.2843 - val_accuracy: 0.4927 - val_loss: 1.4571\n",
            "Epoch 35/70\n",
            "\u001b[1m625/625\u001b[0m \u001b[32m━━━━━━━━━━━━━━━━━━━━\u001b[0m\u001b[37m\u001b[0m \u001b[1m5s\u001b[0m 5ms/step - accuracy: 0.5451 - loss: 1.2938 - val_accuracy: 0.4936 - val_loss: 1.4522\n",
            "Epoch 36/70\n",
            "\u001b[1m625/625\u001b[0m \u001b[32m━━━━━━━━━━━━━━━━━━━━\u001b[0m\u001b[37m\u001b[0m \u001b[1m3s\u001b[0m 5ms/step - accuracy: 0.5488 - loss: 1.2742 - val_accuracy: 0.4767 - val_loss: 1.4995\n",
            "Epoch 37/70\n",
            "\u001b[1m625/625\u001b[0m \u001b[32m━━━━━━━━━━━━━━━━━━━━\u001b[0m\u001b[37m\u001b[0m \u001b[1m3s\u001b[0m 4ms/step - accuracy: 0.5450 - loss: 1.2822 - val_accuracy: 0.5029 - val_loss: 1.4346\n",
            "Epoch 38/70\n",
            "\u001b[1m625/625\u001b[0m \u001b[32m━━━━━━━━━━━━━━━━━━━━\u001b[0m\u001b[37m\u001b[0m \u001b[1m6s\u001b[0m 5ms/step - accuracy: 0.5543 - loss: 1.2766 - val_accuracy: 0.4751 - val_loss: 1.5298\n",
            "Epoch 39/70\n",
            "\u001b[1m625/625\u001b[0m \u001b[32m━━━━━━━━━━━━━━━━━━━━\u001b[0m\u001b[37m\u001b[0m \u001b[1m5s\u001b[0m 4ms/step - accuracy: 0.5595 - loss: 1.2557 - val_accuracy: 0.4916 - val_loss: 1.4735\n",
            "Epoch 40/70\n",
            "\u001b[1m625/625\u001b[0m \u001b[32m━━━━━━━━━━━━━━━━━━━━\u001b[0m\u001b[37m\u001b[0m \u001b[1m3s\u001b[0m 4ms/step - accuracy: 0.5579 - loss: 1.2599 - val_accuracy: 0.4944 - val_loss: 1.4468\n",
            "Epoch 41/70\n",
            "\u001b[1m625/625\u001b[0m \u001b[32m━━━━━━━━━━━━━━━━━━━━\u001b[0m\u001b[37m\u001b[0m \u001b[1m4s\u001b[0m 6ms/step - accuracy: 0.5549 - loss: 1.2513 - val_accuracy: 0.5060 - val_loss: 1.4343\n",
            "Epoch 42/70\n",
            "\u001b[1m625/625\u001b[0m \u001b[32m━━━━━━━━━━━━━━━━━━━━\u001b[0m\u001b[37m\u001b[0m \u001b[1m3s\u001b[0m 4ms/step - accuracy: 0.5633 - loss: 1.2406 - val_accuracy: 0.4960 - val_loss: 1.4429\n",
            "Epoch 43/70\n",
            "\u001b[1m625/625\u001b[0m \u001b[32m━━━━━━━━━━━━━━━━━━━━\u001b[0m\u001b[37m\u001b[0m \u001b[1m5s\u001b[0m 4ms/step - accuracy: 0.5626 - loss: 1.2475 - val_accuracy: 0.5003 - val_loss: 1.4407\n",
            "Epoch 44/70\n",
            "\u001b[1m625/625\u001b[0m \u001b[32m━━━━━━━━━━━━━━━━━━━━\u001b[0m\u001b[37m\u001b[0m \u001b[1m5s\u001b[0m 5ms/step - accuracy: 0.5619 - loss: 1.2437 - val_accuracy: 0.5027 - val_loss: 1.4260\n",
            "Epoch 45/70\n",
            "\u001b[1m625/625\u001b[0m \u001b[32m━━━━━━━━━━━━━━━━━━━━\u001b[0m\u001b[37m\u001b[0m \u001b[1m5s\u001b[0m 4ms/step - accuracy: 0.5660 - loss: 1.2317 - val_accuracy: 0.4795 - val_loss: 1.4985\n",
            "Epoch 46/70\n",
            "\u001b[1m625/625\u001b[0m \u001b[32m━━━━━━━━━━━━━━━━━━━━\u001b[0m\u001b[37m\u001b[0m \u001b[1m6s\u001b[0m 6ms/step - accuracy: 0.5667 - loss: 1.2310 - val_accuracy: 0.5059 - val_loss: 1.4320\n",
            "Epoch 47/70\n",
            "\u001b[1m625/625\u001b[0m \u001b[32m━━━━━━━━━━━━━━━━━━━━\u001b[0m\u001b[37m\u001b[0m \u001b[1m3s\u001b[0m 4ms/step - accuracy: 0.5671 - loss: 1.2240 - val_accuracy: 0.4880 - val_loss: 1.4682\n",
            "Epoch 48/70\n",
            "\u001b[1m625/625\u001b[0m \u001b[32m━━━━━━━━━━━━━━━━━━━━\u001b[0m\u001b[37m\u001b[0m \u001b[1m5s\u001b[0m 4ms/step - accuracy: 0.5663 - loss: 1.2269 - val_accuracy: 0.4854 - val_loss: 1.4986\n",
            "Epoch 49/70\n",
            "\u001b[1m625/625\u001b[0m \u001b[32m━━━━━━━━━━━━━━━━━━━━\u001b[0m\u001b[37m\u001b[0m \u001b[1m4s\u001b[0m 6ms/step - accuracy: 0.5718 - loss: 1.2206 - val_accuracy: 0.4881 - val_loss: 1.4561\n",
            "Epoch 50/70\n",
            "\u001b[1m625/625\u001b[0m \u001b[32m━━━━━━━━━━━━━━━━━━━━\u001b[0m\u001b[37m\u001b[0m \u001b[1m3s\u001b[0m 4ms/step - accuracy: 0.5720 - loss: 1.2128 - val_accuracy: 0.5053 - val_loss: 1.4278\n",
            "Epoch 51/70\n",
            "\u001b[1m625/625\u001b[0m \u001b[32m━━━━━━━━━━━━━━━━━━━━\u001b[0m\u001b[37m\u001b[0m \u001b[1m3s\u001b[0m 4ms/step - accuracy: 0.5748 - loss: 1.2053 - val_accuracy: 0.4865 - val_loss: 1.4811\n",
            "Epoch 52/70\n",
            "\u001b[1m625/625\u001b[0m \u001b[32m━━━━━━━━━━━━━━━━━━━━\u001b[0m\u001b[37m\u001b[0m \u001b[1m3s\u001b[0m 5ms/step - accuracy: 0.5703 - loss: 1.2113 - val_accuracy: 0.4954 - val_loss: 1.4503\n",
            "Epoch 53/70\n",
            "\u001b[1m625/625\u001b[0m \u001b[32m━━━━━━━━━━━━━━━━━━━━\u001b[0m\u001b[37m\u001b[0m \u001b[1m6s\u001b[0m 5ms/step - accuracy: 0.5770 - loss: 1.2036 - val_accuracy: 0.4930 - val_loss: 1.4692\n",
            "Epoch 54/70\n",
            "\u001b[1m625/625\u001b[0m \u001b[32m━━━━━━━━━━━━━━━━━━━━\u001b[0m\u001b[37m\u001b[0m \u001b[1m3s\u001b[0m 5ms/step - accuracy: 0.5771 - loss: 1.1967 - val_accuracy: 0.4969 - val_loss: 1.4673\n",
            "Epoch 55/70\n",
            "\u001b[1m625/625\u001b[0m \u001b[32m━━━━━━━━━━━━━━━━━━━━\u001b[0m\u001b[37m\u001b[0m \u001b[1m5s\u001b[0m 4ms/step - accuracy: 0.5831 - loss: 1.1846 - val_accuracy: 0.5008 - val_loss: 1.4436\n",
            "Epoch 56/70\n",
            "\u001b[1m625/625\u001b[0m \u001b[32m━━━━━━━━━━━━━━━━━━━━\u001b[0m\u001b[37m\u001b[0m \u001b[1m4s\u001b[0m 6ms/step - accuracy: 0.5807 - loss: 1.1921 - val_accuracy: 0.4930 - val_loss: 1.4625\n",
            "Epoch 57/70\n",
            "\u001b[1m625/625\u001b[0m \u001b[32m━━━━━━━━━━━━━━━━━━━━\u001b[0m\u001b[37m\u001b[0m \u001b[1m3s\u001b[0m 4ms/step - accuracy: 0.5848 - loss: 1.1861 - val_accuracy: 0.4983 - val_loss: 1.4595\n",
            "Epoch 58/70\n",
            "\u001b[1m625/625\u001b[0m \u001b[32m━━━━━━━━━━━━━━━━━━━━\u001b[0m\u001b[37m\u001b[0m \u001b[1m5s\u001b[0m 4ms/step - accuracy: 0.5861 - loss: 1.1839 - val_accuracy: 0.4987 - val_loss: 1.4470\n",
            "Epoch 59/70\n",
            "\u001b[1m625/625\u001b[0m \u001b[32m━━━━━━━━━━━━━━━━━━━━\u001b[0m\u001b[37m\u001b[0m \u001b[1m5s\u001b[0m 4ms/step - accuracy: 0.5847 - loss: 1.1772 - val_accuracy: 0.5021 - val_loss: 1.4545\n",
            "Epoch 60/70\n",
            "\u001b[1m625/625\u001b[0m \u001b[32m━━━━━━━━━━━━━━━━━━━━\u001b[0m\u001b[37m\u001b[0m \u001b[1m5s\u001b[0m 5ms/step - accuracy: 0.5890 - loss: 1.1704 - val_accuracy: 0.4971 - val_loss: 1.4704\n",
            "Epoch 61/70\n",
            "\u001b[1m625/625\u001b[0m \u001b[32m━━━━━━━━━━━━━━━━━━━━\u001b[0m\u001b[37m\u001b[0m \u001b[1m6s\u001b[0m 6ms/step - accuracy: 0.5902 - loss: 1.1670 - val_accuracy: 0.5073 - val_loss: 1.4567\n",
            "Epoch 62/70\n",
            "\u001b[1m625/625\u001b[0m \u001b[32m━━━━━━━━━━━━━━━━━━━━\u001b[0m\u001b[37m\u001b[0m \u001b[1m4s\u001b[0m 5ms/step - accuracy: 0.5899 - loss: 1.1550 - val_accuracy: 0.5036 - val_loss: 1.4359\n",
            "Epoch 63/70\n",
            "\u001b[1m625/625\u001b[0m \u001b[32m━━━━━━━━━━━━━━━━━━━━\u001b[0m\u001b[37m\u001b[0m \u001b[1m6s\u001b[0m 5ms/step - accuracy: 0.5939 - loss: 1.1528 - val_accuracy: 0.5087 - val_loss: 1.4437\n",
            "Epoch 64/70\n",
            "\u001b[1m625/625\u001b[0m \u001b[32m━━━━━━━━━━━━━━━━━━━━\u001b[0m\u001b[37m\u001b[0m \u001b[1m4s\u001b[0m 4ms/step - accuracy: 0.5883 - loss: 1.1673 - val_accuracy: 0.5032 - val_loss: 1.4562\n",
            "Epoch 65/70\n",
            "\u001b[1m625/625\u001b[0m \u001b[32m━━━━━━━━━━━━━━━━━━━━\u001b[0m\u001b[37m\u001b[0m \u001b[1m5s\u001b[0m 5ms/step - accuracy: 0.5946 - loss: 1.1565 - val_accuracy: 0.4983 - val_loss: 1.4471\n",
            "Epoch 66/70\n",
            "\u001b[1m625/625\u001b[0m \u001b[32m━━━━━━━━━━━━━━━━━━━━\u001b[0m\u001b[37m\u001b[0m \u001b[1m4s\u001b[0m 6ms/step - accuracy: 0.5983 - loss: 1.1436 - val_accuracy: 0.5029 - val_loss: 1.4468\n",
            "Epoch 67/70\n",
            "\u001b[1m625/625\u001b[0m \u001b[32m━━━━━━━━━━━━━━━━━━━━\u001b[0m\u001b[37m\u001b[0m \u001b[1m4s\u001b[0m 7ms/step - accuracy: 0.6030 - loss: 1.1457 - val_accuracy: 0.4973 - val_loss: 1.4544\n",
            "Epoch 68/70\n",
            "\u001b[1m625/625\u001b[0m \u001b[32m━━━━━━━━━━━━━━━━━━━━\u001b[0m\u001b[37m\u001b[0m \u001b[1m5s\u001b[0m 6ms/step - accuracy: 0.6024 - loss: 1.1350 - val_accuracy: 0.4917 - val_loss: 1.4847\n",
            "Epoch 69/70\n",
            "\u001b[1m625/625\u001b[0m \u001b[32m━━━━━━━━━━━━━━━━━━━━\u001b[0m\u001b[37m\u001b[0m \u001b[1m4s\u001b[0m 5ms/step - accuracy: 0.5958 - loss: 1.1416 - val_accuracy: 0.4865 - val_loss: 1.5013\n",
            "Epoch 70/70\n",
            "\u001b[1m625/625\u001b[0m \u001b[32m━━━━━━━━━━━━━━━━━━━━\u001b[0m\u001b[37m\u001b[0m \u001b[1m3s\u001b[0m 5ms/step - accuracy: 0.6022 - loss: 1.1328 - val_accuracy: 0.5077 - val_loss: 1.4443\n"
          ]
        }
      ]
    },
    {
      "cell_type": "code",
      "source": [
        "import matplotlib.pyplot as plt\n",
        "%matplotlib inline\n",
        "# list all data in training\n",
        "print(training.history.keys())"
      ],
      "metadata": {
        "id": "X-wDDcy13sVb",
        "colab": {
          "base_uri": "https://localhost:8080/"
        },
        "outputId": "c1d50afa-c34c-4c19-88cb-b498a022f335"
      },
      "execution_count": null,
      "outputs": [
        {
          "output_type": "stream",
          "name": "stdout",
          "text": [
            "dict_keys(['accuracy', 'loss', 'val_accuracy', 'val_loss'])\n"
          ]
        }
      ]
    },
    {
      "cell_type": "code",
      "source": [
        "# summarize training for accuracy\n",
        "plt.plot(training.history['accuracy'])\n",
        "plt.plot(training.history['val_accuracy'])\n",
        "plt.title('model accuracy')\n",
        "plt.ylabel('accuracy')\n",
        "plt.xlabel('epoch')\n",
        "plt.legend(['train', 'test'], loc='upper left')\n",
        "plt.show()"
      ],
      "metadata": {
        "id": "vUkybCXm3yjj",
        "colab": {
          "base_uri": "https://localhost:8080/",
          "height": 471
        },
        "outputId": "f9c9210b-b113-45b0-d8b4-06d96149fc11"
      },
      "execution_count": null,
      "outputs": [
        {
          "output_type": "display_data",
          "data": {
            "text/plain": [
              "<Figure size 640x480 with 1 Axes>"
            ],
            "image/png": "[encoded data removed]"
          },
          "metadata": {}
        }
      ]
    },
    {
      "cell_type": "markdown",
      "source": [
        "The training accuracy steadily improves, but the test accuracy plateaus and lags behind, indicating overfitting."
      ],
      "metadata": {
        "id": "s1NZEIdc302T"
      }
    },
    {
      "cell_type": "code",
      "source": [
        "# summarize traning for loss\n",
        "plt.plot(training.history['loss'])\n",
        "plt.plot(training.history['val_loss'])\n",
        "plt.title('model loss')\n",
        "plt.ylabel('loss')\n",
        "plt.xlabel('epoch')\n",
        "plt.legend(['train', 'test'], loc='upper left')\n",
        "plt.show()"
      ],
      "metadata": {
        "id": "sCbPxDdS31Ml",
        "colab": {
          "base_uri": "https://localhost:8080/",
          "height": 471
        },
        "outputId": "abafbecb-b677-471b-96bf-4c3ab18e8561"
      },
      "execution_count": null,
      "outputs": [
        {
          "output_type": "display_data",
          "data": {
            "text/plain": [
              "<Figure size 640x480 with 1 Axes>"
            ],
            "image/png": "[encoded data removed]"
          },
          "metadata": {}
        }
      ]
    },
    {
      "cell_type": "markdown",
      "source": [
        "The training loss decreases consistently, but the test loss remains higher and fluctuates, further confirming overfitting and poor generalization to unseen data.\n",
        "\n",
        "\n"
      ],
      "metadata": {
        "id": "Q2XIN37v35G1"
      }
    },
    {
      "cell_type": "code",
      "source": [
        "#evaluate the model\n",
        "test_loss, test_acc = model_1.evaluate(X_test, Y_test)\n",
        "print('Test accuracy:', test_acc)"
      ],
      "metadata": {
        "id": "iD93k7Ps37oG",
        "colab": {
          "base_uri": "https://localhost:8080/"
        },
        "outputId": "00178756-52ad-48fd-df2c-319b53a13ede"
      },
      "execution_count": null,
      "outputs": [
        {
          "output_type": "stream",
          "name": "stdout",
          "text": [
            "\u001b[1m313/313\u001b[0m \u001b[32m━━━━━━━━━━━━━━━━━━━━\u001b[0m\u001b[37m\u001b[0m \u001b[1m1s\u001b[0m 4ms/step - accuracy: 0.5109 - loss: 1.4123\n",
            "Test accuracy: 0.5080999732017517\n"
          ]
        }
      ]
    },
    {
      "cell_type": "code",
      "source": [
        "model_1.summary()"
      ],
      "metadata": {
        "id": "wpGTYcB739Cc",
        "colab": {
          "base_uri": "https://localhost:8080/",
          "height": 247
        },
        "outputId": "dfbbe71a-db59-466a-d9d0-fb098b954cdd"
      },
      "execution_count": null,
      "outputs": [
        {
          "output_type": "display_data",
          "data": {
            "text/plain": [
              "\u001b[1mModel: \"sequential_2\"\u001b[0m\n"
            ],
            "text/html": [
              "<pre style=\"white-space:pre;overflow-x:auto;line-height:normal;font-family:Menlo,'DejaVu Sans Mono',consolas,'Courier New',monospace\"><span style=\"font-weight: bold\">Model: \"sequential_2\"</span>\n",
              "</pre>\n"
            ]
          },
          "metadata": {}
        },
        {
          "output_type": "display_data",
          "data": {
            "text/plain": [
              "┏━━━━━━━━━━━━━━━━━━━━━━━━━━━━━━━━━━━━━━┳━━━━━━━━━━━━━━━━━━━━━━━━━━━━━┳━━━━━━━━━━━━━━━━━┓\n",
              "┃\u001b[1m \u001b[0m\u001b[1mLayer (type)                        \u001b[0m\u001b[1m \u001b[0m┃\u001b[1m \u001b[0m\u001b[1mOutput Shape               \u001b[0m\u001b[1m \u001b[0m┃\u001b[1m \u001b[0m\u001b[1m        Param #\u001b[0m\u001b[1m \u001b[0m┃\n",
              "┡━━━━━━━━━━━━━━━━━━━━━━━━━━━━━━━━━━━━━━╇━━━━━━━━━━━━━━━━━━━━━━━━━━━━━╇━━━━━━━━━━━━━━━━━┩\n",
              "│ dense_layer (\u001b[38;5;33mDense\u001b[0m)                  │ (\u001b[38;5;45mNone\u001b[0m, \u001b[38;5;34m64\u001b[0m)                  │         \u001b[38;5;34m196,672\u001b[0m │\n",
              "├──────────────────────────────────────┼─────────────────────────────┼─────────────────┤\n",
              "│ dense_layer_2 (\u001b[38;5;33mDense\u001b[0m)                │ (\u001b[38;5;45mNone\u001b[0m, \u001b[38;5;34m64\u001b[0m)                  │           \u001b[38;5;34m4,160\u001b[0m │\n",
              "├──────────────────────────────────────┼─────────────────────────────┼─────────────────┤\n",
              "│ dense_layer_3 (\u001b[38;5;33mDense\u001b[0m)                │ (\u001b[38;5;45mNone\u001b[0m, \u001b[38;5;34m10\u001b[0m)                  │             \u001b[38;5;34m650\u001b[0m │\n",
              "└──────────────────────────────────────┴─────────────────────────────┴─────────────────┘\n"
            ],
            "text/html": [
              "<pre style=\"white-space:pre;overflow-x:auto;line-height:normal;font-family:Menlo,'DejaVu Sans Mono',consolas,'Courier New',monospace\">┏━━━━━━━━━━━━━━━━━━━━━━━━━━━━━━━━━━━━━━┳━━━━━━━━━━━━━━━━━━━━━━━━━━━━━┳━━━━━━━━━━━━━━━━━┓\n",
              "┃<span style=\"font-weight: bold\"> Layer (type)                         </span>┃<span style=\"font-weight: bold\"> Output Shape                </span>┃<span style=\"font-weight: bold\">         Param # </span>┃\n",
              "┡━━━━━━━━━━━━━━━━━━━━━━━━━━━━━━━━━━━━━━╇━━━━━━━━━━━━━━━━━━━━━━━━━━━━━╇━━━━━━━━━━━━━━━━━┩\n",
              "│ dense_layer (<span style=\"color: #0087ff; text-decoration-color: #0087ff\">Dense</span>)                  │ (<span style=\"color: #00d7ff; text-decoration-color: #00d7ff\">None</span>, <span style=\"color: #00af00; text-decoration-color: #00af00\">64</span>)                  │         <span style=\"color: #00af00; text-decoration-color: #00af00\">196,672</span> │\n",
              "├──────────────────────────────────────┼─────────────────────────────┼─────────────────┤\n",
              "│ dense_layer_2 (<span style=\"color: #0087ff; text-decoration-color: #0087ff\">Dense</span>)                │ (<span style=\"color: #00d7ff; text-decoration-color: #00d7ff\">None</span>, <span style=\"color: #00af00; text-decoration-color: #00af00\">64</span>)                  │           <span style=\"color: #00af00; text-decoration-color: #00af00\">4,160</span> │\n",
              "├──────────────────────────────────────┼─────────────────────────────┼─────────────────┤\n",
              "│ dense_layer_3 (<span style=\"color: #0087ff; text-decoration-color: #0087ff\">Dense</span>)                │ (<span style=\"color: #00d7ff; text-decoration-color: #00d7ff\">None</span>, <span style=\"color: #00af00; text-decoration-color: #00af00\">10</span>)                  │             <span style=\"color: #00af00; text-decoration-color: #00af00\">650</span> │\n",
              "└──────────────────────────────────────┴─────────────────────────────┴─────────────────┘\n",
              "</pre>\n"
            ]
          },
          "metadata": {}
        },
        {
          "output_type": "display_data",
          "data": {
            "text/plain": [
              "\u001b[1m Total params: \u001b[0m\u001b[38;5;34m201,484\u001b[0m (787.05 KB)\n"
            ],
            "text/html": [
              "<pre style=\"white-space:pre;overflow-x:auto;line-height:normal;font-family:Menlo,'DejaVu Sans Mono',consolas,'Courier New',monospace\"><span style=\"font-weight: bold\"> Total params: </span><span style=\"color: #00af00; text-decoration-color: #00af00\">201,484</span> (787.05 KB)\n",
              "</pre>\n"
            ]
          },
          "metadata": {}
        },
        {
          "output_type": "display_data",
          "data": {
            "text/plain": [
              "\u001b[1m Trainable params: \u001b[0m\u001b[38;5;34m201,482\u001b[0m (787.04 KB)\n"
            ],
            "text/html": [
              "<pre style=\"white-space:pre;overflow-x:auto;line-height:normal;font-family:Menlo,'DejaVu Sans Mono',consolas,'Courier New',monospace\"><span style=\"font-weight: bold\"> Trainable params: </span><span style=\"color: #00af00; text-decoration-color: #00af00\">201,482</span> (787.04 KB)\n",
              "</pre>\n"
            ]
          },
          "metadata": {}
        },
        {
          "output_type": "display_data",
          "data": {
            "text/plain": [
              "\u001b[1m Non-trainable params: \u001b[0m\u001b[38;5;34m0\u001b[0m (0.00 B)\n"
            ],
            "text/html": [
              "<pre style=\"white-space:pre;overflow-x:auto;line-height:normal;font-family:Menlo,'DejaVu Sans Mono',consolas,'Courier New',monospace\"><span style=\"font-weight: bold\"> Non-trainable params: </span><span style=\"color: #00af00; text-decoration-color: #00af00\">0</span> (0.00 B)\n",
              "</pre>\n"
            ]
          },
          "metadata": {}
        },
        {
          "output_type": "display_data",
          "data": {
            "text/plain": [
              "\u001b[1m Optimizer params: \u001b[0m\u001b[38;5;34m2\u001b[0m (12.00 B)\n"
            ],
            "text/html": [
              "<pre style=\"white-space:pre;overflow-x:auto;line-height:normal;font-family:Menlo,'DejaVu Sans Mono',consolas,'Courier New',monospace\"><span style=\"font-weight: bold\"> Optimizer params: </span><span style=\"color: #00af00; text-decoration-color: #00af00\">2</span> (12.00 B)\n",
              "</pre>\n"
            ]
          },
          "metadata": {}
        }
      ]
    },
    {
      "cell_type": "code",
      "source": [
        "model_1.weights"
      ],
      "metadata": {
        "id": "YwiAaCMa4B6O",
        "colab": {
          "base_uri": "https://localhost:8080/"
        },
        "outputId": "a6603bbb-9dfc-4e6f-ab5f-1f71abea8706"
      },
      "execution_count": null,
      "outputs": [
        {
          "output_type": "execute_result",
          "data": {
            "text/plain": [
              "[<Variable path=sequential_2/dense_layer/kernel, shape=(3072, 64), dtype=float32, value=[[ 0.01594593  0.01193617 -0.08040797 ...  0.0224245  -0.0059565\n",
              "    0.04996178]\n",
              "  [ 0.02002956  0.01110909 -0.03176833 ...  0.03223304  0.0727962\n",
              "    0.08352967]\n",
              "  [-0.07181855  0.0736276  -0.03288922 ...  0.13031602 -0.02779365\n",
              "    0.02557991]\n",
              "  ...\n",
              "  [-0.03179296 -0.04680353 -0.01963775 ...  0.00666484  0.00553282\n",
              "    0.00604997]\n",
              "  [-0.03247838  0.00029819 -0.03450637 ... -0.06062145  0.06669091\n",
              "    0.03986798]\n",
              "  [-0.03456324  0.02891949 -0.06670802 ... -0.01852713  0.00136387\n",
              "    0.08238406]]>,\n",
              " <Variable path=sequential_2/dense_layer/bias, shape=(64,), dtype=float32, value=[ 2.42729545e-01 -2.38123000e-01  3.76692321e-03  2.54052669e-01\n",
              "  -1.11570656e-01 -1.88400716e-01  6.43074811e-02  2.64782846e-01\n",
              "   2.65143625e-02 -1.34911807e-03  1.21545613e-01 -4.66287732e-02\n",
              "   1.44350564e-03 -8.16351846e-02 -2.42672205e-01  9.41300206e-03\n",
              "  -3.18759761e-04  1.61658406e-01 -2.67525762e-02 -5.07787541e-02\n",
              "  -7.83092051e-04  2.26604920e-02 -4.11511026e-02  5.29513583e-02\n",
              "   9.49120298e-02  2.63086110e-01  2.74084181e-01  1.51316762e-01\n",
              "   4.06787843e-02  3.80302849e-03  6.59819543e-02 -2.55091578e-01\n",
              "   1.40936682e-02 -1.39085546e-01 -2.41540242e-02 -1.48502707e-01\n",
              "  -2.59127647e-01 -3.83845251e-03 -2.36589700e-01  8.86771921e-03\n",
              "   3.88845205e-02  5.76659048e-04  1.00265425e-02  2.62756497e-01\n",
              "   5.64181283e-02 -1.79180235e-03 -3.65227968e-01 -2.27543805e-02\n",
              "  -6.42038463e-03 -8.42025205e-02 -8.55570510e-02  3.38812768e-01\n",
              "  -1.48603052e-01  8.68174285e-02 -2.26722434e-02  3.48589540e-01\n",
              "   1.22000277e-01 -3.29592861e-02 -3.10865283e-01 -2.41641194e-01\n",
              "   5.61298875e-05 -1.81588590e-01  5.78112721e-01 -1.19582690e-01]>,\n",
              " <Variable path=sequential_2/dense_layer_2/kernel, shape=(64, 64), dtype=float32, value=[[-0.20385063  0.2580103   0.05282235 ... -0.19948667 -0.08045862\n",
              "   -0.155595  ]\n",
              "  [ 0.0421138  -0.0710007   0.04328245 ...  0.02506262 -0.05992983\n",
              "   -0.04873696]\n",
              "  [-0.0191033  -0.11132182  0.07523899 ...  0.08437557  0.1919564\n",
              "    0.00940184]\n",
              "  ...\n",
              "  [-0.03712011 -0.22072434  0.04083722 ... -0.10062136  0.22553812\n",
              "    0.09900532]\n",
              "  [ 0.04656595 -0.05672869 -0.20582032 ... -0.24010421  0.12360507\n",
              "   -0.3035141 ]\n",
              "  [ 0.2540749  -0.06286041 -0.08535233 ...  0.12545991 -0.16745026\n",
              "    0.01512506]]>,\n",
              " <Variable path=sequential_2/dense_layer_2/bias, shape=(64,), dtype=float32, value=[ 0.05889065 -0.07973442 -0.13635124 -0.01361785  0.084944    0.56078273\n",
              "   0.06926403  0.15267535  0.01125366  0.01846183  0.09709261  0.39194393\n",
              "  -0.07477421 -0.0094725   0.39346388  0.13696638 -0.01496362 -0.06836927\n",
              "   0.07162683 -0.11503249 -0.33418807  0.04832729  0.15295258 -0.05317191\n",
              "  -0.04812139 -0.16170798 -0.07928936  0.20169748 -0.03670108  0.00354392\n",
              "  -0.15473203 -0.02438112 -0.056886   -0.10835068 -0.09976628 -0.05065563\n",
              "   0.08793794  0.01370843 -0.03688822  0.01339591 -0.08616725  0.21038051\n",
              "   0.26663455  0.2929429   0.05944319  0.09374604  0.19523598  0.4823728\n",
              "   0.11336608 -0.16032954 -0.45023477 -0.16507201 -0.37502107 -0.06135\n",
              "   0.04538228  0.0509028  -0.01263953 -0.01352542  0.12611765  0.13610575\n",
              "  -0.15999635 -0.05822209 -0.01462244  0.15280998]>,\n",
              " <Variable path=sequential_2/dense_layer_3/kernel, shape=(64, 10), dtype=float32, value=[[ 4.81289417e-01  4.62204725e-01 -2.38030598e-01 -3.29684764e-01\n",
              "   -1.44104004e-01 -5.71258292e-02  1.97037578e-01  1.33714750e-01\n",
              "    3.05845112e-01 -3.53473336e-01]\n",
              "  [-9.57632065e-02  3.13227594e-01 -3.26327503e-01 -1.18357606e-01\n",
              "   -1.18597358e-01  1.85651228e-01 -2.26226747e-02 -8.71657878e-02\n",
              "   -3.92431587e-01 -2.05110863e-01]\n",
              "  [ 2.50016630e-01  3.68883997e-01 -8.87778401e-02 -1.00216188e-01\n",
              "   -3.12320828e-01 -5.59603453e-01 -1.98218286e-01  7.16217607e-02\n",
              "   -3.05224396e-03  1.54051408e-01]\n",
              "  [ 1.28901884e-01  1.78498343e-01  1.46046385e-01  1.33167669e-01\n",
              "   -5.93009964e-02  2.31262594e-02 -1.68252379e-01 -1.86548933e-01\n",
              "   -1.16352469e-01 -5.06253064e-01]\n",
              "  [ 2.38260388e-01  2.75566250e-01  2.35318676e-01 -2.44641125e-01\n",
              "   -3.28229398e-01 -3.77493888e-01  1.40124708e-02  1.70558020e-01\n",
              "    2.59351611e-01 -1.79216191e-01]\n",
              "  [-2.46080399e-01 -1.43305942e-01  2.41470471e-01 -2.43539289e-01\n",
              "    2.38345444e-01 -4.57553595e-01  4.50900793e-01 -3.28612596e-01\n",
              "   -2.97763288e-01  3.85929570e-02]\n",
              "  [ 1.39444228e-02  4.48579788e-01 -9.18881595e-02 -3.02244753e-01\n",
              "   -2.16121569e-01 -3.76095593e-01 -9.71963722e-03 -4.02979672e-01\n",
              "    4.33824986e-01 -1.20555684e-02]\n",
              "  [-4.11524981e-01  5.05780458e-01 -2.27272227e-01  1.10651419e-01\n",
              "   -2.77953297e-01 -5.96981198e-02  1.06533118e-01  7.24425763e-02\n",
              "   -4.37202007e-01  2.32856601e-01]\n",
              "  [-9.14123952e-02  1.73082903e-01  2.60777920e-01 -1.48741856e-01\n",
              "    4.68158983e-02 -3.59737277e-01  1.05690576e-01  2.77881399e-02\n",
              "    3.29019606e-01 -4.09238368e-01]\n",
              "  [ 2.44829297e-01  2.22555831e-01  5.22931553e-02 -1.25961348e-01\n",
              "   -2.89794486e-02  1.63106933e-01  3.23323220e-01 -4.38854367e-01\n",
              "   -2.80262202e-01 -2.14958802e-01]\n",
              "  [-6.75765648e-02 -1.11061051e-01  1.39380787e-02 -9.99438167e-02\n",
              "    1.03126559e-02 -1.45443171e-01 -9.74470675e-02  6.16066039e-01\n",
              "   -1.19749814e-01 -2.92473376e-01]\n",
              "  [-2.97269374e-01 -8.74255523e-02  2.39265040e-01  3.42217416e-01\n",
              "    8.70899931e-02  2.31107995e-01  5.96165419e-01 -4.89099413e-01\n",
              "    5.49892150e-02 -1.16298608e-01]\n",
              "  [ 2.92100668e-01 -4.23594385e-01 -5.17257631e-01  1.31961420e-01\n",
              "   -7.61177242e-02 -1.60678238e-01 -1.64131522e-02 -1.75542355e-01\n",
              "    5.99835455e-01 -1.67547971e-01]\n",
              "  [-1.12244859e-01 -1.67875111e-01  3.63297239e-02  2.16419533e-01\n",
              "    4.40117493e-02  2.53803939e-01  1.06179729e-01  7.12642148e-02\n",
              "    2.22184718e-01  8.45742524e-02]\n",
              "  [-4.24409062e-01 -4.04961437e-01  6.06896818e-01  3.18089247e-01\n",
              "    2.81180292e-01 -2.71733515e-02 -4.26704995e-02 -4.41680253e-01\n",
              "    2.41121482e-02 -4.39595222e-01]\n",
              "  [-1.13588236e-01  7.51254335e-02  2.19046131e-01  1.91986769e-01\n",
              "    1.95817888e-01  1.74947202e-01 -1.17731683e-01 -3.53627354e-01\n",
              "    9.05818492e-02 -4.19159085e-01]\n",
              "  [ 1.22549757e-01 -2.81342506e-01 -1.18703783e-01 -1.56926453e-01\n",
              "    2.15732172e-01 -1.29687771e-01 -1.30882069e-01 -2.83401966e-01\n",
              "    6.78312182e-02 -8.92228261e-02]\n",
              "  [-2.16595009e-01 -3.37976933e-01  3.54464836e-02  2.99147099e-01\n",
              "   -3.15661699e-01  8.88885260e-02 -1.80690140e-01 -1.54511422e-01\n",
              "   -1.96355432e-02  2.40932301e-01]\n",
              "  [ 3.69611084e-01 -2.00654805e-01 -1.54150156e-02  1.53328493e-01\n",
              "    2.88890868e-01 -3.53266567e-01  1.87455453e-02 -3.25212717e-01\n",
              "    2.33141035e-01 -3.42499241e-02]\n",
              "  [-3.74922939e-02  3.23166698e-01 -1.72408178e-01 -1.37943774e-01\n",
              "    3.23814243e-01 -3.85431439e-01 -4.18358296e-01 -8.94138813e-02\n",
              "    2.51942754e-01  6.56234384e-01]\n",
              "  [-2.91464150e-01  4.04377759e-01 -3.50553632e-01 -1.92353800e-01\n",
              "   -4.41298723e-01  7.33839944e-02 -2.83512682e-01  5.80330342e-02\n",
              "    5.10317385e-01  4.49216336e-01]\n",
              "  [-3.00705701e-01  1.98718771e-01  3.61093938e-01  2.22221792e-01\n",
              "    1.13967635e-01 -1.50072023e-01  1.11318855e-02 -9.94623527e-02\n",
              "    4.10033762e-02 -3.46145868e-01]\n",
              "  [-2.77418848e-02  2.83167869e-01 -1.91885397e-01 -1.64282516e-01\n",
              "    4.39150371e-02  1.35535076e-01  3.72963548e-01  2.67682582e-01\n",
              "    9.51467305e-02 -4.51988637e-01]\n",
              "  [ 1.33207574e-01  5.74525535e-01 -8.63109455e-02  2.71965712e-01\n",
              "   -1.31265089e-01 -2.18801703e-02 -4.64925557e-01  1.37175256e-02\n",
              "   -1.44807801e-01  1.16572335e-01]\n",
              "  [ 1.80333391e-01 -4.52536672e-01  3.25409442e-01 -1.02984279e-01\n",
              "    1.14270449e-01  7.30424970e-02  2.84619387e-02  1.81256682e-01\n",
              "   -4.21351224e-01 -1.16243467e-01]\n",
              "  [ 5.68985224e-01  2.62170792e-01 -3.01636219e-01  6.38208240e-02\n",
              "   -4.70543690e-02  2.49072820e-01 -1.86383590e-01  4.77701239e-03\n",
              "   -1.36135638e-01 -2.34971628e-01]\n",
              "  [ 2.67860979e-01 -6.00051396e-02  1.42323077e-01 -4.18406188e-01\n",
              "   -1.18387856e-01 -1.24751687e-01 -1.80114031e-01  1.17775008e-01\n",
              "    6.38088956e-02 -2.92116642e-01]\n",
              "  [ 3.57537299e-01  8.03069547e-02 -2.14320317e-01 -3.74175638e-01\n",
              "    3.35933357e-01 -2.95398533e-01  1.61144614e-01 -2.63888091e-01\n",
              "   -5.39838634e-02 -7.71963224e-02]\n",
              "  [ 3.63954872e-01 -3.65879029e-01  3.91194671e-01  6.68494701e-02\n",
              "    2.19183311e-01  2.37113789e-01 -3.34725976e-01 -9.29287896e-02\n",
              "   -2.55586058e-01 -5.29425263e-01]\n",
              "  [-1.74224272e-01 -5.33296883e-01  2.86290160e-04  1.26646068e-02\n",
              "    9.85506475e-02  1.90068677e-01 -1.05094902e-01 -9.87740234e-03\n",
              "    2.91999191e-01  1.97940469e-01]\n",
              "  [-1.71079189e-01 -1.79328814e-01 -3.34985405e-01  2.55818725e-01\n",
              "   -3.72711182e-01  1.09650530e-01  5.80876134e-02 -4.74563390e-01\n",
              "    3.05640608e-01  3.19863230e-01]\n",
              "  [ 2.44471863e-01 -1.14149205e-01 -1.89808667e-01 -2.44133204e-01\n",
              "    3.61052789e-02 -4.00501788e-01 -2.38581404e-01  3.06707975e-02\n",
              "    3.65386873e-01  3.88932377e-01]\n",
              "  [-3.27266425e-01 -1.32572860e-01 -1.02749221e-01  2.44257569e-01\n",
              "    1.77330598e-01  9.18473378e-02 -4.91946369e-01  3.06617290e-01\n",
              "    3.10119122e-01  2.71303970e-02]\n",
              "  [ 2.07214758e-01 -3.57596934e-01  1.69468924e-01  2.09851965e-01\n",
              "    2.50933111e-01 -2.38214403e-01 -4.24038380e-01  1.30352035e-01\n",
              "    3.50377947e-01  9.59846824e-02]\n",
              "  [ 1.47852451e-01  2.85096522e-02 -3.44905928e-02  3.63252172e-03\n",
              "   -1.34402275e-01  5.33506274e-01 -2.42329642e-01 -6.31499290e-02\n",
              "   -3.54080528e-01 -2.96192765e-01]\n",
              "  [-6.64387569e-02 -4.19634171e-02  2.19786182e-01 -1.34206057e-01\n",
              "    3.63620222e-02  2.81977475e-01 -5.13700545e-01  3.63303393e-01\n",
              "   -6.22835338e-01  1.23426002e-02]\n",
              "  [ 2.79127419e-01  1.17519662e-01  2.17464536e-01  2.28393421e-01\n",
              "   -3.90503705e-01  3.95181388e-01  2.60069668e-01 -2.54761666e-01\n",
              "    2.11141780e-01 -2.11270243e-01]\n",
              "  [ 2.50454247e-01 -2.76627719e-01 -1.76619649e-01 -2.00091258e-01\n",
              "    1.36749834e-01 -3.30990255e-01 -5.64935446e-01 -3.08873326e-01\n",
              "    3.18522394e-01 -2.53092825e-01]\n",
              "  [ 2.50795394e-01  2.98427999e-01  3.92125398e-01 -5.45538425e-01\n",
              "   -1.85039133e-01 -2.03681290e-01 -1.61763638e-01 -1.44738987e-01\n",
              "    2.95958072e-01  4.70693052e-01]\n",
              "  [ 2.16755390e-01  2.78103322e-01  2.74290368e-02  3.69188011e-01\n",
              "    4.11070995e-02  2.91619748e-01  4.11800206e-01 -4.57830489e-01\n",
              "    5.11028022e-02 -1.01956102e-04]\n",
              "  [ 2.71951407e-01  4.16658640e-01  9.52617601e-02  1.62212789e-01\n",
              "    3.81471425e-01  6.13263510e-02 -3.80658120e-01 -1.51603311e-01\n",
              "   -1.51503146e-01 -5.80521636e-02]\n",
              "  [-3.06230515e-01 -4.00627404e-01  8.04077312e-02 -3.09419394e-01\n",
              "    2.46279657e-01  1.34336784e-01  6.28970116e-02 -2.38611773e-01\n",
              "   -2.68320054e-01  2.26184577e-01]\n",
              "  [-1.37035057e-01 -4.90508050e-01  1.02098815e-01  9.08547044e-02\n",
              "    9.16377455e-02 -1.31331474e-01  2.20353305e-01  7.07947969e-01\n",
              "   -3.84980798e-01 -2.12691247e-01]\n",
              "  [ 3.00984919e-01 -2.75394291e-01  6.69351101e-01  3.59877087e-02\n",
              "   -3.44403721e-02 -2.03007549e-01  1.18758947e-01 -2.36879662e-01\n",
              "   -2.88676709e-01 -4.62417960e-01]\n",
              "  [-4.16151285e-01 -3.19464266e-01 -4.99901436e-02  4.29787278e-01\n",
              "    1.65988967e-01  1.37324393e-01 -1.83109995e-02  2.58928120e-01\n",
              "   -3.10101867e-01  2.54466683e-01]\n",
              "  [ 1.53669462e-01  2.65980899e-01 -1.23588175e-01  6.10630587e-03\n",
              "   -2.39912987e-01 -5.23866192e-02  4.19150710e-01  2.10689589e-01\n",
              "   -4.27620709e-01 -1.72635108e-01]\n",
              "  [-4.15867895e-01 -1.51669875e-01 -1.10484973e-01 -9.90354046e-02\n",
              "    4.12196428e-01 -7.78604522e-02 -5.45474470e-01  4.33333069e-01\n",
              "    1.31906927e-01 -2.39868775e-01]\n",
              "  [-2.35977903e-01 -5.59625506e-01  3.34911048e-02  1.51884317e-01\n",
              "    4.15305674e-01  2.03290820e-01  4.86559272e-01 -1.72889635e-01\n",
              "   -3.57567638e-01 -2.99410313e-01]\n",
              "  [-3.66741598e-01  2.22597599e-01 -2.64523000e-01  3.09042156e-01\n",
              "   -5.30323923e-01 -1.33333340e-01  4.06093448e-01 -1.16429962e-01\n",
              "   -2.61434447e-02 -8.90244171e-03]\n",
              "  [ 2.30453998e-01 -4.48347479e-01  2.19653353e-01 -1.92215424e-02\n",
              "   -4.38584149e-01  2.88579941e-01  2.96157867e-01 -7.64971152e-02\n",
              "   -3.06813866e-01  2.27344826e-01]\n",
              "  [-4.67151880e-01 -8.54564086e-02 -2.30312616e-01  3.23296875e-01\n",
              "   -4.91324723e-01  5.26637614e-01 -1.77512601e-01  1.63611561e-01\n",
              "    2.37241592e-02 -5.29313795e-02]\n",
              "  [ 1.70375362e-01  7.03195110e-02  3.34374726e-01 -2.62462907e-02\n",
              "    2.41897985e-01  7.12627098e-02 -5.77252746e-01 -2.11405516e-01\n",
              "    4.70923662e-01 -1.07577061e-02]\n",
              "  [ 3.42993677e-01  1.88827455e-01 -8.36928487e-02 -1.55423924e-01\n",
              "   -4.83304203e-01  4.96410318e-02 -3.51540029e-01 -1.07998336e-02\n",
              "   -2.28900284e-01  3.68249536e-01]\n",
              "  [-1.58428922e-02 -1.92496702e-01  6.51642501e-01  7.64461085e-02\n",
              "   -2.51799375e-01  1.87968478e-01  1.27019212e-01  1.67543903e-01\n",
              "   -3.50996226e-01 -4.39968467e-01]\n",
              "  [-2.96542812e-02  1.36246637e-01  4.69277322e-01  7.83520192e-02\n",
              "    3.72047633e-01 -2.25343350e-02  2.04735145e-01 -1.71956882e-01\n",
              "   -1.62745431e-01 -4.64615554e-01]\n",
              "  [-2.98782140e-01 -1.06762782e-01  1.76332027e-01  2.35750884e-01\n",
              "    2.74944544e-01  2.40716368e-01 -1.36057526e-01 -1.21772014e-01\n",
              "   -3.80922049e-01 -1.68287605e-01]\n",
              "  [ 1.99120477e-01  6.21007442e-01 -3.79976109e-02 -2.70238489e-01\n",
              "   -8.52256790e-02 -1.44711837e-01 -4.70782593e-02 -4.26295400e-01\n",
              "   -3.68962698e-02  1.23266615e-01]\n",
              "  [ 1.13890722e-01 -2.48913690e-01 -2.24507391e-01 -2.95493633e-01\n",
              "   -2.59502590e-01 -3.66777964e-02 -3.04831773e-01 -2.25395575e-01\n",
              "    2.78315306e-01  3.27847078e-02]\n",
              "  [ 3.37557167e-01 -4.29098129e-01 -6.43912405e-02  5.63246710e-03\n",
              "    3.64413232e-01  1.36953010e-03 -8.41090009e-02  2.93599814e-01\n",
              "   -2.99408995e-02 -4.31341380e-01]\n",
              "  [-9.56030283e-03  5.90582609e-01 -2.22042412e-01 -3.74015272e-01\n",
              "    1.89282566e-01 -2.26933360e-01 -2.14948994e-03 -2.57819176e-01\n",
              "   -8.82580653e-02 -1.27302349e-01]\n",
              "  [-3.16854388e-01 -2.83290118e-01 -1.67140111e-01  3.00879538e-01\n",
              "   -1.65230021e-01  3.83137226e-01 -2.31505528e-01  2.33800989e-02\n",
              "   -2.80003160e-01  8.32054317e-02]\n",
              "  [-2.75814056e-01 -1.49109289e-01  3.00548285e-01 -1.32234007e-01\n",
              "   -2.05057219e-01 -4.81867678e-02 -3.12264353e-01  2.79887617e-01\n",
              "   -2.69857794e-02  2.79997915e-01]\n",
              "  [ 3.24707031e-01 -4.95672315e-01  2.13657156e-01  1.02396242e-01\n",
              "   -2.83437639e-01  6.57880828e-02  3.57153006e-02  2.51902938e-01\n",
              "   -1.79677084e-01  3.38797659e-01]\n",
              "  [-1.79076329e-01  1.19896621e-01 -3.78632307e-01  2.23217502e-01\n",
              "   -1.59325555e-01  3.95343065e-01  3.98131371e-01 -2.79690363e-02\n",
              "   -4.27314430e-01  4.00271267e-01]]>,\n",
              " <Variable path=sequential_2/dense_layer_3/bias, shape=(10,), dtype=float32, value=[-0.4598513  -0.00233901  0.30976558 -0.08877965  0.40184864 -0.35118365\n",
              "   0.5775377  -0.09235705 -0.08967484 -0.2049717 ]>]"
            ]
          },
          "metadata": {},
          "execution_count": 26
        }
      ]
    },
    {
      "cell_type": "markdown",
      "source": [
        "###Improved Model 2 - Adding Dropout to Avoid Overfitting"
      ],
      "metadata": {
        "id": "Hp9wbejo4qFg"
      }
    },
    {
      "cell_type": "code",
      "source": [
        "from tensorflow.keras.layers import Dropout\n",
        "\n",
        "#Most common type of model is a stack of layers\n",
        "model_2 = tf.keras.Sequential()\n",
        "N_hidden = 128\n",
        "\n",
        "# Correct the input shape to match the flattened CIFAR-10 images (3072 features)\n",
        "model_2.add(Dense(N_hidden, name='dense_layer', input_shape=(3072,), activation = 'relu'))\n",
        "model_2.add(Dropout(0.3))\n",
        "\n",
        "# Adding another dense layer:\n",
        "model_2.add(Dense(N_hidden, name='dense_layer_2', activation='relu'))\n",
        "model_2.add(Dropout(0.3))\n",
        "\n",
        "# Add an output layer with 10 output units (10 different classes):\n",
        "model_2.add(Dense(10, name='dense_layer_3', activation = 'softmax'))"
      ],
      "metadata": {
        "colab": {
          "base_uri": "https://localhost:8080/"
        },
        "id": "De8y7-OL4sfW",
        "outputId": "c1d99e9e-2a15-443d-8302-a1a0226b143d"
      },
      "execution_count": null,
      "outputs": [
        {
          "output_type": "stream",
          "name": "stderr",
          "text": [
            "/usr/local/lib/python3.11/dist-packages/keras/src/layers/core/dense.py:87: UserWarning: Do not pass an `input_shape`/`input_dim` argument to a layer. When using Sequential models, prefer using an `Input(shape)` object as the first layer in the model instead.\n",
            "  super().__init__(activity_regularizer=activity_regularizer, **kwargs)\n"
          ]
        }
      ]
    },
    {
      "cell_type": "code",
      "source": [
        "# Compiling the model.\n",
        "model_2.compile(optimizer='SGD',\n",
        "              loss='categorical_crossentropy',\n",
        "              metrics=['accuracy'])"
      ],
      "metadata": {
        "id": "hRm-4acN4vd-"
      },
      "execution_count": null,
      "outputs": []
    },
    {
      "cell_type": "code",
      "source": [
        "# Training the model.\n",
        "training = model_2.fit(X_train, Y_train, batch_size=64, epochs=50, validation_split=0.2)"
      ],
      "metadata": {
        "colab": {
          "base_uri": "https://localhost:8080/"
        },
        "id": "-9WqLnwb4xk4",
        "outputId": "44768866-f47d-4285-ae13-2f6ee116e942"
      },
      "execution_count": null,
      "outputs": [
        {
          "output_type": "stream",
          "name": "stdout",
          "text": [
            "Epoch 1/50\n",
            "\u001b[1m625/625\u001b[0m \u001b[32m━━━━━━━━━━━━━━━━━━━━\u001b[0m\u001b[37m\u001b[0m \u001b[1m6s\u001b[0m 8ms/step - accuracy: 0.1843 - loss: 2.1992 - val_accuracy: 0.3124 - val_loss: 1.9464\n",
            "Epoch 2/50\n",
            "\u001b[1m625/625\u001b[0m \u001b[32m━━━━━━━━━━━━━━━━━━━━\u001b[0m\u001b[37m\u001b[0m \u001b[1m4s\u001b[0m 6ms/step - accuracy: 0.2828 - loss: 1.9747 - val_accuracy: 0.3434 - val_loss: 1.8507\n",
            "Epoch 3/50\n",
            "\u001b[1m625/625\u001b[0m \u001b[32m━━━━━━━━━━━━━━━━━━━━\u001b[0m\u001b[37m\u001b[0m \u001b[1m6s\u001b[0m 8ms/step - accuracy: 0.3126 - loss: 1.8933 - val_accuracy: 0.3542 - val_loss: 1.8162\n",
            "Epoch 4/50\n",
            "\u001b[1m625/625\u001b[0m \u001b[32m━━━━━━━━━━━━━━━━━━━━\u001b[0m\u001b[37m\u001b[0m \u001b[1m4s\u001b[0m 6ms/step - accuracy: 0.3338 - loss: 1.8512 - val_accuracy: 0.3721 - val_loss: 1.7736\n",
            "Epoch 5/50\n",
            "\u001b[1m625/625\u001b[0m \u001b[32m━━━━━━━━━━━━━━━━━━━━\u001b[0m\u001b[37m\u001b[0m \u001b[1m4s\u001b[0m 6ms/step - accuracy: 0.3464 - loss: 1.8258 - val_accuracy: 0.3861 - val_loss: 1.7423\n",
            "Epoch 6/50\n",
            "\u001b[1m625/625\u001b[0m \u001b[32m━━━━━━━━━━━━━━━━━━━━\u001b[0m\u001b[37m\u001b[0m \u001b[1m5s\u001b[0m 8ms/step - accuracy: 0.3585 - loss: 1.7926 - val_accuracy: 0.3957 - val_loss: 1.7235\n",
            "Epoch 7/50\n",
            "\u001b[1m625/625\u001b[0m \u001b[32m━━━━━━━━━━━━━━━━━━━━\u001b[0m\u001b[37m\u001b[0m \u001b[1m4s\u001b[0m 6ms/step - accuracy: 0.3700 - loss: 1.7685 - val_accuracy: 0.4088 - val_loss: 1.6985\n",
            "Epoch 8/50\n",
            "\u001b[1m625/625\u001b[0m \u001b[32m━━━━━━━━━━━━━━━━━━━━\u001b[0m\u001b[37m\u001b[0m \u001b[1m5s\u001b[0m 6ms/step - accuracy: 0.3783 - loss: 1.7512 - val_accuracy: 0.4144 - val_loss: 1.6747\n",
            "Epoch 9/50\n",
            "\u001b[1m625/625\u001b[0m \u001b[32m━━━━━━━━━━━━━━━━━━━━\u001b[0m\u001b[37m\u001b[0m \u001b[1m5s\u001b[0m 7ms/step - accuracy: 0.3775 - loss: 1.7315 - val_accuracy: 0.4143 - val_loss: 1.6814\n",
            "Epoch 10/50\n",
            "\u001b[1m625/625\u001b[0m \u001b[32m━━━━━━━━━━━━━━━━━━━━\u001b[0m\u001b[37m\u001b[0m \u001b[1m4s\u001b[0m 6ms/step - accuracy: 0.3880 - loss: 1.7229 - val_accuracy: 0.4172 - val_loss: 1.6502\n",
            "Epoch 11/50\n",
            "\u001b[1m625/625\u001b[0m \u001b[32m━━━━━━━━━━━━━━━━━━━━\u001b[0m\u001b[37m\u001b[0m \u001b[1m4s\u001b[0m 6ms/step - accuracy: 0.3978 - loss: 1.6956 - val_accuracy: 0.4169 - val_loss: 1.6476\n",
            "Epoch 12/50\n",
            "\u001b[1m625/625\u001b[0m \u001b[32m━━━━━━━━━━━━━━━━━━━━\u001b[0m\u001b[37m\u001b[0m \u001b[1m5s\u001b[0m 6ms/step - accuracy: 0.3999 - loss: 1.6890 - val_accuracy: 0.4296 - val_loss: 1.6250\n",
            "Epoch 13/50\n",
            "\u001b[1m625/625\u001b[0m \u001b[32m━━━━━━━━━━━━━━━━━━━━\u001b[0m\u001b[37m\u001b[0m \u001b[1m5s\u001b[0m 7ms/step - accuracy: 0.4034 - loss: 1.6827 - val_accuracy: 0.4381 - val_loss: 1.6049\n",
            "Epoch 14/50\n",
            "\u001b[1m625/625\u001b[0m \u001b[32m━━━━━━━━━━━━━━━━━━━━\u001b[0m\u001b[37m\u001b[0m \u001b[1m6s\u001b[0m 8ms/step - accuracy: 0.4064 - loss: 1.6672 - val_accuracy: 0.4394 - val_loss: 1.5962\n",
            "Epoch 15/50\n",
            "\u001b[1m625/625\u001b[0m \u001b[32m━━━━━━━━━━━━━━━━━━━━\u001b[0m\u001b[37m\u001b[0m \u001b[1m4s\u001b[0m 6ms/step - accuracy: 0.4083 - loss: 1.6628 - val_accuracy: 0.4405 - val_loss: 1.5924\n",
            "Epoch 16/50\n",
            "\u001b[1m625/625\u001b[0m \u001b[32m━━━━━━━━━━━━━━━━━━━━\u001b[0m\u001b[37m\u001b[0m \u001b[1m5s\u001b[0m 6ms/step - accuracy: 0.4186 - loss: 1.6381 - val_accuracy: 0.4449 - val_loss: 1.5861\n",
            "Epoch 17/50\n",
            "\u001b[1m625/625\u001b[0m \u001b[32m━━━━━━━━━━━━━━━━━━━━\u001b[0m\u001b[37m\u001b[0m \u001b[1m5s\u001b[0m 7ms/step - accuracy: 0.4197 - loss: 1.6274 - val_accuracy: 0.4481 - val_loss: 1.5776\n",
            "Epoch 18/50\n",
            "\u001b[1m625/625\u001b[0m \u001b[32m━━━━━━━━━━━━━━━━━━━━\u001b[0m\u001b[37m\u001b[0m \u001b[1m5s\u001b[0m 6ms/step - accuracy: 0.4285 - loss: 1.6243 - val_accuracy: 0.4484 - val_loss: 1.5603\n",
            "Epoch 19/50\n",
            "\u001b[1m625/625\u001b[0m \u001b[32m━━━━━━━━━━━━━━━━━━━━\u001b[0m\u001b[37m\u001b[0m \u001b[1m4s\u001b[0m 7ms/step - accuracy: 0.4237 - loss: 1.6129 - val_accuracy: 0.4389 - val_loss: 1.5735\n",
            "Epoch 20/50\n",
            "\u001b[1m625/625\u001b[0m \u001b[32m━━━━━━━━━━━━━━━━━━━━\u001b[0m\u001b[37m\u001b[0m \u001b[1m5s\u001b[0m 6ms/step - accuracy: 0.4266 - loss: 1.6027 - val_accuracy: 0.4495 - val_loss: 1.5600\n",
            "Epoch 21/50\n",
            "\u001b[1m625/625\u001b[0m \u001b[32m━━━━━━━━━━━━━━━━━━━━\u001b[0m\u001b[37m\u001b[0m \u001b[1m5s\u001b[0m 6ms/step - accuracy: 0.4330 - loss: 1.5981 - val_accuracy: 0.4560 - val_loss: 1.5475\n",
            "Epoch 22/50\n",
            "\u001b[1m625/625\u001b[0m \u001b[32m━━━━━━━━━━━━━━━━━━━━\u001b[0m\u001b[37m\u001b[0m \u001b[1m6s\u001b[0m 7ms/step - accuracy: 0.4383 - loss: 1.5831 - val_accuracy: 0.4645 - val_loss: 1.5311\n",
            "Epoch 23/50\n",
            "\u001b[1m625/625\u001b[0m \u001b[32m━━━━━━━━━━━━━━━━━━━━\u001b[0m\u001b[37m\u001b[0m \u001b[1m4s\u001b[0m 6ms/step - accuracy: 0.4363 - loss: 1.5755 - val_accuracy: 0.4629 - val_loss: 1.5223\n",
            "Epoch 24/50\n",
            "\u001b[1m625/625\u001b[0m \u001b[32m━━━━━━━━━━━━━━━━━━━━\u001b[0m\u001b[37m\u001b[0m \u001b[1m4s\u001b[0m 6ms/step - accuracy: 0.4375 - loss: 1.5815 - val_accuracy: 0.4636 - val_loss: 1.5256\n",
            "Epoch 25/50\n",
            "\u001b[1m625/625\u001b[0m \u001b[32m━━━━━━━━━━━━━━━━━━━━\u001b[0m\u001b[37m\u001b[0m \u001b[1m5s\u001b[0m 6ms/step - accuracy: 0.4435 - loss: 1.5631 - val_accuracy: 0.4718 - val_loss: 1.5051\n",
            "Epoch 26/50\n",
            "\u001b[1m625/625\u001b[0m \u001b[32m━━━━━━━━━━━━━━━━━━━━\u001b[0m\u001b[37m\u001b[0m \u001b[1m4s\u001b[0m 6ms/step - accuracy: 0.4475 - loss: 1.5515 - val_accuracy: 0.4636 - val_loss: 1.5171\n",
            "Epoch 27/50\n",
            "\u001b[1m625/625\u001b[0m \u001b[32m━━━━━━━━━━━━━━━━━━━━\u001b[0m\u001b[37m\u001b[0m \u001b[1m5s\u001b[0m 8ms/step - accuracy: 0.4467 - loss: 1.5512 - val_accuracy: 0.4757 - val_loss: 1.5033\n",
            "Epoch 28/50\n",
            "\u001b[1m625/625\u001b[0m \u001b[32m━━━━━━━━━━━━━━━━━━━━\u001b[0m\u001b[37m\u001b[0m \u001b[1m4s\u001b[0m 6ms/step - accuracy: 0.4533 - loss: 1.5358 - val_accuracy: 0.4698 - val_loss: 1.5127\n",
            "Epoch 29/50\n",
            "\u001b[1m625/625\u001b[0m \u001b[32m━━━━━━━━━━━━━━━━━━━━\u001b[0m\u001b[37m\u001b[0m \u001b[1m5s\u001b[0m 6ms/step - accuracy: 0.4518 - loss: 1.5352 - val_accuracy: 0.4688 - val_loss: 1.5191\n",
            "Epoch 30/50\n",
            "\u001b[1m625/625\u001b[0m \u001b[32m━━━━━━━━━━━━━━━━━━━━\u001b[0m\u001b[37m\u001b[0m \u001b[1m6s\u001b[0m 7ms/step - accuracy: 0.4524 - loss: 1.5365 - val_accuracy: 0.4769 - val_loss: 1.4872\n",
            "Epoch 31/50\n",
            "\u001b[1m625/625\u001b[0m \u001b[32m━━━━━━━━━━━━━━━━━━━━\u001b[0m\u001b[37m\u001b[0m \u001b[1m4s\u001b[0m 6ms/step - accuracy: 0.4591 - loss: 1.5191 - val_accuracy: 0.4780 - val_loss: 1.4832\n",
            "Epoch 32/50\n",
            "\u001b[1m625/625\u001b[0m \u001b[32m━━━━━━━━━━━━━━━━━━━━\u001b[0m\u001b[37m\u001b[0m \u001b[1m4s\u001b[0m 6ms/step - accuracy: 0.4610 - loss: 1.5107 - val_accuracy: 0.4766 - val_loss: 1.4826\n",
            "Epoch 33/50\n",
            "\u001b[1m625/625\u001b[0m \u001b[32m━━━━━━━━━━━━━━━━━━━━\u001b[0m\u001b[37m\u001b[0m \u001b[1m4s\u001b[0m 7ms/step - accuracy: 0.4614 - loss: 1.5140 - val_accuracy: 0.4765 - val_loss: 1.4804\n",
            "Epoch 34/50\n",
            "\u001b[1m625/625\u001b[0m \u001b[32m━━━━━━━━━━━━━━━━━━━━\u001b[0m\u001b[37m\u001b[0m \u001b[1m4s\u001b[0m 6ms/step - accuracy: 0.4646 - loss: 1.5027 - val_accuracy: 0.4863 - val_loss: 1.4800\n",
            "Epoch 35/50\n",
            "\u001b[1m625/625\u001b[0m \u001b[32m━━━━━━━━━━━━━━━━━━━━\u001b[0m\u001b[37m\u001b[0m \u001b[1m6s\u001b[0m 8ms/step - accuracy: 0.4665 - loss: 1.4955 - val_accuracy: 0.4804 - val_loss: 1.4694\n",
            "Epoch 36/50\n",
            "\u001b[1m625/625\u001b[0m \u001b[32m━━━━━━━━━━━━━━━━━━━━\u001b[0m\u001b[37m\u001b[0m \u001b[1m9s\u001b[0m 6ms/step - accuracy: 0.4666 - loss: 1.5031 - val_accuracy: 0.4751 - val_loss: 1.4818\n",
            "Epoch 37/50\n",
            "\u001b[1m625/625\u001b[0m \u001b[32m━━━━━━━━━━━━━━━━━━━━\u001b[0m\u001b[37m\u001b[0m \u001b[1m6s\u001b[0m 7ms/step - accuracy: 0.4729 - loss: 1.4858 - val_accuracy: 0.4885 - val_loss: 1.4618\n",
            "Epoch 38/50\n",
            "\u001b[1m625/625\u001b[0m \u001b[32m━━━━━━━━━━━━━━━━━━━━\u001b[0m\u001b[37m\u001b[0m \u001b[1m4s\u001b[0m 6ms/step - accuracy: 0.4738 - loss: 1.4783 - val_accuracy: 0.4869 - val_loss: 1.4465\n",
            "Epoch 39/50\n",
            "\u001b[1m625/625\u001b[0m \u001b[32m━━━━━━━━━━━━━━━━━━━━\u001b[0m\u001b[37m\u001b[0m \u001b[1m5s\u001b[0m 7ms/step - accuracy: 0.4715 - loss: 1.4871 - val_accuracy: 0.4890 - val_loss: 1.4658\n",
            "Epoch 40/50\n",
            "\u001b[1m625/625\u001b[0m \u001b[32m━━━━━━━━━━━━━━━━━━━━\u001b[0m\u001b[37m\u001b[0m \u001b[1m5s\u001b[0m 7ms/step - accuracy: 0.4776 - loss: 1.4694 - val_accuracy: 0.4935 - val_loss: 1.4441\n",
            "Epoch 41/50\n",
            "\u001b[1m625/625\u001b[0m \u001b[32m━━━━━━━━━━━━━━━━━━━━\u001b[0m\u001b[37m\u001b[0m \u001b[1m4s\u001b[0m 6ms/step - accuracy: 0.4763 - loss: 1.4745 - val_accuracy: 0.4865 - val_loss: 1.4579\n",
            "Epoch 42/50\n",
            "\u001b[1m625/625\u001b[0m \u001b[32m━━━━━━━━━━━━━━━━━━━━\u001b[0m\u001b[37m\u001b[0m \u001b[1m5s\u001b[0m 8ms/step - accuracy: 0.4781 - loss: 1.4696 - val_accuracy: 0.4912 - val_loss: 1.4411\n",
            "Epoch 43/50\n",
            "\u001b[1m625/625\u001b[0m \u001b[32m━━━━━━━━━━━━━━━━━━━━\u001b[0m\u001b[37m\u001b[0m \u001b[1m4s\u001b[0m 6ms/step - accuracy: 0.4850 - loss: 1.4551 - val_accuracy: 0.4918 - val_loss: 1.4373\n",
            "Epoch 44/50\n",
            "\u001b[1m625/625\u001b[0m \u001b[32m━━━━━━━━━━━━━━━━━━━━\u001b[0m\u001b[37m\u001b[0m \u001b[1m4s\u001b[0m 6ms/step - accuracy: 0.4814 - loss: 1.4494 - val_accuracy: 0.4826 - val_loss: 1.4513\n",
            "Epoch 45/50\n",
            "\u001b[1m625/625\u001b[0m \u001b[32m━━━━━━━━━━━━━━━━━━━━\u001b[0m\u001b[37m\u001b[0m \u001b[1m4s\u001b[0m 7ms/step - accuracy: 0.4865 - loss: 1.4461 - val_accuracy: 0.5011 - val_loss: 1.4263\n",
            "Epoch 46/50\n",
            "\u001b[1m625/625\u001b[0m \u001b[32m━━━━━━━━━━━━━━━━━━━━\u001b[0m\u001b[37m\u001b[0m \u001b[1m4s\u001b[0m 6ms/step - accuracy: 0.4802 - loss: 1.4497 - val_accuracy: 0.4867 - val_loss: 1.4620\n",
            "Epoch 47/50\n",
            "\u001b[1m625/625\u001b[0m \u001b[32m━━━━━━━━━━━━━━━━━━━━\u001b[0m\u001b[37m\u001b[0m \u001b[1m6s\u001b[0m 7ms/step - accuracy: 0.4860 - loss: 1.4488 - val_accuracy: 0.4843 - val_loss: 1.4493\n",
            "Epoch 48/50\n",
            "\u001b[1m625/625\u001b[0m \u001b[32m━━━━━━━━━━━━━━━━━━━━\u001b[0m\u001b[37m\u001b[0m \u001b[1m5s\u001b[0m 7ms/step - accuracy: 0.4851 - loss: 1.4449 - val_accuracy: 0.4829 - val_loss: 1.4634\n",
            "Epoch 49/50\n",
            "\u001b[1m625/625\u001b[0m \u001b[32m━━━━━━━━━━━━━━━━━━━━\u001b[0m\u001b[37m\u001b[0m \u001b[1m4s\u001b[0m 6ms/step - accuracy: 0.4862 - loss: 1.4291 - val_accuracy: 0.4932 - val_loss: 1.4346\n",
            "Epoch 50/50\n",
            "\u001b[1m625/625\u001b[0m \u001b[32m━━━━━━━━━━━━━━━━━━━━\u001b[0m\u001b[37m\u001b[0m \u001b[1m5s\u001b[0m 8ms/step - accuracy: 0.4870 - loss: 1.4392 - val_accuracy: 0.4929 - val_loss: 1.4322\n"
          ]
        }
      ]
    },
    {
      "cell_type": "code",
      "source": [
        "model_2.summary()"
      ],
      "metadata": {
        "colab": {
          "base_uri": "https://localhost:8080/",
          "height": 312
        },
        "id": "0iCyl3aa5fj5",
        "outputId": "efb6f17a-3b89-49c7-ce40-b9ce221bea12"
      },
      "execution_count": null,
      "outputs": [
        {
          "output_type": "display_data",
          "data": {
            "text/plain": [
              "\u001b[1mModel: \"sequential_4\"\u001b[0m\n"
            ],
            "text/html": [
              "<pre style=\"white-space:pre;overflow-x:auto;line-height:normal;font-family:Menlo,'DejaVu Sans Mono',consolas,'Courier New',monospace\"><span style=\"font-weight: bold\">Model: \"sequential_4\"</span>\n",
              "</pre>\n"
            ]
          },
          "metadata": {}
        },
        {
          "output_type": "display_data",
          "data": {
            "text/plain": [
              "┏━━━━━━━━━━━━━━━━━━━━━━━━━━━━━━━━━━━━━━┳━━━━━━━━━━━━━━━━━━━━━━━━━━━━━┳━━━━━━━━━━━━━━━━━┓\n",
              "┃\u001b[1m \u001b[0m\u001b[1mLayer (type)                        \u001b[0m\u001b[1m \u001b[0m┃\u001b[1m \u001b[0m\u001b[1mOutput Shape               \u001b[0m\u001b[1m \u001b[0m┃\u001b[1m \u001b[0m\u001b[1m        Param #\u001b[0m\u001b[1m \u001b[0m┃\n",
              "┡━━━━━━━━━━━━━━━━━━━━━━━━━━━━━━━━━━━━━━╇━━━━━━━━━━━━━━━━━━━━━━━━━━━━━╇━━━━━━━━━━━━━━━━━┩\n",
              "│ dense_layer (\u001b[38;5;33mDense\u001b[0m)                  │ (\u001b[38;5;45mNone\u001b[0m, \u001b[38;5;34m128\u001b[0m)                 │         \u001b[38;5;34m393,344\u001b[0m │\n",
              "├──────────────────────────────────────┼─────────────────────────────┼─────────────────┤\n",
              "│ dropout_2 (\u001b[38;5;33mDropout\u001b[0m)                  │ (\u001b[38;5;45mNone\u001b[0m, \u001b[38;5;34m128\u001b[0m)                 │               \u001b[38;5;34m0\u001b[0m │\n",
              "├──────────────────────────────────────┼─────────────────────────────┼─────────────────┤\n",
              "│ dense_layer_2 (\u001b[38;5;33mDense\u001b[0m)                │ (\u001b[38;5;45mNone\u001b[0m, \u001b[38;5;34m128\u001b[0m)                 │          \u001b[38;5;34m16,512\u001b[0m │\n",
              "├──────────────────────────────────────┼─────────────────────────────┼─────────────────┤\n",
              "│ dropout_3 (\u001b[38;5;33mDropout\u001b[0m)                  │ (\u001b[38;5;45mNone\u001b[0m, \u001b[38;5;34m128\u001b[0m)                 │               \u001b[38;5;34m0\u001b[0m │\n",
              "├──────────────────────────────────────┼─────────────────────────────┼─────────────────┤\n",
              "│ dense_layer_3 (\u001b[38;5;33mDense\u001b[0m)                │ (\u001b[38;5;45mNone\u001b[0m, \u001b[38;5;34m10\u001b[0m)                  │           \u001b[38;5;34m1,290\u001b[0m │\n",
              "└──────────────────────────────────────┴─────────────────────────────┴─────────────────┘\n"
            ],
            "text/html": [
              "<pre style=\"white-space:pre;overflow-x:auto;line-height:normal;font-family:Menlo,'DejaVu Sans Mono',consolas,'Courier New',monospace\">┏━━━━━━━━━━━━━━━━━━━━━━━━━━━━━━━━━━━━━━┳━━━━━━━━━━━━━━━━━━━━━━━━━━━━━┳━━━━━━━━━━━━━━━━━┓\n",
              "┃<span style=\"font-weight: bold\"> Layer (type)                         </span>┃<span style=\"font-weight: bold\"> Output Shape                </span>┃<span style=\"font-weight: bold\">         Param # </span>┃\n",
              "┡━━━━━━━━━━━━━━━━━━━━━━━━━━━━━━━━━━━━━━╇━━━━━━━━━━━━━━━━━━━━━━━━━━━━━╇━━━━━━━━━━━━━━━━━┩\n",
              "│ dense_layer (<span style=\"color: #0087ff; text-decoration-color: #0087ff\">Dense</span>)                  │ (<span style=\"color: #00d7ff; text-decoration-color: #00d7ff\">None</span>, <span style=\"color: #00af00; text-decoration-color: #00af00\">128</span>)                 │         <span style=\"color: #00af00; text-decoration-color: #00af00\">393,344</span> │\n",
              "├──────────────────────────────────────┼─────────────────────────────┼─────────────────┤\n",
              "│ dropout_2 (<span style=\"color: #0087ff; text-decoration-color: #0087ff\">Dropout</span>)                  │ (<span style=\"color: #00d7ff; text-decoration-color: #00d7ff\">None</span>, <span style=\"color: #00af00; text-decoration-color: #00af00\">128</span>)                 │               <span style=\"color: #00af00; text-decoration-color: #00af00\">0</span> │\n",
              "├──────────────────────────────────────┼─────────────────────────────┼─────────────────┤\n",
              "│ dense_layer_2 (<span style=\"color: #0087ff; text-decoration-color: #0087ff\">Dense</span>)                │ (<span style=\"color: #00d7ff; text-decoration-color: #00d7ff\">None</span>, <span style=\"color: #00af00; text-decoration-color: #00af00\">128</span>)                 │          <span style=\"color: #00af00; text-decoration-color: #00af00\">16,512</span> │\n",
              "├──────────────────────────────────────┼─────────────────────────────┼─────────────────┤\n",
              "│ dropout_3 (<span style=\"color: #0087ff; text-decoration-color: #0087ff\">Dropout</span>)                  │ (<span style=\"color: #00d7ff; text-decoration-color: #00d7ff\">None</span>, <span style=\"color: #00af00; text-decoration-color: #00af00\">128</span>)                 │               <span style=\"color: #00af00; text-decoration-color: #00af00\">0</span> │\n",
              "├──────────────────────────────────────┼─────────────────────────────┼─────────────────┤\n",
              "│ dense_layer_3 (<span style=\"color: #0087ff; text-decoration-color: #0087ff\">Dense</span>)                │ (<span style=\"color: #00d7ff; text-decoration-color: #00d7ff\">None</span>, <span style=\"color: #00af00; text-decoration-color: #00af00\">10</span>)                  │           <span style=\"color: #00af00; text-decoration-color: #00af00\">1,290</span> │\n",
              "└──────────────────────────────────────┴─────────────────────────────┴─────────────────┘\n",
              "</pre>\n"
            ]
          },
          "metadata": {}
        },
        {
          "output_type": "display_data",
          "data": {
            "text/plain": [
              "\u001b[1m Total params: \u001b[0m\u001b[38;5;34m411,148\u001b[0m (1.57 MB)\n"
            ],
            "text/html": [
              "<pre style=\"white-space:pre;overflow-x:auto;line-height:normal;font-family:Menlo,'DejaVu Sans Mono',consolas,'Courier New',monospace\"><span style=\"font-weight: bold\"> Total params: </span><span style=\"color: #00af00; text-decoration-color: #00af00\">411,148</span> (1.57 MB)\n",
              "</pre>\n"
            ]
          },
          "metadata": {}
        },
        {
          "output_type": "display_data",
          "data": {
            "text/plain": [
              "\u001b[1m Trainable params: \u001b[0m\u001b[38;5;34m411,146\u001b[0m (1.57 MB)\n"
            ],
            "text/html": [
              "<pre style=\"white-space:pre;overflow-x:auto;line-height:normal;font-family:Menlo,'DejaVu Sans Mono',consolas,'Courier New',monospace\"><span style=\"font-weight: bold\"> Trainable params: </span><span style=\"color: #00af00; text-decoration-color: #00af00\">411,146</span> (1.57 MB)\n",
              "</pre>\n"
            ]
          },
          "metadata": {}
        },
        {
          "output_type": "display_data",
          "data": {
            "text/plain": [
              "\u001b[1m Non-trainable params: \u001b[0m\u001b[38;5;34m0\u001b[0m (0.00 B)\n"
            ],
            "text/html": [
              "<pre style=\"white-space:pre;overflow-x:auto;line-height:normal;font-family:Menlo,'DejaVu Sans Mono',consolas,'Courier New',monospace\"><span style=\"font-weight: bold\"> Non-trainable params: </span><span style=\"color: #00af00; text-decoration-color: #00af00\">0</span> (0.00 B)\n",
              "</pre>\n"
            ]
          },
          "metadata": {}
        },
        {
          "output_type": "display_data",
          "data": {
            "text/plain": [
              "\u001b[1m Optimizer params: \u001b[0m\u001b[38;5;34m2\u001b[0m (12.00 B)\n"
            ],
            "text/html": [
              "<pre style=\"white-space:pre;overflow-x:auto;line-height:normal;font-family:Menlo,'DejaVu Sans Mono',consolas,'Courier New',monospace\"><span style=\"font-weight: bold\"> Optimizer params: </span><span style=\"color: #00af00; text-decoration-color: #00af00\">2</span> (12.00 B)\n",
              "</pre>\n"
            ]
          },
          "metadata": {}
        }
      ]
    },
    {
      "cell_type": "code",
      "source": [
        "model_2.weights"
      ],
      "metadata": {
        "colab": {
          "base_uri": "https://localhost:8080/"
        },
        "id": "t54YKA9X6Nng",
        "outputId": "b293589d-01c5-4661-de5c-a019e2227916"
      },
      "execution_count": null,
      "outputs": [
        {
          "output_type": "execute_result",
          "data": {
            "text/plain": [
              "[<Variable path=sequential_4/dense_layer/kernel, shape=(3072, 128), dtype=float32, value=[[-0.0323518  -0.03614663 -0.02262398 ... -0.00483409 -0.03028602\n",
              "   -0.02150639]\n",
              "  [ 0.04888869 -0.00901051  0.01677116 ... -0.01195976 -0.04682057\n",
              "   -0.08402113]\n",
              "  [ 0.06894622 -0.01671764  0.04080874 ...  0.0436869   0.01102113\n",
              "   -0.10366745]\n",
              "  ...\n",
              "  [ 0.05669051 -0.03320679  0.05058445 ...  0.02535208  0.03661872\n",
              "   -0.0032519 ]\n",
              "  [-0.0363129  -0.01454689 -0.03818837 ... -0.00327409  0.00462861\n",
              "   -0.00065382]\n",
              "  [ 0.04689998 -0.00714606 -0.02460045 ... -0.03558267  0.00150968\n",
              "   -0.03257225]]>,\n",
              " <Variable path=sequential_4/dense_layer/bias, shape=(128,), dtype=float32, value=[ 2.63337586e-02 -1.97629910e-02  4.60160710e-03 -1.46435753e-01\n",
              "  -6.12262636e-02  6.97766012e-03  2.11402282e-01 -1.65742382e-01\n",
              "  -1.61592336e-03 -1.74127221e-01 -1.56535767e-03 -6.62465021e-02\n",
              "  -2.71529645e-01  8.26324336e-03 -3.39908391e-01 -4.41687591e-02\n",
              "   1.12157658e-01 -3.90318520e-02  5.48484495e-05 -2.60177683e-02\n",
              "   2.30509833e-01 -3.93584482e-02 -2.17165142e-01 -8.78014565e-02\n",
              "   4.37901281e-02 -6.59027025e-02  7.81270573e-05  3.17423884e-03\n",
              "   1.09738857e-03  7.87715521e-03  3.32399807e-03 -1.64211452e-01\n",
              "  -1.70560554e-01  2.26557571e-02 -1.38817215e-02 -5.35404356e-03\n",
              "  -6.24748059e-02 -1.82765767e-01  1.33867636e-02 -1.06514050e-02\n",
              "  -5.95660007e-04 -1.87981397e-01  8.16926360e-02  1.09649278e-04\n",
              "   3.23895551e-02 -2.20133215e-01 -8.28693621e-03  1.25179470e-01\n",
              "  -4.73103300e-03  3.47422734e-02 -6.77646836e-04  8.81146640e-02\n",
              "  -1.44084796e-01  1.13434512e-02 -1.18883498e-01  2.38845334e-03\n",
              "   2.37024650e-02 -3.95685108e-03  3.57946336e-01 -3.63364294e-02\n",
              "  -7.89409056e-02 -1.45137566e-03  3.89286205e-02 -7.20068207e-03\n",
              "  -1.47548108e-03  1.80756242e-03  1.74445987e-01  7.10770115e-02\n",
              "   1.07498176e-01 -2.54908367e-03  8.42896178e-02 -1.35295063e-01\n",
              "   5.96178975e-03  2.59116082e-03  4.01209779e-02 -1.16320692e-01\n",
              "  -1.66069865e-02 -5.50571755e-02 -1.26558496e-03 -3.38158101e-01\n",
              "  -2.13369564e-03 -3.75451148e-02  2.13237658e-01 -7.28180334e-02\n",
              "   8.49146862e-03  1.31078541e-01 -2.21284807e-01  1.27308711e-01\n",
              "  -4.27573716e-04 -1.07837297e-01 -7.84647688e-02 -2.15050846e-01\n",
              "  -1.11366455e-02 -1.09867926e-03  6.68613613e-03 -5.32256886e-02\n",
              "   5.38150035e-02 -2.10022196e-01 -1.52426437e-01  7.76577964e-02\n",
              "   1.20605351e-02 -2.92985048e-03  3.24317254e-03 -2.77426094e-01\n",
              "   7.11709931e-02  7.09548639e-03  1.73894949e-02  1.16865980e-02\n",
              "   8.90095383e-02 -1.78464264e-01 -9.47068110e-02 -7.60028197e-04\n",
              "   6.42745122e-02 -5.99879809e-02 -1.19801491e-01  6.22431822e-02\n",
              "   1.88309237e-01  6.23968244e-02 -1.76399603e-01  8.01922660e-03\n",
              "   1.28587000e-02 -2.41261516e-02 -7.15084374e-02 -3.41126733e-02\n",
              "   1.88552793e-02 -1.27247870e-01  7.37381950e-02  1.11860238e-01]>,\n",
              " <Variable path=sequential_4/dense_layer_2/kernel, shape=(128, 128), dtype=float32, value=[[-0.09577075 -0.02096894  0.1571873  ...  0.13070248 -0.00978903\n",
              "   -0.23729107]\n",
              "  [ 0.03680582 -0.13007104 -0.03993611 ...  0.12388453 -0.05686407\n",
              "    0.14124186]\n",
              "  [-0.08559593  0.15316845  0.20063412 ...  0.12366176 -0.05605402\n",
              "   -0.08937456]\n",
              "  ...\n",
              "  [ 0.23880742  0.09278488 -0.06990288 ... -0.0342477  -0.17274712\n",
              "    0.10296358]\n",
              "  [-0.02282024  0.01824068  0.13352424 ...  0.1119163  -0.03743317\n",
              "   -0.1833478 ]\n",
              "  [-0.0997713   0.11267657 -0.0108185  ...  0.09557191  0.15742166\n",
              "   -0.11700877]]>,\n",
              " <Variable path=sequential_4/dense_layer_2/bias, shape=(128,), dtype=float32, value=[ 2.83773616e-02 -9.19545963e-02 -8.12186748e-02  1.30533308e-01\n",
              "   2.46821772e-02  1.85312133e-03  3.07428300e-01 -1.20275229e-01\n",
              "   1.30845264e-01  1.44126788e-01  4.96645242e-01  8.03533271e-02\n",
              "  -4.89959717e-02  6.41115149e-03  7.86473509e-03  5.25298007e-02\n",
              "   4.97941934e-02  9.84062999e-02  3.67299080e-01 -1.09478571e-02\n",
              "   3.81683052e-01  2.02204566e-02  2.22411945e-01  2.70200491e-01\n",
              "   7.25702569e-02 -1.37311481e-02  3.25256228e-01 -2.73025986e-02\n",
              "  -4.40870598e-02  1.11849032e-01  1.33302540e-01 -5.76831959e-03\n",
              "  -5.10877115e-04  3.45995545e-01  2.18540803e-01  5.48175722e-02\n",
              "   2.87588805e-01  1.88402236e-01  2.11283080e-02 -3.59559245e-02\n",
              "   9.11411569e-02 -6.57479241e-02  7.37854615e-02  2.70089865e-01\n",
              "   2.30373926e-02  5.25941141e-02  1.18433461e-01  2.87783798e-02\n",
              "   8.85630250e-02  1.36171788e-01  1.63461268e-01 -9.19499993e-03\n",
              "   4.17239740e-02  3.52196276e-01  9.03011560e-02  2.33438119e-01\n",
              "  -5.58939539e-02  7.21958503e-02  9.81493220e-02  6.33075461e-02\n",
              "   6.26772791e-02  1.87959179e-01  1.18018193e-02 -3.96370552e-02\n",
              "   1.16597876e-01  8.09145346e-02  1.72724277e-01  6.12207577e-02\n",
              "   3.90508026e-03 -1.10473558e-01  3.59295518e-03  9.59966984e-03\n",
              "  -1.67845741e-01  1.89841539e-01  6.23728819e-02  1.30889207e-01\n",
              "   2.84534663e-01 -1.90253690e-01  1.41868349e-02 -1.47740245e-02\n",
              "  -5.60966600e-03  1.10009223e-01  3.04312974e-01  9.97057930e-02\n",
              "   1.12035401e-01  2.50131190e-01  1.55479938e-01  1.16717881e-02\n",
              "   2.88609713e-02  7.45274946e-02  1.00514099e-01  3.71533900e-01\n",
              "   6.62603527e-02  5.30222833e-01  7.99878314e-02 -6.63984641e-02\n",
              "   9.35067609e-02 -7.59638995e-02  1.66034907e-01  8.82516280e-02\n",
              "   1.08421870e-01  2.54729480e-01 -3.95560823e-02  1.35113761e-01\n",
              "   9.26859602e-02  2.79984951e-01  4.04460907e-01 -1.27519276e-02\n",
              "   2.44455282e-02  1.37848929e-01  3.88086727e-03  3.87468329e-03\n",
              "   8.48247409e-02 -3.70869301e-02  2.87432373e-01 -2.89548729e-02\n",
              "   2.39490613e-01  1.47396000e-02  5.35242818e-03 -1.21721011e-02\n",
              "   9.43748560e-03  1.43101573e-01 -2.20924709e-02  2.27811513e-03\n",
              "   2.70614088e-01 -3.02075315e-02  5.92888519e-02  1.49313703e-01]>,\n",
              " <Variable path=sequential_4/dense_layer_3/kernel, shape=(128, 10), dtype=float32, value=[[-0.23415795 -0.07537042 -0.24855493 ...  0.12159483  0.24769314\n",
              "   -0.23814268]\n",
              "  [ 0.08139555  0.23777874  0.04140925 ...  0.2066789  -0.24457829\n",
              "    0.2206673 ]\n",
              "  [-0.08101325  0.04872185  0.05045078 ...  0.03308759 -0.20746814\n",
              "    0.11367966]\n",
              "  ...\n",
              "  [ 0.17812324  0.07824261 -0.06496137 ... -0.2698838  -0.14661169\n",
              "   -0.11032685]\n",
              "  [ 0.29848325  0.13117222  0.12397248 ...  0.10530975 -0.29457363\n",
              "   -0.08411847]\n",
              "  [ 0.08062755 -0.20019685  0.01560805 ...  0.08230002  0.09419148\n",
              "   -0.1914493 ]]>,\n",
              " <Variable path=sequential_4/dense_layer_3/bias, shape=(10,), dtype=float32, value=[-0.24193662 -0.35639825  0.13731898 -0.10406896  0.51734555 -0.36156198\n",
              "   0.4238937  -0.00694543  0.12323259 -0.13088161]>]"
            ]
          },
          "metadata": {},
          "execution_count": 38
        }
      ]
    },
    {
      "cell_type": "code",
      "source": [
        "model_2.get_config()"
      ],
      "metadata": {
        "colab": {
          "base_uri": "https://localhost:8080/"
        },
        "id": "apTMJ_y36TOh",
        "outputId": "73e0b54f-cd0a-49d4-e10e-9a87f8cd39b8"
      },
      "execution_count": null,
      "outputs": [
        {
          "output_type": "execute_result",
          "data": {
            "text/plain": [
              "{'name': 'sequential_4',\n",
              " 'trainable': True,\n",
              " 'dtype': {'module': 'keras',\n",
              "  'class_name': 'DTypePolicy',\n",
              "  'config': {'name': 'float32'},\n",
              "  'registered_name': None},\n",
              " 'layers': [{'module': 'keras.layers',\n",
              "   'class_name': 'InputLayer',\n",
              "   'config': {'batch_shape': (None, 3072),\n",
              "    'dtype': 'float32',\n",
              "    'sparse': False,\n",
              "    'name': 'input_layer_4'},\n",
              "   'registered_name': None},\n",
              "  {'module': 'keras.layers',\n",
              "   'class_name': 'Dense',\n",
              "   'config': {'name': 'dense_layer',\n",
              "    'trainable': True,\n",
              "    'dtype': {'module': 'keras',\n",
              "     'class_name': 'DTypePolicy',\n",
              "     'config': {'name': 'float32'},\n",
              "     'registered_name': None},\n",
              "    'units': 128,\n",
              "    'activation': 'relu',\n",
              "    'use_bias': True,\n",
              "    'kernel_initializer': {'module': 'keras.initializers',\n",
              "     'class_name': 'GlorotUniform',\n",
              "     'config': {'seed': None},\n",
              "     'registered_name': None},\n",
              "    'bias_initializer': {'module': 'keras.initializers',\n",
              "     'class_name': 'Zeros',\n",
              "     'config': {},\n",
              "     'registered_name': None},\n",
              "    'kernel_regularizer': None,\n",
              "    'bias_regularizer': None,\n",
              "    'kernel_constraint': None,\n",
              "    'bias_constraint': None},\n",
              "   'registered_name': None,\n",
              "   'build_config': {'input_shape': (None, 3072)}},\n",
              "  {'module': 'keras.layers',\n",
              "   'class_name': 'Dropout',\n",
              "   'config': {'name': 'dropout_2',\n",
              "    'trainable': True,\n",
              "    'dtype': {'module': 'keras',\n",
              "     'class_name': 'DTypePolicy',\n",
              "     'config': {'name': 'float32'},\n",
              "     'registered_name': None},\n",
              "    'rate': 0.3,\n",
              "    'seed': None,\n",
              "    'noise_shape': None},\n",
              "   'registered_name': None},\n",
              "  {'module': 'keras.layers',\n",
              "   'class_name': 'Dense',\n",
              "   'config': {'name': 'dense_layer_2',\n",
              "    'trainable': True,\n",
              "    'dtype': {'module': 'keras',\n",
              "     'class_name': 'DTypePolicy',\n",
              "     'config': {'name': 'float32'},\n",
              "     'registered_name': None},\n",
              "    'units': 128,\n",
              "    'activation': 'relu',\n",
              "    'use_bias': True,\n",
              "    'kernel_initializer': {'module': 'keras.initializers',\n",
              "     'class_name': 'GlorotUniform',\n",
              "     'config': {'seed': None},\n",
              "     'registered_name': None},\n",
              "    'bias_initializer': {'module': 'keras.initializers',\n",
              "     'class_name': 'Zeros',\n",
              "     'config': {},\n",
              "     'registered_name': None},\n",
              "    'kernel_regularizer': None,\n",
              "    'bias_regularizer': None,\n",
              "    'kernel_constraint': None,\n",
              "    'bias_constraint': None},\n",
              "   'registered_name': None,\n",
              "   'build_config': {'input_shape': (None, 128)}},\n",
              "  {'module': 'keras.layers',\n",
              "   'class_name': 'Dropout',\n",
              "   'config': {'name': 'dropout_3',\n",
              "    'trainable': True,\n",
              "    'dtype': {'module': 'keras',\n",
              "     'class_name': 'DTypePolicy',\n",
              "     'config': {'name': 'float32'},\n",
              "     'registered_name': None},\n",
              "    'rate': 0.3,\n",
              "    'seed': None,\n",
              "    'noise_shape': None},\n",
              "   'registered_name': None},\n",
              "  {'module': 'keras.layers',\n",
              "   'class_name': 'Dense',\n",
              "   'config': {'name': 'dense_layer_3',\n",
              "    'trainable': True,\n",
              "    'dtype': {'module': 'keras',\n",
              "     'class_name': 'DTypePolicy',\n",
              "     'config': {'name': 'float32'},\n",
              "     'registered_name': None},\n",
              "    'units': 10,\n",
              "    'activation': 'softmax',\n",
              "    'use_bias': True,\n",
              "    'kernel_initializer': {'module': 'keras.initializers',\n",
              "     'class_name': 'GlorotUniform',\n",
              "     'config': {'seed': None},\n",
              "     'registered_name': None},\n",
              "    'bias_initializer': {'module': 'keras.initializers',\n",
              "     'class_name': 'Zeros',\n",
              "     'config': {},\n",
              "     'registered_name': None},\n",
              "    'kernel_regularizer': None,\n",
              "    'bias_regularizer': None,\n",
              "    'kernel_constraint': None,\n",
              "    'bias_constraint': None},\n",
              "   'registered_name': None,\n",
              "   'build_config': {'input_shape': (None, 128)}}],\n",
              " 'build_input_shape': (None, 3072)}"
            ]
          },
          "metadata": {},
          "execution_count": 39
        }
      ]
    },
    {
      "cell_type": "markdown",
      "source": [
        "###Improved Model 3: Changing the Optimizer - Adam"
      ],
      "metadata": {
        "id": "Fefn856A6Zgu"
      }
    },
    {
      "cell_type": "code",
      "source": [
        "#Most common type of model is a stack of layers\n",
        "model_3 = tf.keras.Sequential()\n",
        "N_hidden = 64\n",
        "\n",
        "# Change input_shape to (3072,) to match CIFAR-10 image shape\n",
        "model_3.add(Dense(N_hidden, name='dense_layer', input_shape=(3072,), activation = 'relu'))\n",
        "\n",
        "# Now the model will take as input arrays of shape (*, 3072)# and output arrays of shape (*, 64)\n",
        "model_3.add(Dropout(0.3))\n",
        "\n",
        "# Adding another dense layer:\n",
        "model_3.add(Dense(N_hidden, name='dense_layer_2', activation='relu'))\n",
        "model_3.add(Dropout(0.3))\n",
        "\n",
        "model_3.add(Dense(10, name='dense_layer_3', activation = 'softmax'))\n"
      ],
      "metadata": {
        "id": "60tN9iqP6cl2",
        "colab": {
          "base_uri": "https://localhost:8080/"
        },
        "outputId": "e4af1ffd-7c17-4ec6-deda-6163f3bd8852"
      },
      "execution_count": null,
      "outputs": [
        {
          "output_type": "stream",
          "name": "stderr",
          "text": [
            "/usr/local/lib/python3.11/dist-packages/keras/src/layers/core/dense.py:87: UserWarning: Do not pass an `input_shape`/`input_dim` argument to a layer. When using Sequential models, prefer using an `Input(shape)` object as the first layer in the model instead.\n",
            "  super().__init__(activity_regularizer=activity_regularizer, **kwargs)\n"
          ]
        }
      ]
    },
    {
      "cell_type": "code",
      "source": [
        "# Compiling the model.\n",
        "model_3.compile(optimizer='Adam',\n",
        "              loss='categorical_crossentropy',\n",
        "              metrics=['accuracy'])"
      ],
      "metadata": {
        "id": "s66RkRd36hAq"
      },
      "execution_count": null,
      "outputs": []
    },
    {
      "cell_type": "code",
      "source": [
        "# Training the model.\n",
        "training = model_3.fit(X_train, Y_train, batch_size=128, epochs=20, validation_split=0.2)\n"
      ],
      "metadata": {
        "colab": {
          "base_uri": "https://localhost:8080/"
        },
        "id": "sscbvk5K6jID",
        "outputId": "77072533-20fb-450f-e335-01d4cca7f60a"
      },
      "execution_count": null,
      "outputs": [
        {
          "output_type": "stream",
          "name": "stdout",
          "text": [
            "Epoch 1/20\n",
            "\u001b[1m313/313\u001b[0m \u001b[32m━━━━━━━━━━━━━━━━━━━━\u001b[0m\u001b[37m\u001b[0m \u001b[1m5s\u001b[0m 10ms/step - accuracy: 0.1376 - loss: 2.2532 - val_accuracy: 0.2142 - val_loss: 2.0673\n",
            "Epoch 2/20\n",
            "\u001b[1m313/313\u001b[0m \u001b[32m━━━━━━━━━━━━━━━━━━━━\u001b[0m\u001b[37m\u001b[0m \u001b[1m6s\u001b[0m 12ms/step - accuracy: 0.1853 - loss: 2.1102 - val_accuracy: 0.2244 - val_loss: 2.0186\n",
            "Epoch 3/20\n",
            "\u001b[1m313/313\u001b[0m \u001b[32m━━━━━━━━━━━━━━━━━━━━\u001b[0m\u001b[37m\u001b[0m \u001b[1m4s\u001b[0m 8ms/step - accuracy: 0.1934 - loss: 2.0806 - val_accuracy: 0.2546 - val_loss: 1.9818\n",
            "Epoch 4/20\n",
            "\u001b[1m313/313\u001b[0m \u001b[32m━━━━━━━━━━━━━━━━━━━━\u001b[0m\u001b[37m\u001b[0m \u001b[1m3s\u001b[0m 9ms/step - accuracy: 0.2026 - loss: 2.0601 - val_accuracy: 0.2532 - val_loss: 1.9780\n",
            "Epoch 5/20\n",
            "\u001b[1m313/313\u001b[0m \u001b[32m━━━━━━━━━━━━━━━━━━━━\u001b[0m\u001b[37m\u001b[0m \u001b[1m6s\u001b[0m 12ms/step - accuracy: 0.2004 - loss: 2.0691 - val_accuracy: 0.2556 - val_loss: 1.9691\n",
            "Epoch 6/20\n",
            "\u001b[1m313/313\u001b[0m \u001b[32m━━━━━━━━━━━━━━━━━━━━\u001b[0m\u001b[37m\u001b[0m \u001b[1m3s\u001b[0m 8ms/step - accuracy: 0.2025 - loss: 2.0640 - val_accuracy: 0.2334 - val_loss: 2.0047\n",
            "Epoch 7/20\n",
            "\u001b[1m313/313\u001b[0m \u001b[32m━━━━━━━━━━━━━━━━━━━━\u001b[0m\u001b[37m\u001b[0m \u001b[1m3s\u001b[0m 9ms/step - accuracy: 0.2085 - loss: 2.0511 - val_accuracy: 0.2533 - val_loss: 1.9904\n",
            "Epoch 8/20\n",
            "\u001b[1m313/313\u001b[0m \u001b[32m━━━━━━━━━━━━━━━━━━━━\u001b[0m\u001b[37m\u001b[0m \u001b[1m2s\u001b[0m 8ms/step - accuracy: 0.2129 - loss: 2.0450 - val_accuracy: 0.2557 - val_loss: 1.9864\n",
            "Epoch 9/20\n",
            "\u001b[1m313/313\u001b[0m \u001b[32m━━━━━━━━━━━━━━━━━━━━\u001b[0m\u001b[37m\u001b[0m \u001b[1m3s\u001b[0m 10ms/step - accuracy: 0.2071 - loss: 2.0502 - val_accuracy: 0.2565 - val_loss: 1.9763\n",
            "Epoch 10/20\n",
            "\u001b[1m313/313\u001b[0m \u001b[32m━━━━━━━━━━━━━━━━━━━━\u001b[0m\u001b[37m\u001b[0m \u001b[1m3s\u001b[0m 10ms/step - accuracy: 0.2114 - loss: 2.0414 - val_accuracy: 0.2428 - val_loss: 1.9846\n",
            "Epoch 11/20\n",
            "\u001b[1m313/313\u001b[0m \u001b[32m━━━━━━━━━━━━━━━━━━━━\u001b[0m\u001b[37m\u001b[0m \u001b[1m3s\u001b[0m 8ms/step - accuracy: 0.2121 - loss: 2.0324 - val_accuracy: 0.2571 - val_loss: 1.9796\n",
            "Epoch 12/20\n",
            "\u001b[1m313/313\u001b[0m \u001b[32m━━━━━━━━━━━━━━━━━━━━\u001b[0m\u001b[37m\u001b[0m \u001b[1m2s\u001b[0m 7ms/step - accuracy: 0.2098 - loss: 2.0458 - val_accuracy: 0.2562 - val_loss: 1.9787\n",
            "Epoch 13/20\n",
            "\u001b[1m313/313\u001b[0m \u001b[32m━━━━━━━━━━━━━━━━━━━━\u001b[0m\u001b[37m\u001b[0m \u001b[1m3s\u001b[0m 8ms/step - accuracy: 0.2165 - loss: 2.0260 - val_accuracy: 0.2634 - val_loss: 1.9616\n",
            "Epoch 14/20\n",
            "\u001b[1m313/313\u001b[0m \u001b[32m━━━━━━━━━━━━━━━━━━━━\u001b[0m\u001b[37m\u001b[0m \u001b[1m3s\u001b[0m 11ms/step - accuracy: 0.2072 - loss: 2.0432 - val_accuracy: 0.2643 - val_loss: 1.9657\n",
            "Epoch 15/20\n",
            "\u001b[1m313/313\u001b[0m \u001b[32m━━━━━━━━━━━━━━━━━━━━\u001b[0m\u001b[37m\u001b[0m \u001b[1m3s\u001b[0m 8ms/step - accuracy: 0.2166 - loss: 2.0338 - val_accuracy: 0.2454 - val_loss: 1.9776\n",
            "Epoch 16/20\n",
            "\u001b[1m313/313\u001b[0m \u001b[32m━━━━━━━━━━━━━━━━━━━━\u001b[0m\u001b[37m\u001b[0m \u001b[1m3s\u001b[0m 8ms/step - accuracy: 0.2172 - loss: 2.0249 - val_accuracy: 0.2533 - val_loss: 1.9515\n",
            "Epoch 17/20\n",
            "\u001b[1m313/313\u001b[0m \u001b[32m━━━━━━━━━━━━━━━━━━━━\u001b[0m\u001b[37m\u001b[0m \u001b[1m3s\u001b[0m 8ms/step - accuracy: 0.2153 - loss: 2.0287 - val_accuracy: 0.2422 - val_loss: 1.9923\n",
            "Epoch 18/20\n",
            "\u001b[1m313/313\u001b[0m \u001b[32m━━━━━━━━━━━━━━━━━━━━\u001b[0m\u001b[37m\u001b[0m \u001b[1m6s\u001b[0m 11ms/step - accuracy: 0.2180 - loss: 2.0288 - val_accuracy: 0.2526 - val_loss: 1.9764\n",
            "Epoch 19/20\n",
            "\u001b[1m313/313\u001b[0m \u001b[32m━━━━━━━━━━━━━━━━━━━━\u001b[0m\u001b[37m\u001b[0m \u001b[1m6s\u001b[0m 14ms/step - accuracy: 0.2153 - loss: 2.0280 - val_accuracy: 0.2524 - val_loss: 1.9997\n",
            "Epoch 20/20\n",
            "\u001b[1m313/313\u001b[0m \u001b[32m━━━━━━━━━━━━━━━━━━━━\u001b[0m\u001b[37m\u001b[0m \u001b[1m4s\u001b[0m 11ms/step - accuracy: 0.2191 - loss: 2.0260 - val_accuracy: 0.2389 - val_loss: 1.9730\n"
          ]
        }
      ]
    },
    {
      "cell_type": "code",
      "source": [
        "import matplotlib.pyplot as plt\n",
        "%matplotlib inline\n",
        "# list all data in training\n",
        "print(training.history.keys())\n",
        "# summarize training for accuracy\n",
        "plt.plot(training.history['accuracy'])\n",
        "plt.plot(training.history['val_accuracy'])\n",
        "plt.title('model accuracy')\n",
        "plt.ylabel('accuracy')\n",
        "plt.xlabel('epoch')\n",
        "plt.legend(['train', 'test'], loc='upper left')\n",
        "plt.show()\n",
        "# summarize traning for loss\n",
        "plt.plot(training.history['loss'])\n",
        "plt.plot(training.history['val_loss'])\n",
        "plt.title('model loss')\n",
        "plt.ylabel('loss')\n",
        "plt.xlabel('epoch')\n",
        "plt.legend(['train', 'test'], loc='upper left')\n",
        "plt.show()"
      ],
      "metadata": {
        "id": "Af1ArSgc6oH3",
        "colab": {
          "base_uri": "https://localhost:8080/",
          "height": 943
        },
        "outputId": "371e8a56-b44d-4047-8e74-801e56dc7ae9"
      },
      "execution_count": null,
      "outputs": [
        {
          "output_type": "stream",
          "name": "stdout",
          "text": [
            "dict_keys(['accuracy', 'loss', 'val_accuracy', 'val_loss'])\n"
          ]
        },
        {
          "output_type": "display_data",
          "data": {
            "text/plain": [
              "<Figure size 640x480 with 1 Axes>"
            ],
            "image/png": "[encoded data removed]"
          },
          "metadata": {}
        },
        {
          "output_type": "display_data",
          "data": {
            "text/plain": [
              "<Figure size 640x480 with 1 Axes>"
            ],
            "image/png": "[encoded data removed]"
          },
          "metadata": {}
        }
      ]
    },
    {
      "cell_type": "markdown",
      "source": [
        "1.First Set of Images:\n",
        "Accuracy Graph: The training accuracy improves steadily, while the test accuracy fluctuates, indicating potential overfitting.\n",
        "Loss Graph: The training loss decreases consistently, but the validation loss remains higher and fluctuates, further suggesting overfitting.\n",
        "\n",
        "2.Second Set of Images:\n",
        "Accuracy Graph: Validation accuracy is higher than training accuracy, which might indicate underfitting or data leakage.\n",
        "Loss Graph: Both training and validation loss decrease but remain close, implying the model may not be learning complex patterns well.\n"
      ],
      "metadata": {
        "id": "fON518-69b73"
      }
    },
    {
      "cell_type": "code",
      "source": [
        "#evaluate the model\n",
        "test_loss, test_acc = model_3.evaluate(X_test, Y_test)\n",
        "print('Test accuracy:', test_acc)"
      ],
      "metadata": {
        "id": "VllB3ROn6sjt",
        "colab": {
          "base_uri": "https://localhost:8080/"
        },
        "outputId": "515b35fd-8bb6-4306-b58c-816643dc6882"
      },
      "execution_count": null,
      "outputs": [
        {
          "output_type": "stream",
          "name": "stdout",
          "text": [
            "\u001b[1m313/313\u001b[0m \u001b[32m━━━━━━━━━━━━━━━━━━━━\u001b[0m\u001b[37m\u001b[0m \u001b[1m1s\u001b[0m 2ms/step - accuracy: 0.2349 - loss: 1.9648\n",
            "Test accuracy: 0.23229999840259552\n"
          ]
        }
      ]
    },
    {
      "cell_type": "code",
      "source": [
        "model_3.summary"
      ],
      "metadata": {
        "id": "hg3QRLym6vJY",
        "colab": {
          "base_uri": "https://localhost:8080/",
          "height": 202
        },
        "outputId": "7720e60d-fd32-42e4-d9a7-ee3497a83ab7"
      },
      "execution_count": null,
      "outputs": [
        {
          "output_type": "execute_result",
          "data": {
            "text/plain": [
              "<bound method Model.summary of <Sequential name=sequential_7, built=True>>"
            ],
            "text/html": [
              "<div style=\"max-width:800px; border: 1px solid var(--colab-border-color);\"><style>\n",
              "      pre.function-repr-contents {\n",
              "        overflow-x: auto;\n",
              "        padding: 8px 12px;\n",
              "        max-height: 500px;\n",
              "      }\n",
              "\n",
              "      pre.function-repr-contents.function-repr-contents-collapsed {\n",
              "        cursor: pointer;\n",
              "        max-height: 100px;\n",
              "      }\n",
              "    </style>\n",
              "    <pre style=\"white-space: initial; background:\n",
              "         var(--colab-secondary-surface-color); padding: 8px 12px;\n",
              "         border-bottom: 1px solid var(--colab-border-color);\"><b>keras.src.models.model.Model.summary</b><br/>def summary(line_length=None, positions=None, print_fn=None, expand_nested=False, show_trainable=False, layer_range=None)</pre><pre class=\"function-repr-contents function-repr-contents-collapsed\" style=\"\"><a class=\"filepath\" style=\"display:none\" href=\"#\">/usr/local/lib/python3.11/dist-packages/keras/src/models/model.py</a>Prints a string summary of the network.\n",
              "\n",
              "Args:\n",
              "    line_length: Total length of printed lines\n",
              "        (e.g. set this to adapt the display to different\n",
              "        terminal window sizes).\n",
              "    positions: Relative or absolute positions of log elements\n",
              "        in each line. If not provided, becomes\n",
              "        `[0.3, 0.6, 0.70, 1.]`. Defaults to `None`.\n",
              "    print_fn: Print function to use. By default, prints to `stdout`.\n",
              "        If `stdout` doesn&#x27;t work in your environment, change to `print`.\n",
              "        It will be called on each line of the summary.\n",
              "        You can set it to a custom function\n",
              "        in order to capture the string summary.\n",
              "    expand_nested: Whether to expand the nested models.\n",
              "        Defaults to `False`.\n",
              "    show_trainable: Whether to show if a layer is trainable.\n",
              "        Defaults to `False`.\n",
              "    layer_range: a list or tuple of 2 strings,\n",
              "        which is the starting layer name and ending layer name\n",
              "        (both inclusive) indicating the range of layers to be printed\n",
              "        in summary. It also accepts regex patterns instead of exact\n",
              "        names. In this case, the start predicate will be\n",
              "        the first element that matches `layer_range[0]`\n",
              "        and the end predicate will be the last element\n",
              "        that matches `layer_range[1]`.\n",
              "        By default `None` considers all layers of the model.\n",
              "\n",
              "Raises:\n",
              "    ValueError: if `summary()` is called before the model is built.</pre>\n",
              "      <script>\n",
              "      if (google.colab.kernel.accessAllowed && google.colab.files && google.colab.files.view) {\n",
              "        for (const element of document.querySelectorAll('.filepath')) {\n",
              "          element.style.display = 'block'\n",
              "          element.onclick = (event) => {\n",
              "            event.preventDefault();\n",
              "            event.stopPropagation();\n",
              "            google.colab.files.view(element.textContent, 218);\n",
              "          };\n",
              "        }\n",
              "      }\n",
              "      for (const element of document.querySelectorAll('.function-repr-contents')) {\n",
              "        element.onclick = (event) => {\n",
              "          event.preventDefault();\n",
              "          event.stopPropagation();\n",
              "          element.classList.toggle('function-repr-contents-collapsed');\n",
              "        };\n",
              "      }\n",
              "      </script>\n",
              "      </div>"
            ]
          },
          "metadata": {},
          "execution_count": 51
        }
      ]
    },
    {
      "cell_type": "code",
      "source": [
        "model_3.weights"
      ],
      "metadata": {
        "id": "y3XHqO6o6wo3",
        "colab": {
          "base_uri": "https://localhost:8080/"
        },
        "outputId": "affc0e40-003d-40a2-8aef-c77a89c284e5"
      },
      "execution_count": null,
      "outputs": [
        {
          "output_type": "execute_result",
          "data": {
            "text/plain": [
              "[<Variable path=sequential_7/dense_layer/kernel, shape=(3072, 64), dtype=float32, value=[[ 0.00732611  0.0013504   0.03446994 ...  0.01633651  0.00371626\n",
              "   -0.0255663 ]\n",
              "  [-0.00637084  0.03373248  0.00822117 ...  0.00417991 -0.02230811\n",
              "    0.01564049]\n",
              "  [-0.03051765 -0.02904163  0.01399644 ... -0.03853353 -0.03272516\n",
              "    0.03074162]\n",
              "  ...\n",
              "  [-0.03171764  0.01837103 -0.00264232 ...  0.02233098 -0.02037484\n",
              "    0.02658968]\n",
              "  [ 0.03401923 -0.00205057 -0.03768148 ... -0.01787616 -0.03941037\n",
              "    0.02529074]\n",
              "  [-0.01354682  0.01583253  0.006826   ...  0.00093104 -0.01385533\n",
              "    0.03518738]]>,\n",
              " <Variable path=sequential_7/dense_layer/bias, shape=(64,), dtype=float32, value=[-5.5221138e-03 -3.2054277e-03 -5.5505279e-03  1.6261137e-04\n",
              "  -4.9173292e-03 -6.5487260e-03 -7.3249461e-03  1.3762862e-02\n",
              "  -6.0045784e-03 -3.1425652e-01 -5.9984955e-03 -7.6122903e-03\n",
              "  -5.8674398e-03 -4.9191448e-03  4.2963768e-03 -6.0034492e-03\n",
              "  -5.2147792e-03 -6.7801462e-03 -5.2246139e-03 -6.0043330e-03\n",
              "  -5.4779984e-03 -6.6819228e-03 -3.6129290e-03 -6.2077255e-03\n",
              "  -4.0561245e-03 -3.9226464e-03 -6.0004750e-03 -6.0033854e-03\n",
              "  -5.9498725e-03 -4.9444144e-03 -6.0039340e-03 -4.0173093e-03\n",
              "  -6.0038487e-03 -5.9995009e-03 -6.0034944e-03 -7.8433994e-03\n",
              "  -5.1041716e-03 -6.0037505e-03 -6.0042418e-03 -5.3444849e-03\n",
              "  -6.0018473e-03 -6.0009300e-03 -5.9860959e-03 -5.5488423e-03\n",
              "  -5.9927842e-03 -6.0045319e-03 -6.0017980e-03 -6.0013509e-03\n",
              "  -8.1390962e-03 -6.0495446e-03 -5.1919357e-03 -8.0725560e-03\n",
              "  -6.0040513e-03 -1.2566180e-03  6.2062335e-01 -8.1801666e-03\n",
              "  -6.3831052e-03 -5.7264399e-03 -5.9825722e-03 -5.2220318e-03\n",
              "  -7.3683625e-03 -2.5300505e-03 -4.2830748e-03 -7.2225961e-03]>,\n",
              " <Variable path=sequential_7/dense_layer_2/kernel, shape=(64, 64), dtype=float32, value=[[-0.06418462  0.04534645  0.11457013 ...  0.18371893  0.21339726\n",
              "   -0.11093093]\n",
              "  [-0.02171842  0.14344883  0.19595827 ...  0.13828227 -0.00436808\n",
              "   -0.07173736]\n",
              "  [-0.04715575 -0.1139193  -0.17567918 ...  0.12770234  0.01984514\n",
              "   -0.01244323]\n",
              "  ...\n",
              "  [ 0.10270389 -0.01443694  0.11194462 ...  0.15586126 -0.05344428\n",
              "   -0.03594985]\n",
              "  [-0.20282973 -0.19855016 -0.07406219 ...  0.17371534  0.11998569\n",
              "   -0.20070581]\n",
              "  [-0.00721448 -0.10689294  0.06568494 ... -0.06667516 -0.20220098\n",
              "   -0.19094518]]>,\n",
              " <Variable path=sequential_7/dense_layer_2/bias, shape=(64,), dtype=float32, value=[ 0.19782715 -0.08864182 -0.01556256 -0.24444355 -0.0703261  -0.0222668\n",
              "  -0.5367024  -0.32328707 -0.2694729  -0.00483879 -0.44742414 -0.0716994\n",
              "  -0.17239006 -0.30566812  0.16279337 -0.09823484  0.14644183 -0.0442128\n",
              "  -0.00943416 -0.01396159 -0.07682744 -0.07311914  0.30506814  0.04268887\n",
              "  -0.36820772 -0.4020425  -0.06500486 -0.02241008 -0.5614777   0.22368069\n",
              "  -0.06560235  0.19687581  0.18243848 -0.02042747 -0.23383091  0.14915654\n",
              "  -0.26655295  0.19451421  0.1583882  -0.1321657  -0.00302468 -0.39783183\n",
              "   0.26646784  0.13317809 -0.1268327  -0.02527642 -0.00416313 -0.42345816\n",
              "  -0.1716737  -0.00541454 -0.18250917  0.20288844 -0.008486    0.3260075\n",
              "   0.20104453 -0.20110518  0.1871029  -0.05139993 -0.23727034 -0.14605404\n",
              "  -0.15585424  0.35900426 -0.08728187 -0.17579752]>,\n",
              " <Variable path=sequential_7/dense_layer_3/kernel, shape=(64, 10), dtype=float32, value=[[-0.15918905 -0.13672815 -0.03968212 -0.05934656 -0.00417856 -0.04328503\n",
              "    0.0230823  -0.0252409  -0.40510577 -0.30495   ]\n",
              "  [ 0.09773913  0.1122755   0.1016771   0.01702916 -0.14140461  0.09551199\n",
              "   -0.5069372  -0.07048915  0.06328978  0.06621193]\n",
              "  [-0.18062334 -0.32155326  0.13145213  0.20652354 -0.1060724  -0.03551997\n",
              "    0.1879385  -0.14864357  0.10846005 -0.21397261]\n",
              "  [ 0.30337954  0.01676967  0.17728838 -0.11089881  0.13745365 -0.06624884\n",
              "    0.13764909  0.15399441  0.23662667 -0.03715417]\n",
              "  [-0.1146609   0.09515422 -0.27543312 -0.03151881 -0.33186314 -0.16297868\n",
              "   -0.19329381 -0.13070863 -0.01150281  0.07217517]\n",
              "  [ 0.23917252  0.26603758  0.22779898 -0.06927318 -0.21412826 -0.00073833\n",
              "    0.30962723 -0.2337024   0.24869792 -0.25782073]\n",
              "  [ 0.27915034 -0.05346764  0.14195827 -0.23201568  0.0070721  -0.26298225\n",
              "   -0.11702909 -0.13401173  0.1921724  -0.10179227]\n",
              "  [ 0.39368588 -0.26429632  0.23845461 -0.31670126  0.17276388 -0.18293302\n",
              "   -0.00637201  0.03049668  0.2710864  -0.11941511]\n",
              "  [-0.06404914  0.1976157  -0.09434126 -0.1122961  -0.14782494 -0.2181219\n",
              "   -0.13236293 -0.23668884  0.02854897  0.14211303]\n",
              "  [-0.22020337  0.02098909 -0.21243921  0.05409085 -0.16885191  0.07322924\n",
              "   -0.2400396  -0.23452684  0.17220579  0.02673609]\n",
              "  [ 0.30385774 -0.13369232  0.15459648 -0.09274354  0.135753   -0.16219875\n",
              "   -0.03214066 -0.07853715  0.20940335 -0.2883243 ]\n",
              "  [-0.16352668  0.14534263 -0.20937853  0.14349154  0.22131042  0.14866509\n",
              "   -0.09338742 -0.1374067  -0.2123307  -0.16848844]\n",
              "  [ 0.1172719   0.08930674 -0.00505423 -0.03415944 -0.10568356 -0.04185676\n",
              "   -0.4359944  -0.02180609  0.06080129 -0.00166636]\n",
              "  [ 0.22803067  0.03881701  0.0725411  -0.19385976 -0.04542352 -0.2604543\n",
              "   -0.33195046 -0.02985007  0.2366936   0.13888787]\n",
              "  [-0.11180102 -0.14037262  0.1242938   0.12664728  0.15332277  0.13583739\n",
              "    0.13783315  0.14432268 -0.20136648 -0.26177114]\n",
              "  [-0.01798491  0.08679504  0.05143332 -0.06091758  0.14426665 -0.0979298\n",
              "    0.21748425  0.05486446 -0.2963777  -0.09788837]\n",
              "  [-0.19116469 -0.15780276  0.05276205  0.01931342  0.07246958  0.05179051\n",
              "    0.06499279  0.0455299  -0.36340284 -0.22262652]\n",
              "  [-0.05853688  0.14763722 -0.35752323 -0.01248858 -0.39142787 -0.26404777\n",
              "   -0.14539087 -0.1741851  -0.01140017  0.13344981]\n",
              "  [ 0.13015768 -0.17538582 -0.03653615 -0.07243995 -0.21509843  0.16342738\n",
              "    0.18176128 -0.11330236  0.00234007 -0.03309406]\n",
              "  [ 0.01652828  0.23583044  0.10351141 -0.22229572 -0.14018527 -0.11704436\n",
              "   -0.05438064  0.08358686 -0.05334498 -0.28251392]\n",
              "  [ 0.03566262  0.09830943 -0.17573105 -0.05988012 -0.13958758 -0.19783352\n",
              "   -0.26346457 -0.00722624  0.08508705  0.07808265]\n",
              "  [ 0.01953529 -0.15499103  0.11000145  0.06618825  0.13327664  0.03516923\n",
              "    0.1635311   0.07594278 -0.13954696  0.08658334]\n",
              "  [ 0.49013495  0.06288852 -0.05424897 -0.01800723 -0.13024424 -0.1484316\n",
              "   -0.2062477  -0.0990255   0.461105    0.08418317]\n",
              "  [-0.00254854 -0.2482754   0.12456454  0.02498     0.15286034  0.05618486\n",
              "    0.1282454   0.15021023 -0.18684979 -0.10202654]\n",
              "  [ 0.2671826  -0.08471017  0.05768835 -0.31057858 -0.08183162 -0.27984422\n",
              "   -0.33444116 -0.03600116  0.19059932 -0.10409871]\n",
              "  [ 0.23304571 -0.18728603  0.02317169 -0.25631192  0.17882618 -0.2589637\n",
              "   -0.14441128 -0.40876654  0.2819766  -0.02032325]\n",
              "  [ 0.06426432  0.07425528 -0.18409142 -0.09770331 -0.16330594 -0.18509114\n",
              "   -0.4739243  -0.06304059  0.13174     0.13584355]\n",
              "  [-0.14351778 -0.15450941  0.14703552 -0.12957598 -0.02049126 -0.18011548\n",
              "   -0.24170765 -0.18102194  0.00301183  0.17652905]\n",
              "  [ 0.2056281  -0.30739298  0.04529684 -0.30344927  0.0058243  -0.35703522\n",
              "   -0.1311892  -0.28184068  0.11462549 -0.31621596]\n",
              "  [-0.06595403  0.23868151  0.10280572  0.3363551  -0.04055256  0.28357497\n",
              "   -0.01142043  0.08650849 -0.03561799  0.11636192]\n",
              "  [-0.01815937  0.02954776 -0.20371275 -0.167137   -0.22632673 -0.22744566\n",
              "   -0.3711432  -0.1135433   0.03330556  0.05811998]\n",
              "  [-0.24895205 -0.27593526  0.0280378  -0.01831758  0.08510219  0.02652807\n",
              "    0.06215885  0.05446333 -0.13401707 -0.35458842]\n",
              "  [-0.04011307 -0.11592571  0.18887065  0.12531573  0.22504923  0.15166698\n",
              "    0.23108754  0.14288437 -0.14419259 -0.07846592]\n",
              "  [-0.01393031 -0.25079042  0.25636992  0.3119312  -0.13085537  0.21965933\n",
              "    0.26520336 -0.23277937 -0.29896125 -0.16523802]\n",
              "  [ 0.21244565 -0.09337346  0.07870606 -0.17463732 -0.07413145 -0.3502051\n",
              "   -0.29938054 -0.13296142  0.24295928  0.12403657]\n",
              "  [-0.03336394 -0.01809022  0.12358832  0.09170301  0.1511046   0.09837212\n",
              "    0.15349169  0.1415392  -0.3025412  -0.0939967 ]\n",
              "  [ 0.08234093 -0.08506822 -0.05301932 -0.18842198 -0.20809509 -0.13234487\n",
              "   -0.4641878  -0.05483755  0.06760503 -0.04411636]\n",
              "  [-0.23941492 -0.23279054  0.05562571  0.00856566  0.11009803  0.06555936\n",
              "    0.08906296  0.07377598 -0.34107864 -0.32709384]\n",
              "  [-0.19827041 -0.2437398   0.19164877  0.11233804  0.19873351  0.1405416\n",
              "    0.22115037  0.15761465 -0.18179391 -0.20132643]\n",
              "  [-0.15513463  0.10515102  0.07899147 -0.05345987  0.12986174 -0.06700186\n",
              "    0.11503627  0.03593669 -0.26273367 -0.01247354]\n",
              "  [ 0.05809948  0.18190022 -0.11341205 -0.13740821 -0.3281355  -0.07827453\n",
              "   -0.38442126 -0.05245721  0.15498343  0.18321773]\n",
              "  [ 0.1092335  -0.16891441  0.002496   -0.32859752 -0.05343979 -0.26166356\n",
              "   -0.50813717 -0.24392745  0.11293179 -0.03250839]\n",
              "  [ 0.56959116 -0.3631309   0.18655673 -0.40075627  0.09020521 -0.16548692\n",
              "    0.08823776 -0.17251861  0.4900864  -0.19578844]\n",
              "  [ 0.04988174  0.0027301   0.14939483  0.08877047  0.15122722  0.12128267\n",
              "    0.15403196  0.1418838  -0.21461798 -0.03699382]\n",
              "  [-0.05302416  0.14463225 -0.03940506 -0.126517   -0.02643417 -0.12589748\n",
              "    0.03752775 -0.12749517 -0.09501568  0.08625164]\n",
              "  [ 0.01215181  0.15004869 -0.15099284 -0.05299477 -0.23465534 -0.22390151\n",
              "   -0.17179471 -0.0254156   0.03437265  0.10606214]\n",
              "  [-0.20068687 -0.06434498 -0.10973724 -0.03870239 -0.18530189 -0.20329085\n",
              "   -0.23246928  0.08591327 -0.02173641 -0.08421914]\n",
              "  [ 0.31106704  0.03060731  0.1502425  -0.24522136  0.01643514 -0.12748048\n",
              "   -0.211904   -0.04791794  0.30351076  0.03870818]\n",
              "  [-0.08872333  0.16150849 -0.3041815  -0.06133803 -0.3177935  -0.18958896\n",
              "   -0.25927284 -0.20378388  0.04241632  0.09646418]\n",
              "  [ 0.19955961 -0.16672128  0.12795652  0.2347377   0.07319625  0.24340057\n",
              "    0.13175125 -0.24283865 -0.23546691  0.14026387]\n",
              "  [-0.06865488  0.2668503  -0.140885   -0.0944478  -0.17245463 -0.01318497\n",
              "   -0.07113947 -0.27643096  0.06884002  0.24146932]\n",
              "  [-0.27921116 -0.24130453  0.04353732  0.08982386  0.11011422 -0.02728776\n",
              "    0.12612557  0.01564344 -0.34769446 -0.44295397]\n",
              "  [-0.13952513 -0.2780901  -0.0863037   0.21933432  0.16906463 -0.13628195\n",
              "    0.17147756  0.15716405  0.24195947  0.2486217 ]\n",
              "  [ 0.24082291 -0.31780398  0.04900274 -0.42615923  0.19036955 -0.4621774\n",
              "    0.13734938 -0.31985098  0.273621   -0.1457271 ]\n",
              "  [-0.21247174 -0.25498942  0.17290767  0.19864996  0.1097675   0.228823\n",
              "    0.18589096  0.08291996 -0.2005485  -0.22261544]\n",
              "  [ 0.1551392   0.12143141 -0.09541545 -0.17193933 -0.11772629 -0.15094896\n",
              "   -0.28844503 -0.1551994   0.20564216  0.1479314 ]\n",
              "  [-0.2854958  -0.03860459  0.06889676  0.04583363  0.0560126   0.17106916\n",
              "    0.1174787   0.04087235 -0.25388882 -0.42265594]\n",
              "  [-0.01338058 -0.01967692 -0.15325633 -0.30674455 -0.04184102  0.22851077\n",
              "   -0.30617926  0.23172036 -0.04106791  0.0385296 ]\n",
              "  [-0.05960592  0.24547048 -0.00957639 -0.13544434  0.01104435 -0.28373295\n",
              "    0.0242504  -0.18231046  0.08438813  0.21157904]\n",
              "  [ 0.05512603  0.30810052 -0.11487635 -0.02736367 -0.08657515 -0.00342485\n",
              "   -0.07652094 -0.139772    0.03270615  0.26426718]\n",
              "  [-0.14606456  0.16701303 -0.25433317 -0.12806787 -0.16109349 -0.20671825\n",
              "   -0.26207572 -0.18993758 -0.05573986  0.07458298]\n",
              "  [ 0.5350827  -0.36354995 -0.05447743 -0.48775288 -0.02693754 -0.49804908\n",
              "   -0.22178507 -0.41885704  0.414845   -0.13198078]\n",
              "  [-0.03654049  0.02077745  0.07461844  0.0301879   0.15781885  0.05294601\n",
              "    0.16785476  0.09833026 -0.422977   -0.0349353 ]\n",
              "  [ 0.15235668  0.1807118  -0.00124657 -0.06801386  0.01297165 -0.02896842\n",
              "   -0.19054376 -0.02873605  0.19825913  0.21036118]]>,\n",
              " <Variable path=sequential_7/dense_layer_3/bias, shape=(10,), dtype=float32, value=[-0.30535322  0.00979422 -0.16084126  0.31442523 -0.16575481  0.28827834\n",
              "  -0.0105542   0.17404963 -0.19147912  0.09465483]>]"
            ]
          },
          "metadata": {},
          "execution_count": 52
        }
      ]
    },
    {
      "cell_type": "code",
      "source": [
        "model_3.get_config()"
      ],
      "metadata": {
        "id": "3DM0EqRr6ygE",
        "colab": {
          "base_uri": "https://localhost:8080/"
        },
        "outputId": "35e899b0-7536-4037-a14c-59745404e6ad"
      },
      "execution_count": null,
      "outputs": [
        {
          "output_type": "execute_result",
          "data": {
            "text/plain": [
              "{'name': 'sequential_7',\n",
              " 'trainable': True,\n",
              " 'dtype': {'module': 'keras',\n",
              "  'class_name': 'DTypePolicy',\n",
              "  'config': {'name': 'float32'},\n",
              "  'registered_name': None},\n",
              " 'layers': [{'module': 'keras.layers',\n",
              "   'class_name': 'InputLayer',\n",
              "   'config': {'batch_shape': (None, 3072),\n",
              "    'dtype': 'float32',\n",
              "    'sparse': False,\n",
              "    'name': 'input_layer_7'},\n",
              "   'registered_name': None},\n",
              "  {'module': 'keras.layers',\n",
              "   'class_name': 'Dense',\n",
              "   'config': {'name': 'dense_layer',\n",
              "    'trainable': True,\n",
              "    'dtype': {'module': 'keras',\n",
              "     'class_name': 'DTypePolicy',\n",
              "     'config': {'name': 'float32'},\n",
              "     'registered_name': None},\n",
              "    'units': 64,\n",
              "    'activation': 'relu',\n",
              "    'use_bias': True,\n",
              "    'kernel_initializer': {'module': 'keras.initializers',\n",
              "     'class_name': 'GlorotUniform',\n",
              "     'config': {'seed': None},\n",
              "     'registered_name': None},\n",
              "    'bias_initializer': {'module': 'keras.initializers',\n",
              "     'class_name': 'Zeros',\n",
              "     'config': {},\n",
              "     'registered_name': None},\n",
              "    'kernel_regularizer': None,\n",
              "    'bias_regularizer': None,\n",
              "    'kernel_constraint': None,\n",
              "    'bias_constraint': None},\n",
              "   'registered_name': None,\n",
              "   'build_config': {'input_shape': (None, 3072)}},\n",
              "  {'module': 'keras.layers',\n",
              "   'class_name': 'Dropout',\n",
              "   'config': {'name': 'dropout_8',\n",
              "    'trainable': True,\n",
              "    'dtype': {'module': 'keras',\n",
              "     'class_name': 'DTypePolicy',\n",
              "     'config': {'name': 'float32'},\n",
              "     'registered_name': None},\n",
              "    'rate': 0.3,\n",
              "    'seed': None,\n",
              "    'noise_shape': None},\n",
              "   'registered_name': None},\n",
              "  {'module': 'keras.layers',\n",
              "   'class_name': 'Dense',\n",
              "   'config': {'name': 'dense_layer_2',\n",
              "    'trainable': True,\n",
              "    'dtype': {'module': 'keras',\n",
              "     'class_name': 'DTypePolicy',\n",
              "     'config': {'name': 'float32'},\n",
              "     'registered_name': None},\n",
              "    'units': 64,\n",
              "    'activation': 'relu',\n",
              "    'use_bias': True,\n",
              "    'kernel_initializer': {'module': 'keras.initializers',\n",
              "     'class_name': 'GlorotUniform',\n",
              "     'config': {'seed': None},\n",
              "     'registered_name': None},\n",
              "    'bias_initializer': {'module': 'keras.initializers',\n",
              "     'class_name': 'Zeros',\n",
              "     'config': {},\n",
              "     'registered_name': None},\n",
              "    'kernel_regularizer': None,\n",
              "    'bias_regularizer': None,\n",
              "    'kernel_constraint': None,\n",
              "    'bias_constraint': None},\n",
              "   'registered_name': None,\n",
              "   'build_config': {'input_shape': (None, 64)}},\n",
              "  {'module': 'keras.layers',\n",
              "   'class_name': 'Dropout',\n",
              "   'config': {'name': 'dropout_9',\n",
              "    'trainable': True,\n",
              "    'dtype': {'module': 'keras',\n",
              "     'class_name': 'DTypePolicy',\n",
              "     'config': {'name': 'float32'},\n",
              "     'registered_name': None},\n",
              "    'rate': 0.3,\n",
              "    'seed': None,\n",
              "    'noise_shape': None},\n",
              "   'registered_name': None},\n",
              "  {'module': 'keras.layers',\n",
              "   'class_name': 'Dense',\n",
              "   'config': {'name': 'dense_layer_3',\n",
              "    'trainable': True,\n",
              "    'dtype': {'module': 'keras',\n",
              "     'class_name': 'DTypePolicy',\n",
              "     'config': {'name': 'float32'},\n",
              "     'registered_name': None},\n",
              "    'units': 10,\n",
              "    'activation': 'softmax',\n",
              "    'use_bias': True,\n",
              "    'kernel_initializer': {'module': 'keras.initializers',\n",
              "     'class_name': 'GlorotUniform',\n",
              "     'config': {'seed': None},\n",
              "     'registered_name': None},\n",
              "    'bias_initializer': {'module': 'keras.initializers',\n",
              "     'class_name': 'Zeros',\n",
              "     'config': {},\n",
              "     'registered_name': None},\n",
              "    'kernel_regularizer': None,\n",
              "    'bias_regularizer': None,\n",
              "    'kernel_constraint': None,\n",
              "    'bias_constraint': None},\n",
              "   'registered_name': None,\n",
              "   'build_config': {'input_shape': (None, 64)}}],\n",
              " 'build_input_shape': (None, 3072)}"
            ]
          },
          "metadata": {},
          "execution_count": 53
        }
      ]
    },
    {
      "cell_type": "markdown",
      "source": [
        "###Improved Model 4: Increasing the number of Hidden Layer neuron"
      ],
      "metadata": {
        "id": "xR6T08W46zuW"
      }
    },
    {
      "cell_type": "code",
      "source": [
        "#Most common type of model is a stack of layers\n",
        "model_4 = tf.keras.Sequential()\n",
        "N_hidden = 512\n",
        "# Adds a densely-connected layer with 64 units to the model:\n",
        "# Change input_shape to (3072,) to match the flattened CIFAR-10 image shape\n",
        "model_4.add(Dense(N_hidden, name='dense_layer', input_shape=(3072,), activation = 'relu'))\n",
        "# Now the model will take as input arrays of shape (*, 3072)# and output arrays of shape (*, 64)\n",
        "model_4.add(Dropout(0.3))\n",
        "# Adding another dense layer:\n",
        "model_4.add(Dense(N_hidden, name='dense_layer_2', activation='relu'))\n",
        "model_4.add(Dropout(0.3))\n",
        "# After the first layer, you don't need to specify\n",
        "# the size of the input anymore:\n",
        "# Add an output layer with 10 output units (10 different classes):\n",
        "model_4.add(Dense(10, name='dense_layer_3', activation = 'softmax'))"
      ],
      "metadata": {
        "colab": {
          "base_uri": "https://localhost:8080/"
        },
        "id": "JAHs99MN8ZYI",
        "outputId": "9624d34a-c562-4681-e68c-4497d3e7d3c0"
      },
      "execution_count": null,
      "outputs": [
        {
          "output_type": "stream",
          "name": "stderr",
          "text": [
            "/usr/local/lib/python3.11/dist-packages/keras/src/layers/core/dense.py:87: UserWarning: Do not pass an `input_shape`/`input_dim` argument to a layer. When using Sequential models, prefer using an `Input(shape)` object as the first layer in the model instead.\n",
            "  super().__init__(activity_regularizer=activity_regularizer, **kwargs)\n"
          ]
        }
      ]
    },
    {
      "cell_type": "code",
      "source": [
        "# Compiling the model.\n",
        "model_4.compile(optimizer='Adam',\n",
        "              loss='categorical_crossentropy',\n",
        "              metrics=['accuracy'])"
      ],
      "metadata": {
        "id": "yCsvUkVS8chO"
      },
      "execution_count": null,
      "outputs": []
    },
    {
      "cell_type": "code",
      "source": [
        "# Training the model.\n",
        "training = model_4.fit(X_train, Y_train, batch_size=128, epochs=31, validation_split=0.2)\n"
      ],
      "metadata": {
        "colab": {
          "base_uri": "https://localhost:8080/"
        },
        "id": "qXu8u1rN8gT1",
        "outputId": "acfa812f-4870-4168-d2e0-b1237010fddc"
      },
      "execution_count": null,
      "outputs": [
        {
          "output_type": "stream",
          "name": "stdout",
          "text": [
            "Epoch 1/31\n",
            "\u001b[1m313/313\u001b[0m \u001b[32m━━━━━━━━━━━━━━━━━━━━\u001b[0m\u001b[37m\u001b[0m \u001b[1m15s\u001b[0m 43ms/step - accuracy: 0.2075 - loss: 2.2014 - val_accuracy: 0.3127 - val_loss: 1.8849\n",
            "Epoch 2/31\n",
            "\u001b[1m313/313\u001b[0m \u001b[32m━━━━━━━━━━━━━━━━━━━━\u001b[0m\u001b[37m\u001b[0m \u001b[1m21s\u001b[0m 45ms/step - accuracy: 0.2963 - loss: 1.9156 - val_accuracy: 0.3136 - val_loss: 1.8483\n",
            "Epoch 3/31\n",
            "\u001b[1m313/313\u001b[0m \u001b[32m━━━━━━━━━━━━━━━━━━━━\u001b[0m\u001b[37m\u001b[0m \u001b[1m13s\u001b[0m 42ms/step - accuracy: 0.3075 - loss: 1.8754 - val_accuracy: 0.3600 - val_loss: 1.7986\n",
            "Epoch 4/31\n",
            "\u001b[1m313/313\u001b[0m \u001b[32m━━━━━━━━━━━━━━━━━━━━\u001b[0m\u001b[37m\u001b[0m \u001b[1m13s\u001b[0m 42ms/step - accuracy: 0.3154 - loss: 1.8530 - val_accuracy: 0.3643 - val_loss: 1.7882\n",
            "Epoch 5/31\n",
            "\u001b[1m313/313\u001b[0m \u001b[32m━━━━━━━━━━━━━━━━━━━━\u001b[0m\u001b[37m\u001b[0m \u001b[1m21s\u001b[0m 43ms/step - accuracy: 0.3204 - loss: 1.8378 - val_accuracy: 0.3833 - val_loss: 1.7666\n",
            "Epoch 6/31\n",
            "\u001b[1m313/313\u001b[0m \u001b[32m━━━━━━━━━━━━━━━━━━━━\u001b[0m\u001b[37m\u001b[0m \u001b[1m15s\u001b[0m 47ms/step - accuracy: 0.3385 - loss: 1.8073 - val_accuracy: 0.3857 - val_loss: 1.7656\n",
            "Epoch 7/31\n",
            "\u001b[1m313/313\u001b[0m \u001b[32m━━━━━━━━━━━━━━━━━━━━\u001b[0m\u001b[37m\u001b[0m \u001b[1m20s\u001b[0m 44ms/step - accuracy: 0.3414 - loss: 1.8059 - val_accuracy: 0.3854 - val_loss: 1.7533\n",
            "Epoch 8/31\n",
            "\u001b[1m313/313\u001b[0m \u001b[32m━━━━━━━━━━━━━━━━━━━━\u001b[0m\u001b[37m\u001b[0m \u001b[1m15s\u001b[0m 46ms/step - accuracy: 0.3457 - loss: 1.7881 - val_accuracy: 0.3936 - val_loss: 1.7306\n",
            "Epoch 9/31\n",
            "\u001b[1m313/313\u001b[0m \u001b[32m━━━━━━━━━━━━━━━━━━━━\u001b[0m\u001b[37m\u001b[0m \u001b[1m19s\u001b[0m 42ms/step - accuracy: 0.3409 - loss: 1.7883 - val_accuracy: 0.3995 - val_loss: 1.7304\n",
            "Epoch 10/31\n",
            "\u001b[1m313/313\u001b[0m \u001b[32m━━━━━━━━━━━━━━━━━━━━\u001b[0m\u001b[37m\u001b[0m \u001b[1m13s\u001b[0m 42ms/step - accuracy: 0.3540 - loss: 1.7689 - val_accuracy: 0.3966 - val_loss: 1.7109\n",
            "Epoch 11/31\n",
            "\u001b[1m313/313\u001b[0m \u001b[32m━━━━━━━━━━━━━━━━━━━━\u001b[0m\u001b[37m\u001b[0m \u001b[1m13s\u001b[0m 42ms/step - accuracy: 0.3551 - loss: 1.7645 - val_accuracy: 0.4142 - val_loss: 1.6979\n",
            "Epoch 12/31\n",
            "\u001b[1m313/313\u001b[0m \u001b[32m━━━━━━━━━━━━━━━━━━━━\u001b[0m\u001b[37m\u001b[0m \u001b[1m20s\u001b[0m 40ms/step - accuracy: 0.3610 - loss: 1.7490 - val_accuracy: 0.3851 - val_loss: 1.7510\n",
            "Epoch 13/31\n",
            "\u001b[1m313/313\u001b[0m \u001b[32m━━━━━━━━━━━━━━━━━━━━\u001b[0m\u001b[37m\u001b[0m \u001b[1m14s\u001b[0m 45ms/step - accuracy: 0.3627 - loss: 1.7508 - val_accuracy: 0.4093 - val_loss: 1.7004\n",
            "Epoch 14/31\n",
            "\u001b[1m313/313\u001b[0m \u001b[32m━━━━━━━━━━━━━━━━━━━━\u001b[0m\u001b[37m\u001b[0m \u001b[1m14s\u001b[0m 44ms/step - accuracy: 0.3674 - loss: 1.7362 - val_accuracy: 0.4091 - val_loss: 1.7019\n",
            "Epoch 15/31\n",
            "\u001b[1m313/313\u001b[0m \u001b[32m━━━━━━━━━━━━━━━━━━━━\u001b[0m\u001b[37m\u001b[0m \u001b[1m20s\u001b[0m 42ms/step - accuracy: 0.3689 - loss: 1.7313 - val_accuracy: 0.4087 - val_loss: 1.6827\n",
            "Epoch 16/31\n",
            "\u001b[1m313/313\u001b[0m \u001b[32m━━━━━━━━━━━━━━━━━━━━\u001b[0m\u001b[37m\u001b[0m \u001b[1m13s\u001b[0m 41ms/step - accuracy: 0.3754 - loss: 1.7278 - val_accuracy: 0.4069 - val_loss: 1.7206\n",
            "Epoch 17/31\n",
            "\u001b[1m313/313\u001b[0m \u001b[32m━━━━━━━━━━━━━━━━━━━━\u001b[0m\u001b[37m\u001b[0m \u001b[1m13s\u001b[0m 43ms/step - accuracy: 0.3724 - loss: 1.7324 - val_accuracy: 0.4175 - val_loss: 1.6813\n",
            "Epoch 18/31\n",
            "\u001b[1m313/313\u001b[0m \u001b[32m━━━━━━━━━━━━━━━━━━━━\u001b[0m\u001b[37m\u001b[0m \u001b[1m20s\u001b[0m 41ms/step - accuracy: 0.3793 - loss: 1.7090 - val_accuracy: 0.4090 - val_loss: 1.7056\n",
            "Epoch 19/31\n",
            "\u001b[1m313/313\u001b[0m \u001b[32m━━━━━━━━━━━━━━━━━━━━\u001b[0m\u001b[37m\u001b[0m \u001b[1m13s\u001b[0m 41ms/step - accuracy: 0.3746 - loss: 1.7204 - val_accuracy: 0.4110 - val_loss: 1.6892\n",
            "Epoch 20/31\n",
            "\u001b[1m313/313\u001b[0m \u001b[32m━━━━━━━━━━━━━━━━━━━━\u001b[0m\u001b[37m\u001b[0m \u001b[1m13s\u001b[0m 42ms/step - accuracy: 0.3844 - loss: 1.7011 - val_accuracy: 0.4172 - val_loss: 1.6903\n",
            "Epoch 21/31\n",
            "\u001b[1m313/313\u001b[0m \u001b[32m━━━━━━━━━━━━━━━━━━━━\u001b[0m\u001b[37m\u001b[0m \u001b[1m13s\u001b[0m 42ms/step - accuracy: 0.3893 - loss: 1.7002 - val_accuracy: 0.4068 - val_loss: 1.6891\n",
            "Epoch 22/31\n",
            "\u001b[1m313/313\u001b[0m \u001b[32m━━━━━━━━━━━━━━━━━━━━\u001b[0m\u001b[37m\u001b[0m \u001b[1m13s\u001b[0m 41ms/step - accuracy: 0.3803 - loss: 1.7108 - val_accuracy: 0.4255 - val_loss: 1.6653\n",
            "Epoch 23/31\n",
            "\u001b[1m313/313\u001b[0m \u001b[32m━━━━━━━━━━━━━━━━━━━━\u001b[0m\u001b[37m\u001b[0m \u001b[1m13s\u001b[0m 42ms/step - accuracy: 0.3845 - loss: 1.7018 - val_accuracy: 0.4136 - val_loss: 1.6973\n",
            "Epoch 24/31\n",
            "\u001b[1m313/313\u001b[0m \u001b[32m━━━━━━━━━━━━━━━━━━━━\u001b[0m\u001b[37m\u001b[0m \u001b[1m13s\u001b[0m 40ms/step - accuracy: 0.3802 - loss: 1.7134 - val_accuracy: 0.4258 - val_loss: 1.6579\n",
            "Epoch 25/31\n",
            "\u001b[1m313/313\u001b[0m \u001b[32m━━━━━━━━━━━━━━━━━━━━\u001b[0m\u001b[37m\u001b[0m \u001b[1m13s\u001b[0m 42ms/step - accuracy: 0.3889 - loss: 1.6875 - val_accuracy: 0.4185 - val_loss: 1.6636\n",
            "Epoch 26/31\n",
            "\u001b[1m313/313\u001b[0m \u001b[32m━━━━━━━━━━━━━━━━━━━━\u001b[0m\u001b[37m\u001b[0m \u001b[1m13s\u001b[0m 42ms/step - accuracy: 0.3817 - loss: 1.7035 - val_accuracy: 0.4159 - val_loss: 1.6766\n",
            "Epoch 27/31\n",
            "\u001b[1m313/313\u001b[0m \u001b[32m━━━━━━━━━━━━━━━━━━━━\u001b[0m\u001b[37m\u001b[0m \u001b[1m13s\u001b[0m 42ms/step - accuracy: 0.3897 - loss: 1.6925 - val_accuracy: 0.4326 - val_loss: 1.6569\n",
            "Epoch 28/31\n",
            "\u001b[1m313/313\u001b[0m \u001b[32m━━━━━━━━━━━━━━━━━━━━\u001b[0m\u001b[37m\u001b[0m \u001b[1m20s\u001b[0m 42ms/step - accuracy: 0.3900 - loss: 1.6871 - val_accuracy: 0.4190 - val_loss: 1.6902\n",
            "Epoch 29/31\n",
            "\u001b[1m313/313\u001b[0m \u001b[32m━━━━━━━━━━━━━━━━━━━━\u001b[0m\u001b[37m\u001b[0m \u001b[1m21s\u001b[0m 44ms/step - accuracy: 0.3849 - loss: 1.6900 - val_accuracy: 0.4259 - val_loss: 1.6688\n",
            "Epoch 30/31\n",
            "\u001b[1m313/313\u001b[0m \u001b[32m━━━━━━━━━━━━━━━━━━━━\u001b[0m\u001b[37m\u001b[0m \u001b[1m13s\u001b[0m 42ms/step - accuracy: 0.3919 - loss: 1.6838 - val_accuracy: 0.4321 - val_loss: 1.6478\n",
            "Epoch 31/31\n",
            "\u001b[1m313/313\u001b[0m \u001b[32m━━━━━━━━━━━━━━━━━━━━\u001b[0m\u001b[37m\u001b[0m \u001b[1m21s\u001b[0m 42ms/step - accuracy: 0.3918 - loss: 1.6848 - val_accuracy: 0.4171 - val_loss: 1.6574\n"
          ]
        }
      ]
    },
    {
      "cell_type": "code",
      "source": [
        "#evaluate the model_4\n",
        "test_loss, test_acc = model_4.evaluate(X_test, Y_test)\n",
        "print('Test accuracy:', test_acc)"
      ],
      "metadata": {
        "colab": {
          "base_uri": "https://localhost:8080/"
        },
        "id": "GncaxC5B8iCB",
        "outputId": "1fc60426-65f0-420c-d650-7cfd4818ffd5"
      },
      "execution_count": null,
      "outputs": [
        {
          "output_type": "stream",
          "name": "stdout",
          "text": [
            "\u001b[1m313/313\u001b[0m \u001b[32m━━━━━━━━━━━━━━━━━━━━\u001b[0m\u001b[37m\u001b[0m \u001b[1m3s\u001b[0m 8ms/step - accuracy: 0.4192 - loss: 1.6348\n",
            "Test accuracy: 0.4196999967098236\n"
          ]
        }
      ]
    },
    {
      "cell_type": "code",
      "source": [
        "import matplotlib.pyplot as plt\n",
        "%matplotlib inline\n",
        "# list all data in training\n",
        "print(training.history.keys())\n",
        "# summarize training for accuracy\n",
        "plt.plot(training.history['accuracy'])\n",
        "plt.plot(training.history['val_accuracy'])\n",
        "plt.title('model accuracy')\n",
        "plt.ylabel('accuracy')\n",
        "plt.xlabel('epoch')\n",
        "plt.legend(['train', 'test'], loc='upper left')\n",
        "plt.show()\n",
        "# summarize traning for loss\n",
        "plt.plot(training.history['loss'])\n",
        "plt.plot(training.history['val_loss'])\n",
        "plt.title('model loss')\n",
        "plt.ylabel('loss')\n",
        "plt.xlabel('epoch')\n",
        "plt.legend(['train', 'test'], loc='upper left')\n",
        "plt.show()"
      ],
      "metadata": {
        "colab": {
          "base_uri": "https://localhost:8080/",
          "height": 943
        },
        "id": "xwjQ5N2w8j65",
        "outputId": "9f01aabb-f883-4866-f649-190bfa254228"
      },
      "execution_count": null,
      "outputs": [
        {
          "output_type": "stream",
          "name": "stdout",
          "text": [
            "dict_keys(['accuracy', 'loss', 'val_accuracy', 'val_loss'])\n"
          ]
        },
        {
          "output_type": "display_data",
          "data": {
            "text/plain": [
              "<Figure size 640x480 with 1 Axes>"
            ],
            "image/png": "[encoded data removed]"
          },
          "metadata": {}
        },
        {
          "output_type": "display_data",
          "data": {
            "text/plain": [
              "<Figure size 640x480 with 1 Axes>"
            ],
            "image/png": "[encoded data removed]"
          },
          "metadata": {}
        }
      ]
    },
    {
      "cell_type": "code",
      "source": [
        "model_4.summary"
      ],
      "metadata": {
        "colab": {
          "base_uri": "https://localhost:8080/",
          "height": 202
        },
        "id": "6SeXRHxn8k8Y",
        "outputId": "9f5e161b-e13c-4e8e-9a3c-3e0fc35a6c01"
      },
      "execution_count": null,
      "outputs": [
        {
          "output_type": "execute_result",
          "data": {
            "text/plain": [
              "<bound method Model.summary of <Sequential name=sequential_9, built=True>>"
            ],
            "text/html": [
              "<div style=\"max-width:800px; border: 1px solid var(--colab-border-color);\"><style>\n",
              "      pre.function-repr-contents {\n",
              "        overflow-x: auto;\n",
              "        padding: 8px 12px;\n",
              "        max-height: 500px;\n",
              "      }\n",
              "\n",
              "      pre.function-repr-contents.function-repr-contents-collapsed {\n",
              "        cursor: pointer;\n",
              "        max-height: 100px;\n",
              "      }\n",
              "    </style>\n",
              "    <pre style=\"white-space: initial; background:\n",
              "         var(--colab-secondary-surface-color); padding: 8px 12px;\n",
              "         border-bottom: 1px solid var(--colab-border-color);\"><b>keras.src.models.model.Model.summary</b><br/>def summary(line_length=None, positions=None, print_fn=None, expand_nested=False, show_trainable=False, layer_range=None)</pre><pre class=\"function-repr-contents function-repr-contents-collapsed\" style=\"\"><a class=\"filepath\" style=\"display:none\" href=\"#\">/usr/local/lib/python3.11/dist-packages/keras/src/models/model.py</a>Prints a string summary of the network.\n",
              "\n",
              "Args:\n",
              "    line_length: Total length of printed lines\n",
              "        (e.g. set this to adapt the display to different\n",
              "        terminal window sizes).\n",
              "    positions: Relative or absolute positions of log elements\n",
              "        in each line. If not provided, becomes\n",
              "        `[0.3, 0.6, 0.70, 1.]`. Defaults to `None`.\n",
              "    print_fn: Print function to use. By default, prints to `stdout`.\n",
              "        If `stdout` doesn&#x27;t work in your environment, change to `print`.\n",
              "        It will be called on each line of the summary.\n",
              "        You can set it to a custom function\n",
              "        in order to capture the string summary.\n",
              "    expand_nested: Whether to expand the nested models.\n",
              "        Defaults to `False`.\n",
              "    show_trainable: Whether to show if a layer is trainable.\n",
              "        Defaults to `False`.\n",
              "    layer_range: a list or tuple of 2 strings,\n",
              "        which is the starting layer name and ending layer name\n",
              "        (both inclusive) indicating the range of layers to be printed\n",
              "        in summary. It also accepts regex patterns instead of exact\n",
              "        names. In this case, the start predicate will be\n",
              "        the first element that matches `layer_range[0]`\n",
              "        and the end predicate will be the last element\n",
              "        that matches `layer_range[1]`.\n",
              "        By default `None` considers all layers of the model.\n",
              "\n",
              "Raises:\n",
              "    ValueError: if `summary()` is called before the model is built.</pre>\n",
              "      <script>\n",
              "      if (google.colab.kernel.accessAllowed && google.colab.files && google.colab.files.view) {\n",
              "        for (const element of document.querySelectorAll('.filepath')) {\n",
              "          element.style.display = 'block'\n",
              "          element.onclick = (event) => {\n",
              "            event.preventDefault();\n",
              "            event.stopPropagation();\n",
              "            google.colab.files.view(element.textContent, 218);\n",
              "          };\n",
              "        }\n",
              "      }\n",
              "      for (const element of document.querySelectorAll('.function-repr-contents')) {\n",
              "        element.onclick = (event) => {\n",
              "          event.preventDefault();\n",
              "          event.stopPropagation();\n",
              "          element.classList.toggle('function-repr-contents-collapsed');\n",
              "        };\n",
              "      }\n",
              "      </script>\n",
              "      </div>"
            ]
          },
          "metadata": {},
          "execution_count": 64
        }
      ]
    },
    {
      "cell_type": "code",
      "source": [
        "model_4.weights"
      ],
      "metadata": {
        "colab": {
          "base_uri": "https://localhost:8080/"
        },
        "id": "McCvXTKs8mnj",
        "outputId": "2f35c355-1ea6-4026-bb39-cbbca6728a84"
      },
      "execution_count": null,
      "outputs": [
        {
          "output_type": "execute_result",
          "data": {
            "text/plain": [
              "[<Variable path=sequential_9/dense_layer/kernel, shape=(3072, 512), dtype=float32, value=[[-0.00405447 -0.02966298  0.07575495 ...  0.01099256 -0.00905161\n",
              "    0.0344958 ]\n",
              "  [-0.007547   -0.04129006 -0.04638219 ...  0.0229386   0.01683751\n",
              "    0.01563207]\n",
              "  [-0.04308937  0.00738527 -0.04783049 ...  0.01422463  0.00516438\n",
              "    0.0255926 ]\n",
              "  ...\n",
              "  [-0.03235    -0.02695283 -0.05956148 ... -0.0361308  -0.03003369\n",
              "    0.00973133]\n",
              "  [ 0.0222899   0.03140642 -0.06921557 ... -0.00850671  0.03509096\n",
              "   -0.02012054]\n",
              "  [-0.00269505 -0.01132593  0.16288313 ...  0.0219513  -0.00464541\n",
              "    0.00664253]]>,\n",
              " <Variable path=sequential_9/dense_layer/bias, shape=(512,), dtype=float32, value=[-4.1737761e-03 -2.2792653e-03 -3.1772766e-01 -5.8775437e-03\n",
              "  -5.9967856e-03 -5.9999991e-03 -5.1015168e-03 -4.6995189e-03\n",
              "  -5.9984177e-03 -2.7821651e-03 -2.6760658e-03 -1.7646573e-03\n",
              "  -5.9917169e-03 -3.8086758e-03 -3.3825848e-03 -5.9968228e-03\n",
              "  -2.5481936e-03 -5.9990431e-03 -6.4672395e-03 -1.4018100e-02\n",
              "  -5.9985695e-03 -5.9330985e-03 -5.4301834e-03 -2.2738654e-02\n",
              "  -6.0036471e-03 -4.7410056e-03 -5.9970897e-03 -8.6447811e-03\n",
              "  -3.5770840e-03 -5.3360537e-03 -6.0026543e-03 -6.0032560e-03\n",
              "  -6.4288881e-03 -4.8713475e-03 -5.1966701e-03 -2.6935679e-03\n",
              "  -6.1220764e-03 -1.1065696e-02 -6.0039805e-03 -6.0018459e-03\n",
              "  -5.9927856e-03 -6.0932622e-03 -4.0820469e-03 -7.5492794e-03\n",
              "  -5.8469535e-03 -6.0012713e-03 -6.0004876e-03  5.3929287e-04\n",
              "  -6.3654901e-03 -4.4072792e-03 -9.7346278e-03 -7.7158548e-03\n",
              "  -1.9681690e-02 -3.6770836e-02 -6.0716243e-03  6.0806364e-01\n",
              "  -6.0019684e-03 -6.0033235e-03  1.2916349e-03 -1.6469441e-02\n",
              "  -5.9565092e-03  6.3793961e-04 -6.0033388e-03 -8.4714331e-03\n",
              "  -5.9372582e-03  4.7264314e-01 -2.9612507e-03 -6.0036634e-03\n",
              "  -2.2290007e-03 -1.7358210e-03 -5.9970636e-03 -6.0003148e-03\n",
              "  -6.0039912e-03 -6.0038529e-03 -4.3259580e-03 -5.9869983e-03\n",
              "  -3.6962021e-03 -5.9892260e-03 -5.9998608e-03 -3.0692448e-03\n",
              "  -5.9995148e-03 -3.4702765e-03 -6.0000769e-03 -8.8551743e-03\n",
              "  -5.0857286e-03 -6.3348352e-03 -4.8302109e-03 -4.6711313e-03\n",
              "  -6.0037514e-03 -6.0028667e-03  1.1053759e-03 -1.0319257e-03\n",
              "  -3.4644648e-03 -5.9674410e-03 -4.5909295e-03 -6.0042636e-03\n",
              "  -3.5671417e-03 -7.0574880e-03 -4.0894165e-03 -6.7206104e-03\n",
              "  -4.5145368e-03 -5.8513712e-03 -6.4211632e-03 -6.0355021e-03\n",
              "  -6.5090284e-03 -6.0037374e-03 -5.9937891e-03 -6.0020327e-03\n",
              "  -1.5962500e-03 -6.8561849e-03 -5.7503805e-03 -5.1687914e-03\n",
              "  -6.3458490e-03 -6.0008140e-03 -6.0030883e-03 -5.9531187e-03\n",
              "  -1.1432180e-02 -6.8342979e-03 -6.8113781e-03 -5.6714187e-03\n",
              "  -3.1198466e-03 -6.5474184e-03 -4.9212412e-03 -6.7997822e-03\n",
              "  -1.1870357e-02 -1.0205378e-03 -3.9087343e-03 -6.0044001e-03\n",
              "  -4.2725829e-03 -5.9974990e-03 -4.7371690e-03 -5.9995237e-03\n",
              "  -6.9065653e-03 -6.0018264e-03 -1.1374372e-02 -3.7547271e-03\n",
              "   3.5659713e-03 -5.9091686e-03 -4.0095188e-03 -3.4503140e-03\n",
              "  -5.2542263e-03 -4.0098685e-03 -6.0017528e-03 -9.3609281e-03\n",
              "  -6.4084767e-03 -5.1338351e-03 -5.9670592e-03 -3.6130624e-03\n",
              "  -5.2114124e-03 -5.3529078e-03 -3.1781399e-03 -5.5571669e-03\n",
              "  -6.0047656e-03 -6.0040457e-03 -6.0011791e-03 -5.9875632e-03\n",
              "  -5.0164885e-03 -6.0009817e-03 -5.8268188e-03 -2.3366528e-02\n",
              "  -2.8672300e-03 -6.0042581e-03 -1.6246653e-03 -6.0033952e-03\n",
              "  -6.9274362e-03 -5.5490187e-03 -2.9582260e-03 -4.2038662e-03\n",
              "  -6.0014776e-03 -8.1619583e-03 -4.3055653e-03 -6.3416809e-03\n",
              "  -4.6902108e-03 -5.5679502e-03 -3.2013548e-03 -3.8588534e-03\n",
              "  -5.9410422e-03 -3.1958085e-02 -8.4386790e-01 -3.7415854e-03\n",
              "  -3.7914931e-03 -6.4316164e-03 -3.8520060e-03 -3.6968648e-02\n",
              "  -3.9891764e-03 -5.0707483e-03 -5.9937174e-03 -3.4592990e-03\n",
              "  -6.0004173e-03 -6.6049327e-03 -5.9982454e-03 -6.0046893e-03\n",
              "  -5.9896652e-03 -4.3239146e-03 -5.9434827e-03 -5.9975316e-03\n",
              "  -5.9804362e-03 -3.3317616e-03 -4.3094014e-03 -5.4882155e-03\n",
              "  -6.8110721e-03 -6.6952867e-04 -5.9565394e-03 -4.5488230e-03\n",
              "  -5.9927111e-03 -3.6651536e-04 -7.5710937e-03 -5.6589996e-03\n",
              "  -5.2048001e-03 -8.1806704e-03 -1.3161689e-01 -5.9155407e-03\n",
              "  -5.9621707e-03 -6.0043950e-03 -6.0235877e-03 -2.4745136e-03\n",
              "  -6.8096453e-03 -7.9585519e-03 -6.0047451e-03 -2.4117315e-03\n",
              "  -5.3344043e-03 -5.9881145e-03 -3.3324501e-03  1.3221072e-01\n",
              "  -4.6361969e-03 -6.5997276e-03 -6.0021668e-03 -5.6984080e-03\n",
              "  -4.0341173e-03 -8.4312493e-03 -6.0035717e-03 -4.5025866e-03\n",
              "  -5.0518424e-03 -5.1372088e-03 -3.3095391e-03 -6.0022008e-03\n",
              "  -4.3684351e-03 -6.2255515e-03  3.3606039e-04 -5.9876745e-03\n",
              "  -6.0019512e-03 -6.6600125e-03 -2.8220431e-03 -6.0012089e-03\n",
              "  -4.2429909e-01 -6.0033253e-03 -2.3575511e-03 -6.0026897e-03\n",
              "  -3.1196841e-03 -3.3879392e-03  0.0000000e+00 -6.0030795e-03\n",
              "  -6.0033617e-03 -6.0029994e-03 -4.2615808e-03 -1.9480971e-03\n",
              "  -7.3042843e-03 -6.0027703e-03 -2.6750469e-03 -6.0033207e-03\n",
              "  -6.0048201e-03 -6.0038567e-03 -4.6245069e-03 -6.2473626e-03\n",
              "  -3.2035012e-03 -2.7638229e-03 -6.3699307e-03 -5.4287696e-03\n",
              "  -6.7372373e-03 -5.1180492e-03 -5.3621423e-03 -5.9951614e-03\n",
              "  -6.4709703e-03 -5.9992522e-03 -6.0015977e-03 -5.9960466e-03\n",
              "  -6.0019251e-03 -6.9663809e-03 -6.0014408e-03 -2.1952514e-04\n",
              "  -5.9887236e-03 -5.9271539e-03 -5.5468609e-03 -6.0033896e-03\n",
              "  -2.8706733e-03 -5.2327747e-03 -5.9786220e-03 -5.7494263e-03\n",
              "  -5.9069442e-03 -1.2163788e-02 -6.8472167e-03 -5.9895068e-03\n",
              "  -6.0007637e-03 -3.3113647e-03 -6.1583431e-03 -6.0025384e-03\n",
              "  -4.8476676e-03 -6.5641808e-03 -9.5911929e-03  3.2318081e-03\n",
              "  -1.5015394e-02 -8.4496411e-03 -2.8926490e-03 -1.1874634e-03\n",
              "  -6.0048238e-03 -1.0534600e-02 -2.8981795e-03 -6.0040872e-03\n",
              "  -5.0276085e-03 -8.1789494e-03 -5.9562242e-03 -7.5943517e-03\n",
              "  -8.2063293e-03 -5.1196371e-03 -4.0494464e-03 -4.2324043e-03\n",
              "  -6.2110806e-03 -5.9982305e-03 -4.7913841e-03 -5.9886915e-03\n",
              "  -4.9535651e-03 -2.5841496e-03 -8.5977260e-03 -6.0036732e-03\n",
              "  -2.4250923e-03 -7.7590300e-03 -4.2539961e-03 -1.5561478e-01\n",
              "  -6.2415036e-03 -2.1639415e-03 -6.0025263e-03 -8.4337164e-03\n",
              "  -4.0118210e-03 -5.0715329e-03 -6.0035852e-03 -4.5157974e-03\n",
              "  -5.5274633e-03 -6.1229416e-03 -5.0493223e-03 -5.5456525e-03\n",
              "  -6.0046893e-03 -1.7924632e-04 -5.9777871e-03 -7.7614151e-03\n",
              "  -5.9998645e-03 -6.0020760e-03 -5.9898240e-03 -6.2874323e-03\n",
              "  -2.0049931e-03 -1.5681057e-03 -5.3221527e-03 -6.0036019e-03\n",
              "  -6.0026348e-03 -6.4514265e-03 -5.9785983e-03 -5.0961343e-03\n",
              "  -6.0037677e-03 -6.0022785e-03 -5.9169866e-03 -1.3463301e-02\n",
              "   4.7932848e-02 -6.0042520e-03 -6.0025896e-03 -5.1119672e-03\n",
              "   2.2858144e-01 -6.0308105e-03 -6.0034273e-03 -7.9924706e-03\n",
              "  -6.0043824e-03 -1.9742403e-02 -9.9119043e-04 -5.9982161e-03\n",
              "  -5.9953793e-03 -6.8152901e-03 -6.0041347e-03 -4.2478465e-03\n",
              "  -6.0040485e-03 -3.1295102e-02 -3.0029865e-03  2.4457022e-03\n",
              "  -5.5275308e-03 -8.3345324e-03 -6.0026650e-03 -6.3572056e-03\n",
              "  -1.6632478e-03  1.9092727e-01 -7.4019562e-03 -5.8916253e-03\n",
              "  -6.0042813e-03 -1.7807281e-03 -4.9956460e-03 -5.9439964e-03\n",
              "  -6.0039982e-03 -3.6597817e-04 -4.2616501e-03 -5.9974235e-03\n",
              "  -5.7284534e-03 -8.0001615e-03 -5.8685103e-03 -3.1819337e-03\n",
              "  -8.8534933e-03 -5.9941029e-03 -5.9967497e-03 -5.2513084e-03\n",
              "  -5.9791855e-03 -5.9742979e-03 -3.6442955e-03 -8.0700209e-03\n",
              "  -7.5862678e-03 -6.0014962e-03 -3.8950283e-03 -2.8055471e-03\n",
              "   8.9010940e-04 -9.2726219e-01 -5.9978683e-03 -1.2541187e-02\n",
              "  -3.2341015e-03 -7.2918506e-03 -4.9511935e-03 -3.7860933e-03\n",
              "  -5.9914296e-03 -6.0020760e-03 -6.0046846e-03 -5.9867506e-03\n",
              "  -4.2834831e-03 -1.9951260e-02 -5.3263330e-03 -5.9719491e-03\n",
              "  -5.5184118e-03 -4.1075945e-03 -5.5417055e-03 -2.9062038e-02\n",
              "  -5.9987530e-03 -7.0804963e-03 -6.0010399e-03 -6.8197791e-03\n",
              "  -6.0026953e-03 -3.1462708e-01 -6.0019880e-03 -5.9833052e-03\n",
              "  -5.9810681e-03 -6.6669341e-03  1.5015428e-02 -2.5317024e-03\n",
              "  -5.8421907e-03 -5.9989798e-03 -5.2028885e-03  1.9771915e-03\n",
              "  -8.5921707e-03  9.3136281e-02 -4.3458553e-04 -1.8669958e-01\n",
              "  -9.0298969e-03 -5.9884735e-03 -6.0040373e-03 -4.4589434e-03\n",
              "  -5.9970152e-03 -6.5732305e-03 -5.9522875e-03 -4.1709519e-03\n",
              "  -6.7950655e-03 -5.0392020e-03 -5.8274628e-03 -6.0016103e-03\n",
              "  -6.0045868e-03 -2.9674124e-03 -6.0046106e-03 -4.4064214e-03\n",
              "  -6.7318054e-03 -6.0047018e-03 -6.0036555e-03 -6.0015246e-03\n",
              "  -3.1432987e-04 -9.0944460e-03 -3.9851326e-03 -6.4239474e-03\n",
              "  -6.9963867e-03 -7.8289201e-03 -3.1857151e-03 -5.1902924e-03\n",
              "  -4.2744167e-03 -5.9908838e-03 -4.4839429e-03 -7.0034540e-03\n",
              "  -5.9966967e-03 -4.2632632e-03 -5.9597166e-03 -8.3012867e-04\n",
              "  -6.0045500e-03 -2.1909932e-03 -6.0044955e-03 -5.5796448e-03\n",
              "  -1.1226356e-03 -5.9412951e-03 -2.8131972e-03 -1.1963090e-03\n",
              "  -3.5199404e-03 -4.1153939e-03 -5.9763682e-03 -4.2735208e-03\n",
              "  -6.0040639e-03 -6.2008104e-03 -4.0431404e-03 -3.0949179e-02\n",
              "  -4.8721707e-03 -5.6017330e-03 -5.2199238e-03 -1.3618231e-02\n",
              "  -8.8350130e-03 -5.5073583e-03 -4.8259362e-03 -4.5881001e-03]>,\n",
              " <Variable path=sequential_9/dense_layer_2/kernel, shape=(512, 512), dtype=float32, value=[[-0.07006543 -0.0194192  -0.02826238 ... -0.05817614 -0.0749543\n",
              "    0.05134666]\n",
              "  [-0.04731931 -0.01577966  0.05468706 ... -0.04231875 -0.03363844\n",
              "   -0.05502158]\n",
              "  [-0.00519139  0.02134087 -0.02331716 ... -0.22070031 -0.30735886\n",
              "   -0.01660985]\n",
              "  ...\n",
              "  [-0.00122347  0.03017407  0.07962723 ...  0.06942825 -0.01059301\n",
              "    0.05792383]\n",
              "  [ 0.07248713 -0.06969973  0.00169798 ... -0.0591452   0.02173041\n",
              "   -0.06091627]\n",
              "  [ 0.05325925  0.08129156 -0.06575356 ...  0.0557587  -0.05114637\n",
              "   -0.05834393]]>,\n",
              " <Variable path=sequential_9/dense_layer_2/bias, shape=(512,), dtype=float32, value=[ 0.4141225   0.07896674  0.5546807  -0.0163686   0.01253323 -0.05428604\n",
              "  -0.12635878 -0.26151693 -0.00240961  0.04854882  0.20641789 -0.22619864\n",
              "  -0.13157606 -0.12538147 -0.10767522 -0.12550668 -0.3067238  -0.31981173\n",
              "  -0.18731934  0.04829265 -0.23058836  0.008573   -0.0221383  -0.30063307\n",
              "   0.11198544 -0.41927406 -0.22053754  0.19697101  0.04537177 -0.05309492\n",
              "  -0.24812043 -0.26216507 -0.16479532 -0.08265797  0.00386851  0.40386236\n",
              "  -0.29260868 -0.33275536 -0.27187866  0.03559669 -0.14724731 -0.31354105\n",
              "  -0.5704318  -0.11573771 -0.16557957  0.03289403  0.3568274  -0.08641991\n",
              "  -0.26044863  0.09957975  0.2218417  -0.11029535  0.11406591 -0.09336165\n",
              "  -0.1954247  -0.28411266 -0.28865874 -0.3087898  -0.1361173  -0.21557397\n",
              "   0.0300686  -0.3892277   0.2373325  -0.20601492 -0.01074586 -0.0918749\n",
              "   0.10757437 -0.15550321 -0.20217967 -0.1261713  -0.37274575  0.00989249\n",
              "  -0.20777793  0.2282621   0.2825108  -0.14548329 -0.15773208 -0.17925863\n",
              "  -0.21207671 -0.2537485   0.22612087  0.49233225 -0.13670066 -0.15742981\n",
              "  -0.04080814 -0.04236066 -0.17298366 -0.14065646 -0.28520894  0.31523162\n",
              "  -0.01580523 -0.51401466 -0.00818584  0.14444427 -0.3229383  -0.2141234\n",
              "  -0.07627771 -0.06130488  0.46798474 -0.1807817   0.32421365 -0.3365316\n",
              "  -0.40004575 -0.27989575 -0.24648924 -0.08235405 -0.3300456   0.52334374\n",
              "   0.05710591 -0.15405677  0.2106452  -0.08118188 -0.14029694 -0.00565826\n",
              "   0.0675168   0.19414282  0.16269396  0.5589687   0.176664   -0.10745556\n",
              "  -0.073365   -0.07281317 -0.24875696 -0.204691   -0.33077502 -0.4128689\n",
              "   0.47082016 -0.24777277  0.31759706 -0.3813658   0.09244522  0.07571787\n",
              "  -0.4009513  -0.06554076 -0.12930515 -0.18615432  0.33868963  0.14885189\n",
              "   0.23686689 -0.22305942  0.11124842  0.0275924  -0.3444183  -0.04472363\n",
              "  -0.05505268 -0.18864565 -0.01021471 -0.2736687   0.079212   -0.03875187\n",
              "  -0.12250312 -0.31667462 -0.13468663 -0.07716762 -0.09754459 -0.25740236\n",
              "   0.37660864 -0.30583128  0.08974385  0.04168369  0.0682845  -0.01057592\n",
              "  -0.06695766  0.20412035  0.5436427  -0.0350483  -0.28240478 -0.10878026\n",
              "  -0.18237534 -0.15118757  0.04063528 -0.10340712 -0.18311782 -0.12982713\n",
              "   0.34974104  0.0857259   0.04084533 -0.048932    0.24784681  0.23146522\n",
              "  -0.31184366  0.15376168 -0.25745755 -0.1756886  -0.30683345 -0.06100224\n",
              "   0.0868325   0.186708    0.09677576 -0.07318048  0.02700326 -0.30993867\n",
              "  -0.02263871 -0.02130433 -0.12769453  0.21509416 -0.17670701  0.36317462\n",
              "  -0.1267049   0.0952078   0.47891435 -0.12211578 -0.04702473 -0.07694498\n",
              "   0.4784127  -0.10705184  0.04567489 -0.16535513 -0.25485727 -0.03965742\n",
              "  -0.1364674   0.3689101  -0.1828137  -0.11998966 -0.16793896 -0.39775723\n",
              "   0.00423605 -0.16265847 -0.08271775  0.21932909 -0.11877596 -0.37511614\n",
              "   0.00385141  0.02033656 -0.2781178   0.04812024 -0.10429978 -0.13793361\n",
              "  -0.15615147 -0.11781537  0.4433526  -0.00372224  0.01249342  0.18936323\n",
              "   0.5026687  -0.06588311 -0.446992    0.37986732 -0.2624794  -0.12307087\n",
              "  -0.13429445 -0.1649595   0.1857437  -0.24337147 -0.02849361 -0.46965164\n",
              "   0.1327649   0.07631085  0.0538629  -0.3390456  -0.446371   -0.20043212\n",
              "  -0.29589638  0.32750177  0.35487026  0.37191316 -0.12782724 -0.15151197\n",
              "   0.0031004  -0.23586784  0.0219753  -0.20315713 -0.03462775 -0.27694038\n",
              "   0.09429152  0.12104522  0.03390043 -0.09352035  0.53729755 -0.25582704\n",
              "   0.12174346  0.21388364  0.0549668  -0.28368285  0.11055039 -0.02861943\n",
              "  -0.04276824  0.07046004  0.08627524  0.1009538  -0.23287565 -0.26251316\n",
              "  -0.26083887 -0.26037058 -0.41642505  0.22599451 -0.00820024 -0.04485315\n",
              "  -0.14877604 -0.08843461 -0.03915967 -0.33914894  0.07363985 -0.12568963\n",
              "   0.04350487 -0.07820532 -0.24353    -0.07867071 -0.1370983  -0.24212852\n",
              "   0.04875495  0.14202976 -0.19847444 -0.42621723 -0.08868805 -0.07977396\n",
              "   0.40003356 -0.29788622  0.03050447 -0.13358307  0.34534225 -0.22697832\n",
              "   0.13530879  0.05993818 -0.12353712  0.05944335  0.38683206  0.12537855\n",
              "  -0.19130905  0.07872638 -0.20016713 -0.21429516 -0.16463998 -0.28056726\n",
              "  -0.10026056 -0.18922646 -0.19025749  0.01239401  0.45691675  0.4622167\n",
              "  -0.32462642 -0.09352471  0.26711825  0.17603226 -0.23108588 -0.11038302\n",
              "  -0.38898918 -0.21794972 -0.26706088 -0.24416633 -0.22684297 -0.12357985\n",
              "  -0.14742264 -0.09261551 -0.12251038 -0.18741354  0.11887336  0.46024832\n",
              "   0.4486715   0.19261241 -0.1021245   0.19662699 -0.3439184  -0.19475777\n",
              "   0.15893841  0.12796073  0.46728316  0.00815946 -0.16500327 -0.1440415\n",
              "  -0.10994957  0.19509049 -0.08615088 -0.1846911  -0.00303125  0.2775809\n",
              "   0.00906274 -0.2499204  -0.20913097  0.06986773  0.30807236 -0.01671587\n",
              "  -0.3199921  -0.12963241  0.20035765 -0.28597927 -0.2601876   0.37882364\n",
              "  -0.01882166 -0.09303918 -0.09551796 -0.09713122  0.27006292 -0.27687418\n",
              "   0.34722582 -0.00832053 -0.00324669 -0.34513474 -0.11221827  0.19041774\n",
              "   0.37273484  0.15703918  0.04202653 -0.14156726  0.00871489 -0.0418974\n",
              "  -0.23916627  0.41347507  0.25983533  0.15480904 -0.05696397 -0.05204832\n",
              "   0.25784767  0.4255993  -0.02974557  0.18540986  0.3359332  -0.04402661\n",
              "  -0.00610033 -0.38850096  0.14589356  0.25147024 -0.21852595 -0.19352661\n",
              "  -0.1668184  -0.0312641   0.40655833 -0.18689959 -0.2868575   0.09583566\n",
              "   0.08938133  0.18178438 -0.00110752 -0.21336198  0.11654437 -0.55272955\n",
              "  -0.19465339 -0.05945519 -0.08991595 -0.2167812  -0.11940672 -0.24161853\n",
              "   0.38413587 -0.27808765  0.13786025  0.39527616 -0.03293754 -0.33304784\n",
              "  -0.1459741  -0.25914922 -0.06294341 -0.1177993   0.3376352  -0.10544303\n",
              "  -0.2297003  -0.04485662 -0.09334034  0.19631177 -0.02784715 -0.54422694\n",
              "  -0.22500902 -0.19879037 -0.24969366 -0.14251202 -0.05366458 -0.2533979\n",
              "   0.05486675 -0.07473304 -0.01188381  0.29478115  0.46645105  0.02695707\n",
              "  -0.33183444 -0.19362475 -0.00509119 -0.19791642  0.03201211 -0.10274845\n",
              "  -0.06809504 -0.2131304  -0.13750401  0.03607217  0.35264733 -0.11148889\n",
              "  -0.27662516 -0.02448441 -0.09631956 -0.09255615  0.3537066  -0.22082183\n",
              "   0.08234499 -0.14352272 -0.22418813 -0.22701177 -0.1391499  -0.42588374\n",
              "  -0.14003181 -0.13835113  0.1086008  -0.16020949  0.21313356 -0.2266994\n",
              "  -0.16953442 -0.2807772  -0.25656092 -0.21129908 -0.14396279 -0.13418448\n",
              "  -0.04081975 -0.01993723 -0.30782378  0.32874498 -0.39287418 -0.00156841\n",
              "  -0.27361193 -0.34841296  0.10698777 -0.12519321  0.05757713 -0.23516144\n",
              "   0.03647762 -0.28302288]>,\n",
              " <Variable path=sequential_9/dense_layer_3/kernel, shape=(512, 10), dtype=float32, value=[[-0.10371082 -0.00355093  0.05053227 ... -0.08714668 -0.10983742\n",
              "   -0.01190106]\n",
              "  [-0.03866356 -0.02764681 -0.05424602 ...  0.01536239 -0.01627227\n",
              "   -0.08915012]\n",
              "  [-0.16710927 -0.22169994  0.0811549  ... -0.01097644 -0.16039316\n",
              "   -0.1748513 ]\n",
              "  ...\n",
              "  [ 0.01938099 -0.00555377  0.06846964 ...  0.06485578 -0.00747627\n",
              "    0.0715137 ]\n",
              "  [-0.02212508 -0.03345261  0.05210234 ... -0.16405796 -0.10323213\n",
              "   -0.14511018]\n",
              "  [ 0.02310682  0.10706478 -0.00515664 ...  0.09806856 -0.02379079\n",
              "    0.05731434]]>,\n",
              " <Variable path=sequential_9/dense_layer_3/bias, shape=(10,), dtype=float32, value=[-0.22515272 -0.26769477 -0.13786645  0.275727    0.14184247  0.0396485\n",
              "   0.14735056  0.0220747   0.00791216  0.01295437]>]"
            ]
          },
          "metadata": {},
          "execution_count": 65
        }
      ]
    },
    {
      "cell_type": "code",
      "source": [
        "model_4.get_config()"
      ],
      "metadata": {
        "colab": {
          "base_uri": "https://localhost:8080/"
        },
        "id": "v1DOEEqQ8o44",
        "outputId": "812929c3-8a69-465d-f496-a6feb96d107f"
      },
      "execution_count": null,
      "outputs": [
        {
          "output_type": "execute_result",
          "data": {
            "text/plain": [
              "{'name': 'sequential_9',\n",
              " 'trainable': True,\n",
              " 'dtype': {'module': 'keras',\n",
              "  'class_name': 'DTypePolicy',\n",
              "  'config': {'name': 'float32'},\n",
              "  'registered_name': None},\n",
              " 'layers': [{'module': 'keras.layers',\n",
              "   'class_name': 'InputLayer',\n",
              "   'config': {'batch_shape': (None, 3072),\n",
              "    'dtype': 'float32',\n",
              "    'sparse': False,\n",
              "    'name': 'input_layer_9'},\n",
              "   'registered_name': None},\n",
              "  {'module': 'keras.layers',\n",
              "   'class_name': 'Dense',\n",
              "   'config': {'name': 'dense_layer',\n",
              "    'trainable': True,\n",
              "    'dtype': {'module': 'keras',\n",
              "     'class_name': 'DTypePolicy',\n",
              "     'config': {'name': 'float32'},\n",
              "     'registered_name': None},\n",
              "    'units': 512,\n",
              "    'activation': 'relu',\n",
              "    'use_bias': True,\n",
              "    'kernel_initializer': {'module': 'keras.initializers',\n",
              "     'class_name': 'GlorotUniform',\n",
              "     'config': {'seed': None},\n",
              "     'registered_name': None},\n",
              "    'bias_initializer': {'module': 'keras.initializers',\n",
              "     'class_name': 'Zeros',\n",
              "     'config': {},\n",
              "     'registered_name': None},\n",
              "    'kernel_regularizer': None,\n",
              "    'bias_regularizer': None,\n",
              "    'kernel_constraint': None,\n",
              "    'bias_constraint': None},\n",
              "   'registered_name': None,\n",
              "   'build_config': {'input_shape': (None, 3072)}},\n",
              "  {'module': 'keras.layers',\n",
              "   'class_name': 'Dropout',\n",
              "   'config': {'name': 'dropout_12',\n",
              "    'trainable': True,\n",
              "    'dtype': {'module': 'keras',\n",
              "     'class_name': 'DTypePolicy',\n",
              "     'config': {'name': 'float32'},\n",
              "     'registered_name': None},\n",
              "    'rate': 0.3,\n",
              "    'seed': None,\n",
              "    'noise_shape': None},\n",
              "   'registered_name': None},\n",
              "  {'module': 'keras.layers',\n",
              "   'class_name': 'Dense',\n",
              "   'config': {'name': 'dense_layer_2',\n",
              "    'trainable': True,\n",
              "    'dtype': {'module': 'keras',\n",
              "     'class_name': 'DTypePolicy',\n",
              "     'config': {'name': 'float32'},\n",
              "     'registered_name': None},\n",
              "    'units': 512,\n",
              "    'activation': 'relu',\n",
              "    'use_bias': True,\n",
              "    'kernel_initializer': {'module': 'keras.initializers',\n",
              "     'class_name': 'GlorotUniform',\n",
              "     'config': {'seed': None},\n",
              "     'registered_name': None},\n",
              "    'bias_initializer': {'module': 'keras.initializers',\n",
              "     'class_name': 'Zeros',\n",
              "     'config': {},\n",
              "     'registered_name': None},\n",
              "    'kernel_regularizer': None,\n",
              "    'bias_regularizer': None,\n",
              "    'kernel_constraint': None,\n",
              "    'bias_constraint': None},\n",
              "   'registered_name': None,\n",
              "   'build_config': {'input_shape': (None, 512)}},\n",
              "  {'module': 'keras.layers',\n",
              "   'class_name': 'Dropout',\n",
              "   'config': {'name': 'dropout_13',\n",
              "    'trainable': True,\n",
              "    'dtype': {'module': 'keras',\n",
              "     'class_name': 'DTypePolicy',\n",
              "     'config': {'name': 'float32'},\n",
              "     'registered_name': None},\n",
              "    'rate': 0.3,\n",
              "    'seed': None,\n",
              "    'noise_shape': None},\n",
              "   'registered_name': None},\n",
              "  {'module': 'keras.layers',\n",
              "   'class_name': 'Dense',\n",
              "   'config': {'name': 'dense_layer_3',\n",
              "    'trainable': True,\n",
              "    'dtype': {'module': 'keras',\n",
              "     'class_name': 'DTypePolicy',\n",
              "     'config': {'name': 'float32'},\n",
              "     'registered_name': None},\n",
              "    'units': 10,\n",
              "    'activation': 'softmax',\n",
              "    'use_bias': True,\n",
              "    'kernel_initializer': {'module': 'keras.initializers',\n",
              "     'class_name': 'GlorotUniform',\n",
              "     'config': {'seed': None},\n",
              "     'registered_name': None},\n",
              "    'bias_initializer': {'module': 'keras.initializers',\n",
              "     'class_name': 'Zeros',\n",
              "     'config': {},\n",
              "     'registered_name': None},\n",
              "    'kernel_regularizer': None,\n",
              "    'bias_regularizer': None,\n",
              "    'kernel_constraint': None,\n",
              "    'bias_constraint': None},\n",
              "   'registered_name': None,\n",
              "   'build_config': {'input_shape': (None, 512)}}],\n",
              " 'build_input_shape': (None, 3072)}"
            ]
          },
          "metadata": {},
          "execution_count": 66
        }
      ]
    },
    {
      "cell_type": "markdown",
      "source": [
        "\n",
        "###Improved Model 5: Manipulating the batch size"
      ],
      "metadata": {
        "id": "XWb8PgAt8s0r"
      }
    },
    {
      "cell_type": "code",
      "source": [
        "#Most common type of model is a stack of layers\n",
        "model_5 = tf.keras.Sequential()\n",
        "N_hidden = 512\n",
        "# Adds a densely-connected layer with 64 units to the model:\n",
        "model_5.add(Dense(N_hidden, name='dense_layer', input_shape=(3072,), activation = 'relu'))\n",
        "# Now the model will take as input arrays of shape (*, 784)# and output arrays of shape (*, 64)\n",
        "model_5.add(Dropout(0.3))\n",
        "# Adding another dense layer:\n",
        "model_5.add(Dense(N_hidden, name='dense_layer_2', activation='relu'))\n",
        "model_5.add(Dropout(0.3))\n",
        "# After the first layer, you don't need to specify\n",
        "# the size of the input anymore:\n",
        "# Add an output layer with 10 output units (10 different classes):\n",
        "model_5.add(Dense(10, name='dense_layer_3', activation = 'softmax'))"
      ],
      "metadata": {
        "colab": {
          "base_uri": "https://localhost:8080/"
        },
        "id": "TQ5ksC788wNJ",
        "outputId": "2b9717ef-f0aa-4666-b0bd-f7bd7f45ede2"
      },
      "execution_count": null,
      "outputs": [
        {
          "output_type": "stream",
          "name": "stderr",
          "text": [
            "/usr/local/lib/python3.11/dist-packages/keras/src/layers/core/dense.py:87: UserWarning: Do not pass an `input_shape`/`input_dim` argument to a layer. When using Sequential models, prefer using an `Input(shape)` object as the first layer in the model instead.\n",
            "  super().__init__(activity_regularizer=activity_regularizer, **kwargs)\n"
          ]
        }
      ]
    },
    {
      "cell_type": "code",
      "source": [
        "# Compiling the model.\n",
        "model_5.compile(optimizer='Adam',\n",
        "              loss='categorical_crossentropy',\n",
        "              metrics=['accuracy'])"
      ],
      "metadata": {
        "id": "eatM56bD80NG"
      },
      "execution_count": null,
      "outputs": []
    },
    {
      "cell_type": "code",
      "source": [
        "# Training the model.\n",
        "training = model_5.fit(X_train, Y_train, batch_size=64, epochs=30, validation_split=0.2)\n"
      ],
      "metadata": {
        "colab": {
          "base_uri": "https://localhost:8080/"
        },
        "id": "Lv9Q8HGh83ay",
        "outputId": "41578008-db48-4797-f3f2-b8a4912c8da0"
      },
      "execution_count": null,
      "outputs": [
        {
          "output_type": "stream",
          "name": "stdout",
          "text": [
            "Epoch 1/30\n",
            "\u001b[1m625/625\u001b[0m \u001b[32m━━━━━━━━━━━━━━━━━━━━\u001b[0m\u001b[37m\u001b[0m \u001b[1m21s\u001b[0m 31ms/step - accuracy: 0.2009 - loss: 2.1829 - val_accuracy: 0.2861 - val_loss: 1.9599\n",
            "Epoch 2/30\n",
            "\u001b[1m625/625\u001b[0m \u001b[32m━━━━━━━━━━━━━━━━━━━━\u001b[0m\u001b[37m\u001b[0m \u001b[1m19s\u001b[0m 30ms/step - accuracy: 0.2710 - loss: 1.9474 - val_accuracy: 0.3178 - val_loss: 1.8799\n",
            "Epoch 3/30\n",
            "\u001b[1m625/625\u001b[0m \u001b[32m━━━━━━━━━━━━━━━━━━━━\u001b[0m\u001b[37m\u001b[0m \u001b[1m19s\u001b[0m 28ms/step - accuracy: 0.2896 - loss: 1.9035 - val_accuracy: 0.3426 - val_loss: 1.8430\n",
            "Epoch 4/30\n",
            "\u001b[1m625/625\u001b[0m \u001b[32m━━━━━━━━━━━━━━━━━━━━\u001b[0m\u001b[37m\u001b[0m \u001b[1m21s\u001b[0m 29ms/step - accuracy: 0.3024 - loss: 1.8805 - val_accuracy: 0.3592 - val_loss: 1.8321\n",
            "Epoch 5/30\n",
            "\u001b[1m625/625\u001b[0m \u001b[32m━━━━━━━━━━━━━━━━━━━━\u001b[0m\u001b[37m\u001b[0m \u001b[1m20s\u001b[0m 32ms/step - accuracy: 0.3130 - loss: 1.8590 - val_accuracy: 0.3559 - val_loss: 1.8125\n",
            "Epoch 6/30\n",
            "\u001b[1m625/625\u001b[0m \u001b[32m━━━━━━━━━━━━━━━━━━━━\u001b[0m\u001b[37m\u001b[0m \u001b[1m19s\u001b[0m 29ms/step - accuracy: 0.3268 - loss: 1.8355 - val_accuracy: 0.3619 - val_loss: 1.8007\n",
            "Epoch 7/30\n",
            "\u001b[1m625/625\u001b[0m \u001b[32m━━━━━━━━━━━━━━━━━━━━\u001b[0m\u001b[37m\u001b[0m \u001b[1m21s\u001b[0m 33ms/step - accuracy: 0.3253 - loss: 1.8417 - val_accuracy: 0.3557 - val_loss: 1.8102\n",
            "Epoch 8/30\n",
            "\u001b[1m625/625\u001b[0m \u001b[32m━━━━━━━━━━━━━━━━━━━━\u001b[0m\u001b[37m\u001b[0m \u001b[1m40s\u001b[0m 31ms/step - accuracy: 0.3291 - loss: 1.8214 - val_accuracy: 0.3734 - val_loss: 1.7913\n",
            "Epoch 9/30\n",
            "\u001b[1m625/625\u001b[0m \u001b[32m━━━━━━━━━━━━━━━━━━━━\u001b[0m\u001b[37m\u001b[0m \u001b[1m20s\u001b[0m 29ms/step - accuracy: 0.3325 - loss: 1.8071 - val_accuracy: 0.3757 - val_loss: 1.7704\n",
            "Epoch 10/30\n",
            "\u001b[1m625/625\u001b[0m \u001b[32m━━━━━━━━━━━━━━━━━━━━\u001b[0m\u001b[37m\u001b[0m \u001b[1m20s\u001b[0m 29ms/step - accuracy: 0.3354 - loss: 1.8034 - val_accuracy: 0.3669 - val_loss: 1.7732\n",
            "Epoch 11/30\n",
            "\u001b[1m625/625\u001b[0m \u001b[32m━━━━━━━━━━━━━━━━━━━━\u001b[0m\u001b[37m\u001b[0m \u001b[1m21s\u001b[0m 31ms/step - accuracy: 0.3406 - loss: 1.7923 - val_accuracy: 0.3751 - val_loss: 1.7683\n",
            "Epoch 12/30\n",
            "\u001b[1m625/625\u001b[0m \u001b[32m━━━━━━━━━━━━━━━━━━━━\u001b[0m\u001b[37m\u001b[0m \u001b[1m18s\u001b[0m 29ms/step - accuracy: 0.3424 - loss: 1.7948 - val_accuracy: 0.3609 - val_loss: 1.7603\n",
            "Epoch 13/30\n",
            "\u001b[1m625/625\u001b[0m \u001b[32m━━━━━━━━━━━━━━━━━━━━\u001b[0m\u001b[37m\u001b[0m \u001b[1m21s\u001b[0m 30ms/step - accuracy: 0.3434 - loss: 1.7845 - val_accuracy: 0.3794 - val_loss: 1.7744\n",
            "Epoch 14/30\n",
            "\u001b[1m625/625\u001b[0m \u001b[32m━━━━━━━━━━━━━━━━━━━━\u001b[0m\u001b[37m\u001b[0m \u001b[1m20s\u001b[0m 32ms/step - accuracy: 0.3506 - loss: 1.7757 - val_accuracy: 0.3897 - val_loss: 1.7362\n",
            "Epoch 15/30\n",
            "\u001b[1m625/625\u001b[0m \u001b[32m━━━━━━━━━━━━━━━━━━━━\u001b[0m\u001b[37m\u001b[0m \u001b[1m19s\u001b[0m 30ms/step - accuracy: 0.3575 - loss: 1.7626 - val_accuracy: 0.3979 - val_loss: 1.7284\n",
            "Epoch 16/30\n",
            "\u001b[1m625/625\u001b[0m \u001b[32m━━━━━━━━━━━━━━━━━━━━\u001b[0m\u001b[37m\u001b[0m \u001b[1m21s\u001b[0m 30ms/step - accuracy: 0.3476 - loss: 1.7728 - val_accuracy: 0.3864 - val_loss: 1.7299\n",
            "Epoch 17/30\n",
            "\u001b[1m625/625\u001b[0m \u001b[32m━━━━━━━━━━━━━━━━━━━━\u001b[0m\u001b[37m\u001b[0m \u001b[1m20s\u001b[0m 29ms/step - accuracy: 0.3535 - loss: 1.7719 - val_accuracy: 0.3900 - val_loss: 1.7201\n",
            "Epoch 18/30\n",
            "\u001b[1m625/625\u001b[0m \u001b[32m━━━━━━━━━━━━━━━━━━━━\u001b[0m\u001b[37m\u001b[0m \u001b[1m21s\u001b[0m 30ms/step - accuracy: 0.3588 - loss: 1.7627 - val_accuracy: 0.3964 - val_loss: 1.7254\n",
            "Epoch 19/30\n",
            "\u001b[1m625/625\u001b[0m \u001b[32m━━━━━━━━━━━━━━━━━━━━\u001b[0m\u001b[37m\u001b[0m \u001b[1m22s\u001b[0m 32ms/step - accuracy: 0.3566 - loss: 1.7632 - val_accuracy: 0.3989 - val_loss: 1.7249\n",
            "Epoch 20/30\n",
            "\u001b[1m625/625\u001b[0m \u001b[32m━━━━━━━━━━━━━━━━━━━━\u001b[0m\u001b[37m\u001b[0m \u001b[1m18s\u001b[0m 29ms/step - accuracy: 0.3592 - loss: 1.7506 - val_accuracy: 0.3913 - val_loss: 1.7248\n",
            "Epoch 21/30\n",
            "\u001b[1m625/625\u001b[0m \u001b[32m━━━━━━━━━━━━━━━━━━━━\u001b[0m\u001b[37m\u001b[0m \u001b[1m19s\u001b[0m 31ms/step - accuracy: 0.3646 - loss: 1.7522 - val_accuracy: 0.3921 - val_loss: 1.7261\n",
            "Epoch 22/30\n",
            "\u001b[1m625/625\u001b[0m \u001b[32m━━━━━━━━━━━━━━━━━━━━\u001b[0m\u001b[37m\u001b[0m \u001b[1m20s\u001b[0m 29ms/step - accuracy: 0.3649 - loss: 1.7463 - val_accuracy: 0.3811 - val_loss: 1.7224\n",
            "Epoch 23/30\n",
            "\u001b[1m625/625\u001b[0m \u001b[32m━━━━━━━━━━━━━━━━━━━━\u001b[0m\u001b[37m\u001b[0m \u001b[1m21s\u001b[0m 30ms/step - accuracy: 0.3635 - loss: 1.7553 - val_accuracy: 0.3900 - val_loss: 1.7454\n",
            "Epoch 24/30\n",
            "\u001b[1m625/625\u001b[0m \u001b[32m━━━━━━━━━━━━━━━━━━━━\u001b[0m\u001b[37m\u001b[0m \u001b[1m20s\u001b[0m 29ms/step - accuracy: 0.3655 - loss: 1.7363 - val_accuracy: 0.4036 - val_loss: 1.6977\n",
            "Epoch 25/30\n",
            "\u001b[1m625/625\u001b[0m \u001b[32m━━━━━━━━━━━━━━━━━━━━\u001b[0m\u001b[37m\u001b[0m \u001b[1m20s\u001b[0m 28ms/step - accuracy: 0.3673 - loss: 1.7423 - val_accuracy: 0.3858 - val_loss: 1.7295\n",
            "Epoch 26/30\n",
            "\u001b[1m625/625\u001b[0m \u001b[32m━━━━━━━━━━━━━━━━━━━━\u001b[0m\u001b[37m\u001b[0m \u001b[1m18s\u001b[0m 28ms/step - accuracy: 0.3642 - loss: 1.7439 - val_accuracy: 0.4004 - val_loss: 1.7174\n",
            "Epoch 27/30\n",
            "\u001b[1m625/625\u001b[0m \u001b[32m━━━━━━━━━━━━━━━━━━━━\u001b[0m\u001b[37m\u001b[0m \u001b[1m21s\u001b[0m 29ms/step - accuracy: 0.3574 - loss: 1.7459 - val_accuracy: 0.4079 - val_loss: 1.7020\n",
            "Epoch 28/30\n",
            "\u001b[1m625/625\u001b[0m \u001b[32m━━━━━━━━━━━━━━━━━━━━\u001b[0m\u001b[37m\u001b[0m \u001b[1m21s\u001b[0m 30ms/step - accuracy: 0.3714 - loss: 1.7360 - val_accuracy: 0.4065 - val_loss: 1.7134\n",
            "Epoch 29/30\n",
            "\u001b[1m625/625\u001b[0m \u001b[32m━━━━━━━━━━━━━━━━━━━━\u001b[0m\u001b[37m\u001b[0m \u001b[1m18s\u001b[0m 29ms/step - accuracy: 0.3733 - loss: 1.7291 - val_accuracy: 0.3933 - val_loss: 1.7172\n",
            "Epoch 30/30\n",
            "\u001b[1m625/625\u001b[0m \u001b[32m━━━━━━━━━━━━━━━━━━━━\u001b[0m\u001b[37m\u001b[0m \u001b[1m19s\u001b[0m 31ms/step - accuracy: 0.3690 - loss: 1.7275 - val_accuracy: 0.3993 - val_loss: 1.7020\n"
          ]
        }
      ]
    },
    {
      "cell_type": "code",
      "source": [
        "import matplotlib.pyplot as plt\n",
        "%matplotlib inline\n",
        "# list all data in training\n",
        "print(training.history.keys())\n",
        "# summarize training for accuracy\n",
        "plt.plot(training.history['accuracy'])\n",
        "plt.plot(training.history['val_accuracy'])\n",
        "plt.title('model accuracy')\n",
        "plt.ylabel('accuracy')\n",
        "plt.xlabel('epoch')\n",
        "plt.legend(['train', 'test'], loc='upper left')\n",
        "plt.show()\n",
        "# summarize traning for loss\n",
        "plt.plot(training.history['loss'])\n",
        "plt.plot(training.history['val_loss'])\n",
        "plt.title('model loss')\n",
        "plt.ylabel('loss')\n",
        "plt.xlabel('epoch')\n",
        "plt.legend(['train', 'test'], loc='upper left')\n",
        "plt.show()"
      ],
      "metadata": {
        "colab": {
          "base_uri": "https://localhost:8080/",
          "height": 943
        },
        "id": "t8jz3hjP847d",
        "outputId": "a973e334-cb4d-4a5c-b888-5660fd4e6dc9"
      },
      "execution_count": null,
      "outputs": [
        {
          "output_type": "stream",
          "name": "stdout",
          "text": [
            "dict_keys(['accuracy', 'loss', 'val_accuracy', 'val_loss'])\n"
          ]
        },
        {
          "output_type": "display_data",
          "data": {
            "text/plain": [
              "<Figure size 640x480 with 1 Axes>"
            ],
            "image/png": "[encoded data removed]"
          },
          "metadata": {}
        },
        {
          "output_type": "display_data",
          "data": {
            "text/plain": [
              "<Figure size 640x480 with 1 Axes>"
            ],
            "image/png": "[encoded data removed]"
          },
          "metadata": {}
        }
      ]
    },
    {
      "cell_type": "code",
      "source": [
        "#evaluate the model\n",
        "test_loss, test_acc = model_5.evaluate(X_test, Y_test)\n",
        "print('Test accuracy:', test_acc)"
      ],
      "metadata": {
        "colab": {
          "base_uri": "https://localhost:8080/"
        },
        "id": "5FJCMz7U87EA",
        "outputId": "4cf6f024-635f-4316-92ef-7a8890a8b78b"
      },
      "execution_count": null,
      "outputs": [
        {
          "output_type": "stream",
          "name": "stdout",
          "text": [
            "\u001b[1m313/313\u001b[0m \u001b[32m━━━━━━━━━━━━━━━━━━━━\u001b[0m\u001b[37m\u001b[0m \u001b[1m2s\u001b[0m 5ms/step - accuracy: 0.4212 - loss: 1.6834\n",
            "Test accuracy: 0.4147999882698059\n"
          ]
        }
      ]
    },
    {
      "cell_type": "code",
      "source": [
        "model_5.summary"
      ],
      "metadata": {
        "colab": {
          "base_uri": "https://localhost:8080/",
          "height": 202
        },
        "id": "uw7shNaI88iB",
        "outputId": "f18c7285-178e-42e8-bf2d-ef4d7e21611b"
      },
      "execution_count": null,
      "outputs": [
        {
          "output_type": "execute_result",
          "data": {
            "text/plain": [
              "<bound method Model.summary of <Sequential name=sequential_11, built=True>>"
            ],
            "text/html": [
              "<div style=\"max-width:800px; border: 1px solid var(--colab-border-color);\"><style>\n",
              "      pre.function-repr-contents {\n",
              "        overflow-x: auto;\n",
              "        padding: 8px 12px;\n",
              "        max-height: 500px;\n",
              "      }\n",
              "\n",
              "      pre.function-repr-contents.function-repr-contents-collapsed {\n",
              "        cursor: pointer;\n",
              "        max-height: 100px;\n",
              "      }\n",
              "    </style>\n",
              "    <pre style=\"white-space: initial; background:\n",
              "         var(--colab-secondary-surface-color); padding: 8px 12px;\n",
              "         border-bottom: 1px solid var(--colab-border-color);\"><b>keras.src.models.model.Model.summary</b><br/>def summary(line_length=None, positions=None, print_fn=None, expand_nested=False, show_trainable=False, layer_range=None)</pre><pre class=\"function-repr-contents function-repr-contents-collapsed\" style=\"\"><a class=\"filepath\" style=\"display:none\" href=\"#\">/usr/local/lib/python3.11/dist-packages/keras/src/models/model.py</a>Prints a string summary of the network.\n",
              "\n",
              "Args:\n",
              "    line_length: Total length of printed lines\n",
              "        (e.g. set this to adapt the display to different\n",
              "        terminal window sizes).\n",
              "    positions: Relative or absolute positions of log elements\n",
              "        in each line. If not provided, becomes\n",
              "        `[0.3, 0.6, 0.70, 1.]`. Defaults to `None`.\n",
              "    print_fn: Print function to use. By default, prints to `stdout`.\n",
              "        If `stdout` doesn&#x27;t work in your environment, change to `print`.\n",
              "        It will be called on each line of the summary.\n",
              "        You can set it to a custom function\n",
              "        in order to capture the string summary.\n",
              "    expand_nested: Whether to expand the nested models.\n",
              "        Defaults to `False`.\n",
              "    show_trainable: Whether to show if a layer is trainable.\n",
              "        Defaults to `False`.\n",
              "    layer_range: a list or tuple of 2 strings,\n",
              "        which is the starting layer name and ending layer name\n",
              "        (both inclusive) indicating the range of layers to be printed\n",
              "        in summary. It also accepts regex patterns instead of exact\n",
              "        names. In this case, the start predicate will be\n",
              "        the first element that matches `layer_range[0]`\n",
              "        and the end predicate will be the last element\n",
              "        that matches `layer_range[1]`.\n",
              "        By default `None` considers all layers of the model.\n",
              "\n",
              "Raises:\n",
              "    ValueError: if `summary()` is called before the model is built.</pre>\n",
              "      <script>\n",
              "      if (google.colab.kernel.accessAllowed && google.colab.files && google.colab.files.view) {\n",
              "        for (const element of document.querySelectorAll('.filepath')) {\n",
              "          element.style.display = 'block'\n",
              "          element.onclick = (event) => {\n",
              "            event.preventDefault();\n",
              "            event.stopPropagation();\n",
              "            google.colab.files.view(element.textContent, 218);\n",
              "          };\n",
              "        }\n",
              "      }\n",
              "      for (const element of document.querySelectorAll('.function-repr-contents')) {\n",
              "        element.onclick = (event) => {\n",
              "          event.preventDefault();\n",
              "          event.stopPropagation();\n",
              "          element.classList.toggle('function-repr-contents-collapsed');\n",
              "        };\n",
              "      }\n",
              "      </script>\n",
              "      </div>"
            ]
          },
          "metadata": {},
          "execution_count": 75
        }
      ]
    },
    {
      "cell_type": "code",
      "source": [
        "model_5.weights"
      ],
      "metadata": {
        "colab": {
          "base_uri": "https://localhost:8080/"
        },
        "id": "lj71lZYk897_",
        "outputId": "b38e6d7c-4560-4279-b1c8-c22a813b6bf6"
      },
      "execution_count": null,
      "outputs": [
        {
          "output_type": "execute_result",
          "data": {
            "text/plain": [
              "[<Variable path=sequential_11/dense_layer/kernel, shape=(3072, 512), dtype=float32, value=[[-0.0108911   0.03350297 -0.01405364 ... -0.04445483 -0.01172693\n",
              "   -0.0007687 ]\n",
              "  [-0.00025075 -0.01641483  0.0144216  ... -0.0336577   0.00264616\n",
              "   -0.03895941]\n",
              "  [ 0.02042903  0.02694887  0.01955743 ... -0.02993049  0.00477712\n",
              "    0.01665504]\n",
              "  ...\n",
              "  [ 0.02105532 -0.00586676  0.02763208 ... -0.02374147  0.01025453\n",
              "    0.00515121]\n",
              "  [-0.02815779 -0.02054718  0.02176468 ...  0.03082021 -0.03415529\n",
              "    0.01514212]\n",
              "  [-0.02122082 -0.04050757  0.01531872 ... -0.03758142  0.00474092\n",
              "   -0.00486276]]>,\n",
              " <Variable path=sequential_11/dense_layer/bias, shape=(512,), dtype=float32, value=[-5.12082828e-03 -5.00650704e-03 -6.00191997e-03 -7.33996276e-03\n",
              "  -6.12217560e-03 -5.98288514e-03 -4.54503950e-03 -5.38331224e-03\n",
              "  -6.54413039e-03 -6.84529357e-03  4.99002188e-02 -6.00406574e-03\n",
              "  -6.00447692e-03 -9.73172672e-03 -3.04024247e-03 -3.85510945e-03\n",
              "  -6.00044429e-03 -6.00148086e-03 -9.97115159e-04 -2.03166809e-03\n",
              "  -6.50731614e-03 -2.99040554e-03  2.38325614e-02 -6.64299866e-03\n",
              "  -6.15505269e-03 -6.00271160e-03 -6.06735609e-03 -7.24880211e-03\n",
              "  -3.86947673e-03 -4.27017594e-03 -5.91123430e-03 -6.00012857e-03\n",
              "  -5.51178213e-03 -9.03459918e-03 -6.00226037e-03 -6.00191392e-03\n",
              "  -1.91720610e-03 -1.73476245e-02 -5.26793394e-03 -2.39377003e-03\n",
              "  -6.00253837e-03 -3.39985685e-03 -6.00238377e-03 -6.00369927e-03\n",
              "  -5.55152772e-03 -2.21311324e-03 -5.55449910e-03 -4.47371695e-03\n",
              "  -5.33690071e-03 -4.48598852e-03 -5.91887161e-03 -3.62164131e-03\n",
              "  -6.26952527e-03 -6.00400940e-03 -5.99560933e-03 -5.29790111e-03\n",
              "  -7.65787764e-03 -2.64806114e-03 -2.38719885e-03 -5.99816954e-03\n",
              "  -2.15948443e-03 -6.02697302e-03 -6.16494194e-03 -5.96046820e-03\n",
              "  -4.95419465e-03 -1.85688201e-03 -4.94922511e-03 -6.00205176e-03\n",
              "  -6.00342918e-03 -3.23624001e-03 -5.58390049e-03 -5.20202843e-03\n",
              "   3.46011668e-01 -5.99969039e-03 -2.40972545e-03 -9.83065646e-03\n",
              "  -6.00412162e-03 -7.40260258e-03 -6.00237679e-03 -3.09592835e-03\n",
              "  -5.98598225e-03 -3.83790815e-03 -8.43537506e-03 -6.75267074e-03\n",
              "  -5.21714007e-03 -3.07015935e-03 -6.00146828e-03 -6.00340217e-03\n",
              "  -5.99857932e-03 -5.29068410e-01 -5.41865593e-04 -5.54672768e-03\n",
              "  -4.90925461e-03 -5.07925125e-03 -6.00392837e-03 -6.87769987e-03\n",
              "  -6.00350229e-03 -2.99678836e-03 -7.03859003e-03 -2.75567221e-03\n",
              "  -5.99515112e-03 -3.40576726e-03 -6.42988924e-03 -6.00366574e-03\n",
              "  -1.50060765e-02 -5.97851677e-03 -2.53209169e-03 -4.43421258e-03\n",
              "  -6.00017607e-03 -4.61947080e-03 -6.00103056e-03 -8.73473048e-01\n",
              "  -1.13660272e-03 -6.00095512e-03 -6.59229374e-03 -3.61784943e-03\n",
              "  -6.31255982e-03 -5.65460371e-03 -6.00285502e-03 -8.46997276e-03\n",
              "  -3.52226733e-03  3.59838991e-03 -7.85470847e-03 -6.00201683e-03\n",
              "  -3.12852929e-03 -2.00691447e-03 -6.00213651e-03 -6.00276981e-03\n",
              "  -1.15984504e-03 -6.00228040e-03 -6.00383477e-03 -5.85806929e-03\n",
              "  -3.13281221e-03 -5.98767400e-03  4.70338855e-03 -5.99689689e-03\n",
              "  -4.76684747e-03 -5.99988783e-03 -6.00185292e-03 -4.35179891e-03\n",
              "  -6.00306829e-03 -6.00384129e-03 -5.52408863e-03 -5.27594471e-04\n",
              "  -6.00214489e-03 -5.99181373e-03 -6.69077458e-03 -5.99515717e-03\n",
              "  -9.12209693e-03 -4.37167799e-03 -5.33455797e-03 -6.14953972e-03\n",
              "  -8.40249658e-03 -3.57124046e-03 -2.76451069e-03 -6.16355101e-03\n",
              "  -2.20418815e-02 -5.97285060e-03 -5.54812886e-03  3.43996912e-01\n",
              "  -7.20203249e-03 -6.90982561e-04 -5.61875151e-03 -3.45068728e-03\n",
              "  -4.07722639e-03 -5.14864223e-03  1.69724524e-02 -5.99905616e-03\n",
              "  -2.60470225e-03 -6.97431993e-03  1.63001820e-01 -6.00188971e-03\n",
              "  -3.09068547e-03 -2.56393291e-03 -5.99210523e-03 -4.13986994e-03\n",
              "  -6.00306457e-03 -3.63814388e-03 -3.09037557e-03 -8.87092669e-03\n",
              "  -6.00071717e-03 -1.23634562e-03 -5.07540582e-03 -5.99905849e-03\n",
              "  -5.62357111e-03 -3.04184970e-03 -5.97023265e-03 -4.38529253e-03\n",
              "  -4.12397087e-03 -7.04691047e-03 -5.98552031e-03 -5.98879578e-03\n",
              "  -6.02263678e-03 -4.47773095e-03 -6.00243313e-03 -4.08881670e-03\n",
              "  -4.57585976e-03 -8.15537642e-04 -5.99757303e-03 -6.30195346e-03\n",
              "  -1.26592896e-03 -6.00308739e-03 -6.75470708e-03 -5.99965220e-03\n",
              "  -5.07969689e-03 -4.17565648e-03 -5.58061246e-03 -4.85225627e-03\n",
              "  -4.60472004e-03 -4.48975107e-03 -4.74053528e-03 -6.09700009e-03\n",
              "  -7.10235210e-03 -6.00100541e-03 -5.96478023e-03 -6.00128388e-03\n",
              "  -4.45415173e-03 -1.93693563e-02 -6.00146689e-03 -4.19251528e-03\n",
              "  -5.09487418e-03 -1.12871581e-03 -5.98770007e-03 -5.33926440e-03\n",
              "  -3.62033071e-03 -5.99514041e-03 -6.00105152e-03 -2.61219055e-03\n",
              "  -5.67889307e-03 -2.60715699e-03 -4.41271625e-03 -5.54062193e-03\n",
              "  -3.98988416e-03 -5.25024813e-03 -4.10655560e-03 -5.99738583e-03\n",
              "  -1.73305813e-02 -5.57169691e-03 -1.55692184e-02 -5.11419307e-03\n",
              "  -6.00043312e-03 -7.88626727e-04 -6.00014813e-03 -8.83271080e-03\n",
              "  -8.50945432e-03 -3.21481866e-03 -3.64971138e-03 -1.68497816e-01\n",
              "  -7.42008304e-03 -5.93427150e-03 -1.75520591e-03 -4.56044730e-03\n",
              "  -8.46314244e-03 -6.82789600e-03 -4.25535347e-03 -6.00132626e-03\n",
              "  -1.01414779e-02 -7.91566074e-03 -3.38906515e-03 -5.92938391e-03\n",
              "  -6.00280566e-03 -6.00311067e-03 -5.96625125e-03 -6.00164151e-03\n",
              "  -5.67572610e-03 -5.99810667e-03 -6.00200705e-03 -6.00257330e-03\n",
              "  -5.11893071e-04 -5.60502941e-03 -8.24838132e-03 -4.16112179e-03\n",
              "  -5.33232046e-03 -5.99838840e-03 -5.92889730e-03  5.41161560e-03\n",
              "  -3.35664349e-03 -1.83795393e-02 -4.49598953e-03 -6.00306178e-03\n",
              "  -5.99821936e-03 -3.97269242e-03 -1.89194994e-04 -2.82236631e-03\n",
              "  -1.39231188e-03 -3.07352632e-01 -6.00494305e-03 -5.15409932e-03\n",
              "  -6.00398984e-03 -4.38116072e-03 -2.41743238e-03 -5.19157993e-03\n",
              "  -7.23847607e-03 -6.65879343e-03 -6.76527759e-03 -6.00024499e-03\n",
              "  -2.05759797e-03  1.02060921e-01 -5.47154294e-03 -6.48996048e-03\n",
              "  -6.17063046e-03 -3.67228058e-03 -5.53989178e-03 -4.10572626e-03\n",
              "  -1.73568784e-03 -5.91152813e-03 -5.97619405e-03 -5.24287997e-03\n",
              "  -4.50554676e-03 -5.99968201e-03 -5.99046843e-03 -3.23526282e-03\n",
              "  -4.92070569e-03  2.41949674e-04 -3.65159824e-03 -4.25564777e-03\n",
              "  -6.06304733e-03 -4.50473046e-03 -7.87293352e-03 -6.83317613e-03\n",
              "  -6.00413466e-03 -6.00168481e-03 -1.07235432e+00 -5.20614814e-03\n",
              "  -7.66901905e-03 -6.57127332e-03 -5.33288997e-03  2.30146525e-03\n",
              "  -5.95448911e-03 -2.32776487e-03 -5.98537317e-03 -7.49187730e-03\n",
              "  -7.19569484e-03  1.86104625e-01 -1.41720911e-02 -6.00417098e-03\n",
              "  -4.42870799e-03 -1.15165375e-02 -6.38666749e-03 -5.98747889e-03\n",
              "  -7.04151485e-03 -3.36018880e-03 -7.85144139e-03 -3.04189837e-03\n",
              "  -4.24810871e-03 -5.99123444e-03 -3.60572897e-03 -4.38606646e-03\n",
              "  -5.32815605e-03 -6.00393722e-03 -6.02023862e-03 -5.11694094e-03\n",
              "  -6.03992585e-03 -5.64320432e-03 -5.99980913e-03 -4.06924076e-03\n",
              "  -3.16941459e-03 -1.84042205e-03 -2.36688345e-03 -6.00264221e-03\n",
              "  -6.00321218e-03 -6.15812885e-03 -7.71913398e-03 -5.99724567e-03\n",
              "  -3.17779346e-03 -9.00337473e-03 -2.25382345e-03 -3.20589822e-03\n",
              "  -5.99853741e-03 -5.16263349e-03 -8.32448807e-03 -5.14705200e-03\n",
              "  -4.33437619e-03 -6.00140309e-03 -1.65041480e-02 -5.99863520e-03\n",
              "  -5.98836085e-03 -7.34642474e-03 -5.29223820e-03 -7.72926331e-01\n",
              "  -3.79713951e-03 -7.87322503e-03 -1.35550031e-03 -4.75947466e-03\n",
              "  -4.24384186e-03 -1.21493209e-02 -2.30913539e-03 -6.00446435e-03\n",
              "  -5.54034207e-03 -4.04099002e-03  8.29267949e-02 -6.00140635e-03\n",
              "  -6.00274652e-03 -7.87668489e-03 -5.54958312e-03 -5.99679537e-03\n",
              "   8.47603101e-03 -6.52457494e-03 -6.00325130e-03 -5.99219650e-03\n",
              "  -6.00314839e-03 -3.55361286e-03 -9.34625801e-04 -5.95893385e-03\n",
              "  -7.46506918e-03 -6.00311160e-03 -1.61151891e-03 -5.13847964e-03\n",
              "  -6.00230927e-03 -5.59401885e-03 -4.34365170e-03 -6.17691875e-03\n",
              "  -5.58423251e-03 -4.11589304e-03 -2.15140786e-02 -9.40463680e-04\n",
              "  -4.53214830e-04 -6.00330764e-03 -5.95754059e-03 -6.28537033e-03\n",
              "  -7.85785913e-03 -6.48312643e-03 -9.92020126e-03 -4.19739773e-03\n",
              "  -1.32680768e-02 -4.16262401e-03 -6.00434933e-03 -6.10758830e-03\n",
              "   5.56799874e-04 -6.00344036e-03 -6.00187061e-03 -7.68111460e-03\n",
              "  -5.61322927e-01 -4.38971445e-03 -5.11339726e-03 -4.07628249e-03\n",
              "  -6.00324478e-03 -8.23496748e-03 -4.32290416e-03 -3.89362802e-03\n",
              "  -6.00395957e-03 -4.25177393e-03 -2.38321093e-03 -5.81861800e-03\n",
              "  -6.00247551e-03 -6.51313132e-03 -4.16306546e-03  3.61010849e-01\n",
              "  -6.70288038e-03 -3.80539661e-03 -5.45911305e-03 -6.61077956e-03\n",
              "  -6.00330019e-03 -2.60880813e-02 -2.07037106e-03 -3.88482399e-03\n",
              "  -6.00323081e-03 -4.57253261e-03 -6.81312243e-03 -2.39890348e-03\n",
              "  -1.92456413e-02 -4.83574485e-03 -6.77188067e-03 -6.00268226e-03\n",
              "  -4.48158337e-03 -5.20859100e-03 -2.72268755e-03  2.35437766e-01\n",
              "  -7.15727592e-03 -3.90397571e-03 -7.96030182e-03 -3.27681913e-03\n",
              "  -7.68934656e-03 -2.34316057e-03 -6.00370811e-03 -5.98668354e-03\n",
              "  -2.14319117e-03 -5.99026587e-03 -1.25644344e-03 -6.25280896e-03\n",
              "  -6.00260077e-03 -6.00173045e-03 -5.99437160e-03 -5.99878700e-03\n",
              "  -3.97224072e-03 -1.51977474e-02 -5.99944871e-03 -5.98850660e-03\n",
              "  -5.99670457e-03 -8.12927447e-03 -2.25678482e-03 -1.06679485e-03\n",
              "  -4.97343019e-03 -4.66249790e-03 -4.51859040e-03 -5.99396881e-03\n",
              "  -5.51144034e-03 -1.08210444e-02 -6.94241608e-03 -4.78394516e-03\n",
              "  -6.66026818e-03 -4.22715815e-03 -1.95371173e-03 -3.08821350e-03\n",
              "  -5.99502865e-03 -6.00312417e-03  6.86704414e-04 -5.97630814e-03\n",
              "  -5.22079039e-03 -5.11745177e-03 -6.00061752e-03 -5.11213718e-03]>,\n",
              " <Variable path=sequential_11/dense_layer_2/kernel, shape=(512, 512), dtype=float32, value=[[ 0.05772787  0.06434406  0.05485991 ... -0.07173473  0.02160026\n",
              "   -0.03108056]\n",
              "  [-0.00844502  0.00759906 -0.04184519 ... -0.00544161  0.0067041\n",
              "   -0.04450862]\n",
              "  [-0.03763459 -0.00489006  0.04852907 ... -0.00341249 -0.0134254\n",
              "    0.04077198]\n",
              "  ...\n",
              "  [-0.03009947  0.0377587   0.01847032 ... -0.02818583 -0.02880205\n",
              "   -0.01319635]\n",
              "  [-0.02943105  0.04476297  0.04940526 ...  0.02334572 -0.01897796\n",
              "    0.01517069]\n",
              "  [ 0.04472621 -0.00803745  0.01307462 ... -0.00341374 -0.04656214\n",
              "    0.00779182]]>,\n",
              " <Variable path=sequential_11/dense_layer_2/bias, shape=(512,), dtype=float32, value=[ 0.2416487  -0.0703823  -0.2710821  -0.23601374 -0.0011894  -0.38771057\n",
              "  -0.29980603  0.16271518 -0.21971616 -0.07036535 -0.2976912  -0.35134643\n",
              "  -0.04742258 -0.47067827 -0.4631096   0.00804729 -0.16470684 -0.35421368\n",
              "  -0.03291939  0.074008   -0.11337185  0.05750741 -0.05095572 -0.33393535\n",
              "  -0.23975687 -0.24099162  0.10354128 -0.02452163  0.16654748 -0.03916389\n",
              "  -0.1933169  -0.00656676 -0.22870111 -0.5908175   0.43331373 -0.06627391\n",
              "  -0.13862628  0.03064569 -0.22168426 -0.06955504 -0.03912034 -0.42907998\n",
              "  -0.13354373  0.37950313  0.40277866 -0.4627645  -0.16984262 -0.60000193\n",
              "  -0.02835596  0.08274592 -0.3504224  -0.22766119 -0.5512025  -0.89177036\n",
              "  -0.51725066 -0.2728331  -0.01204442 -0.16994418 -0.3863172  -0.40250096\n",
              "  -0.2843277  -0.4223319  -0.12573141  0.6422005   0.02205711 -0.29607463\n",
              "   0.6240659  -0.5104668  -0.1298538   0.00881118 -0.45955354 -0.28054962\n",
              "  -0.2329174   0.25740287  0.1882451   0.26888797  0.21241745  0.08714912\n",
              "  -0.10329186 -0.1773552  -0.31969833 -0.30119887 -0.05301351 -0.04236017\n",
              "  -0.39772835 -0.32318956 -0.14045843 -0.53945607 -0.30771688 -0.8949567\n",
              "  -0.03489846 -0.18926787 -0.24087797  0.21387784  0.56245875 -0.27588767\n",
              "  -0.45867896 -0.02363108 -0.1598331  -0.47093296 -0.01437763 -0.12912452\n",
              "   0.47132048  0.23690332 -0.45427904 -0.24588278 -0.30289903 -0.39004424\n",
              "  -0.31801298 -0.18341161 -0.21355318 -0.44282728 -0.26181164 -0.17213371\n",
              "   0.11474188  0.3725351  -0.3057682  -0.5300469  -0.4009327   0.2867736\n",
              "   0.3266418  -0.3694221  -0.1442816  -0.26062426 -0.08120449  0.26481953\n",
              "   0.544511   -0.30648765 -0.04400725 -0.26689553 -0.08918155 -0.28578657\n",
              "  -0.18605156 -0.4311571  -0.2767205  -0.0380915  -0.13889948  0.038858\n",
              "   0.19909723 -0.21359856 -0.12157094 -0.2971267  -0.15071306  0.19492364\n",
              "  -0.40612057 -0.3745015   0.13498732 -0.17791475  0.21425222 -0.30935985\n",
              "  -0.5718092  -0.10146001 -0.07835589 -0.37905738  0.5212202  -0.08687979\n",
              "  -0.3031164  -0.4358599   0.23259632 -0.3545038  -0.11969359 -0.68694884\n",
              "  -0.09023989  0.05414288 -0.18793625  0.11357185  0.41423512  0.0767172\n",
              "  -0.4515616   0.64381033  0.30376136 -0.11222708 -0.3530691  -0.25432172\n",
              "   0.30652753 -0.31895155  0.06638042 -0.36809453 -0.22215638  0.51500225\n",
              "  -0.19851288 -0.43039638  0.31460494 -0.22418162 -0.02854147  0.0401393\n",
              "  -0.30810687  0.2382761  -0.04581307 -0.7390112  -0.16615294 -0.14442295\n",
              "  -0.40799573 -0.34293878 -0.38877866 -0.03964111 -0.22302206 -0.1658048\n",
              "  -0.25722602  0.58140826  0.05650682 -0.5231966  -0.17243798 -0.12838696\n",
              "  -0.29113534  0.13226756 -0.0453641   0.21695437 -0.32090694 -0.04137302\n",
              "  -0.0437467  -0.34436423 -0.35366333 -0.5666258  -0.09581664 -0.50457597\n",
              "  -0.5065403  -0.7920558  -0.17017318 -0.42776382 -0.13975485 -0.3840545\n",
              "  -0.02051486 -0.17693643  0.27647734 -0.25888062  0.13189715 -0.07102481\n",
              "  -0.28816378 -0.52069587 -0.23267378 -0.07325946 -0.3608002   0.10212103\n",
              "  -0.42225546 -0.06353173  0.33588222 -0.16769959 -0.26271662 -0.20992225\n",
              "   0.37552005 -0.14188178 -0.06045343 -0.24151124 -0.17104559 -0.19678417\n",
              "   0.46883395 -0.47832245 -0.0092607  -0.09774275  0.23064491 -0.42619604\n",
              "  -0.3981977   0.41887257  0.33206746  0.51598674 -0.2371002   0.30541533\n",
              "   0.2193583  -1.011298   -0.08904624 -0.16226639  0.04296527 -0.25315404\n",
              "   0.2807661  -0.14020479  0.24396957 -0.08116141  0.05985997 -0.45034647\n",
              "  -0.18468587 -0.27589127  0.12147363  0.56829774 -0.56919533 -0.43832612\n",
              "   0.19343413 -0.827984   -0.13280614 -0.32006213  0.03105767  0.0260914\n",
              "   0.32831305  0.26550668 -0.4404403   0.13857496  0.18771051 -0.05225415\n",
              "  -0.5785037  -0.04829004 -0.34304363 -0.27062038 -0.16276474  0.14273222\n",
              "  -0.04706702  0.62764597 -0.44626808  0.34282017 -0.25039592 -0.04112237\n",
              "  -0.01775124  0.02387294 -0.0410945  -0.06957617  0.0973326   0.05909162\n",
              "  -0.36217874 -0.14303325  0.10182118  0.23070337  0.3153656  -0.7096516\n",
              "  -0.16795653 -0.27389115 -0.57289416 -0.12323228 -0.35546616 -0.2846113\n",
              "  -0.24809407  0.22822987 -0.2608196  -0.20512679 -0.27857777 -0.12239628\n",
              "  -0.40819883  0.44411448 -0.38616142 -0.3016025  -0.18062973  0.18134256\n",
              "   0.30614308 -0.05920922 -0.18269333 -0.32705513 -0.2811711   0.10774897\n",
              "  -0.191268   -0.34203064 -0.12945114 -0.460024    0.06271452 -0.43579453\n",
              "  -0.32350197 -0.54867685 -0.18517049  0.09979164 -0.12250175 -0.5508093\n",
              "  -0.3956821   0.18449445 -0.10257676  0.0162466  -0.48776996 -0.33793643\n",
              "  -0.02583423 -0.11010218 -0.28823033 -0.10968398 -0.4761703   0.00533901\n",
              "   0.08026115  0.02404873 -0.35984662  0.02859839 -0.30414152 -0.25824928\n",
              "  -0.39658445  0.06416263  0.1455372  -0.26645005 -0.50722873 -0.20569658\n",
              "  -0.18470402  0.12738396  0.17534506 -0.5846512  -0.30102786  0.275358\n",
              "   0.1901264  -0.17319345 -0.6091548  -0.27564585 -0.11770779  0.12577341\n",
              "  -0.5451296  -0.43421173  0.3810457  -0.17461492 -0.04118177  0.1296314\n",
              "   0.33762524 -0.19871086  0.06051687 -0.37992075 -0.18729131 -0.39640343\n",
              "   0.29115996 -0.3640887   0.00256751 -0.37545916  0.17553891 -0.5681076\n",
              "   0.03893442  0.5450083  -0.26965395 -0.31903547  0.3969127  -0.51222056\n",
              "   0.04348363 -0.41280138 -0.5687527  -0.03102957  0.38096902 -0.01502046\n",
              "   0.07941762 -0.3198186  -0.11934511 -0.40305954 -0.6102635  -0.52085483\n",
              "   0.04013252 -0.17887293 -0.13684127 -0.08343486 -0.46128014 -0.55355835\n",
              "  -0.12149387 -0.21827987 -0.2938921   0.57056874 -0.13681796 -0.22269247\n",
              "  -0.4523879  -0.10087328  0.08888818  0.178069   -0.3797285  -0.21585463\n",
              "  -0.35153055 -0.09661891 -0.14022166 -0.536033    0.25333664 -0.18679486\n",
              "   0.62117654  0.12782186  0.10114898 -0.00207281  0.27086705 -0.4854189\n",
              "  -0.42116806 -0.12384892 -0.32092652 -0.71885043  0.05513242  0.00367824\n",
              "   0.04640577  0.2109499  -0.33482143 -0.26016694  0.6288448  -0.03657987\n",
              "  -0.10651969  0.42526796 -0.06323157 -0.4704946  -0.70277274 -0.12049946\n",
              "   0.16930941  0.16219883  0.06164869 -0.46549386 -0.37285998 -0.32212052\n",
              "  -0.7447191  -0.27195555 -0.169625   -0.24017037 -0.14640498 -0.37633768\n",
              "  -0.37614968 -0.47222883 -0.058422   -0.17318699 -0.6967019   0.00626766\n",
              "  -0.11606129  0.57662976  0.08178663 -0.12342507 -0.20006946  0.3075834\n",
              "  -0.23393944  0.1540559  -0.7007434  -0.2793983   0.04272829 -0.14067884\n",
              "  -0.32066956 -0.41376093 -0.02660994 -0.33682805  0.05460696  0.21780972\n",
              "  -0.28637144 -0.3790121  -0.54345256  0.35824338  0.21854232 -0.2655495\n",
              "   0.5216258  -0.64962375]>,\n",
              " <Variable path=sequential_11/dense_layer_3/kernel, shape=(512, 10), dtype=float32, value=[[-0.06692921 -0.07306854  0.00868189 ... -0.07729597 -0.01537652\n",
              "   -0.09431714]\n",
              "  [ 0.01952478 -0.06922171  0.0747275  ...  0.00521968 -0.03424893\n",
              "   -0.1320529 ]\n",
              "  [ 0.03633347  0.05422923 -0.04697259 ...  0.03376238 -0.0045176\n",
              "    0.0463751 ]\n",
              "  ...\n",
              "  [ 0.03862132 -0.01611818 -0.12804349 ... -0.04332954  0.03611032\n",
              "    0.06637545]\n",
              "  [-0.12772094 -0.13340867  0.13218021 ...  0.02185183 -0.13099669\n",
              "   -0.11286651]\n",
              "  [ 0.09003488  0.06698377 -0.2287664  ... -0.11403575  0.06718251\n",
              "    0.03428558]]>,\n",
              " <Variable path=sequential_11/dense_layer_3/bias, shape=(10,), dtype=float32, value=[-0.31741628 -0.2627224  -0.11659089  0.3880369   0.09667242  0.12195422\n",
              "   0.13226096  0.05719611 -0.1657151   0.05230121]>]"
            ]
          },
          "metadata": {},
          "execution_count": 76
        }
      ]
    },
    {
      "cell_type": "code",
      "source": [
        "model_5.get_config()"
      ],
      "metadata": {
        "colab": {
          "base_uri": "https://localhost:8080/"
        },
        "id": "s5EkEcEm8_Y9",
        "outputId": "956a9e43-abeb-438b-f68f-e51e88ee0cbd"
      },
      "execution_count": null,
      "outputs": [
        {
          "output_type": "execute_result",
          "data": {
            "text/plain": [
              "{'name': 'sequential_11',\n",
              " 'trainable': True,\n",
              " 'dtype': {'module': 'keras',\n",
              "  'class_name': 'DTypePolicy',\n",
              "  'config': {'name': 'float32'},\n",
              "  'registered_name': None},\n",
              " 'layers': [{'module': 'keras.layers',\n",
              "   'class_name': 'InputLayer',\n",
              "   'config': {'batch_shape': (None, 3072),\n",
              "    'dtype': 'float32',\n",
              "    'sparse': False,\n",
              "    'name': 'input_layer_11'},\n",
              "   'registered_name': None},\n",
              "  {'module': 'keras.layers',\n",
              "   'class_name': 'Dense',\n",
              "   'config': {'name': 'dense_layer',\n",
              "    'trainable': True,\n",
              "    'dtype': {'module': 'keras',\n",
              "     'class_name': 'DTypePolicy',\n",
              "     'config': {'name': 'float32'},\n",
              "     'registered_name': None},\n",
              "    'units': 512,\n",
              "    'activation': 'relu',\n",
              "    'use_bias': True,\n",
              "    'kernel_initializer': {'module': 'keras.initializers',\n",
              "     'class_name': 'GlorotUniform',\n",
              "     'config': {'seed': None},\n",
              "     'registered_name': None},\n",
              "    'bias_initializer': {'module': 'keras.initializers',\n",
              "     'class_name': 'Zeros',\n",
              "     'config': {},\n",
              "     'registered_name': None},\n",
              "    'kernel_regularizer': None,\n",
              "    'bias_regularizer': None,\n",
              "    'kernel_constraint': None,\n",
              "    'bias_constraint': None},\n",
              "   'registered_name': None,\n",
              "   'build_config': {'input_shape': (None, 3072)}},\n",
              "  {'module': 'keras.layers',\n",
              "   'class_name': 'Dropout',\n",
              "   'config': {'name': 'dropout_16',\n",
              "    'trainable': True,\n",
              "    'dtype': {'module': 'keras',\n",
              "     'class_name': 'DTypePolicy',\n",
              "     'config': {'name': 'float32'},\n",
              "     'registered_name': None},\n",
              "    'rate': 0.3,\n",
              "    'seed': None,\n",
              "    'noise_shape': None},\n",
              "   'registered_name': None},\n",
              "  {'module': 'keras.layers',\n",
              "   'class_name': 'Dense',\n",
              "   'config': {'name': 'dense_layer_2',\n",
              "    'trainable': True,\n",
              "    'dtype': {'module': 'keras',\n",
              "     'class_name': 'DTypePolicy',\n",
              "     'config': {'name': 'float32'},\n",
              "     'registered_name': None},\n",
              "    'units': 512,\n",
              "    'activation': 'relu',\n",
              "    'use_bias': True,\n",
              "    'kernel_initializer': {'module': 'keras.initializers',\n",
              "     'class_name': 'GlorotUniform',\n",
              "     'config': {'seed': None},\n",
              "     'registered_name': None},\n",
              "    'bias_initializer': {'module': 'keras.initializers',\n",
              "     'class_name': 'Zeros',\n",
              "     'config': {},\n",
              "     'registered_name': None},\n",
              "    'kernel_regularizer': None,\n",
              "    'bias_regularizer': None,\n",
              "    'kernel_constraint': None,\n",
              "    'bias_constraint': None},\n",
              "   'registered_name': None,\n",
              "   'build_config': {'input_shape': (None, 512)}},\n",
              "  {'module': 'keras.layers',\n",
              "   'class_name': 'Dropout',\n",
              "   'config': {'name': 'dropout_17',\n",
              "    'trainable': True,\n",
              "    'dtype': {'module': 'keras',\n",
              "     'class_name': 'DTypePolicy',\n",
              "     'config': {'name': 'float32'},\n",
              "     'registered_name': None},\n",
              "    'rate': 0.3,\n",
              "    'seed': None,\n",
              "    'noise_shape': None},\n",
              "   'registered_name': None},\n",
              "  {'module': 'keras.layers',\n",
              "   'class_name': 'Dense',\n",
              "   'config': {'name': 'dense_layer_3',\n",
              "    'trainable': True,\n",
              "    'dtype': {'module': 'keras',\n",
              "     'class_name': 'DTypePolicy',\n",
              "     'config': {'name': 'float32'},\n",
              "     'registered_name': None},\n",
              "    'units': 10,\n",
              "    'activation': 'softmax',\n",
              "    'use_bias': True,\n",
              "    'kernel_initializer': {'module': 'keras.initializers',\n",
              "     'class_name': 'GlorotUniform',\n",
              "     'config': {'seed': None},\n",
              "     'registered_name': None},\n",
              "    'bias_initializer': {'module': 'keras.initializers',\n",
              "     'class_name': 'Zeros',\n",
              "     'config': {},\n",
              "     'registered_name': None},\n",
              "    'kernel_regularizer': None,\n",
              "    'bias_regularizer': None,\n",
              "    'kernel_constraint': None,\n",
              "    'bias_constraint': None},\n",
              "   'registered_name': None,\n",
              "   'build_config': {'input_shape': (None, 512)}}],\n",
              " 'build_input_shape': (None, 3072)}"
            ]
          },
          "metadata": {},
          "execution_count": 77
        }
      ]
    },
    {
      "cell_type": "markdown",
      "source": [
        "\n",
        "###Improved Model 6: Adding Another Hidden Layer to the Model"
      ],
      "metadata": {
        "id": "DXcFRuED9C86"
      }
    },
    {
      "cell_type": "code",
      "source": [
        "import tensorflow as tf\n",
        "\n",
        "#In Keras, layers are assembled to build models\n",
        "from tensorflow.keras.layers import Dense\n",
        "from tensorflow.keras.layers import Dropout\n",
        "\n",
        "#Most common type of model is a stack of layers\n",
        "model_6 = tf.keras.Sequential()\n",
        "N_hidden = 512\n",
        "\n",
        "# Adds a densely-connected layer with 64 units to the model:\n",
        "model_6.add(Dense(N_hidden, name='dense_layer', input_shape=(3072,), activation = 'relu'))\n",
        "# Now the model will take as input arrays of shape (*, 784)# and output arrays of shape (*, 64)\n",
        "model_6.add(Dropout(0.3))\n",
        "\n",
        "# Adding another dense layer:\n",
        "model_6.add(Dense(N_hidden, name='dense_layer_2', activation='relu'))\n",
        "model_6.add(Dropout(0.3))\n",
        "\n",
        "# Adding another dense layer:\n",
        "model_6.add(Dense(N_hidden, name='dense_layer_3', activation='relu'))\n",
        "model_6.add(Dropout(0.3))\n",
        "\n",
        "# Add an output layer with 10 output units (10 different classes):\n",
        "model_6.add(Dense(10, name='dense_layer_4', activation = 'softmax'))"
      ],
      "metadata": {
        "id": "r5LsATKQ9DrP"
      },
      "execution_count": null,
      "outputs": []
    },
    {
      "cell_type": "code",
      "source": [
        "# Compiling the model.\n",
        "model_6.compile(optimizer='Adam',\n",
        "              loss='categorical_crossentropy',\n",
        "              metrics=['accuracy'])"
      ],
      "metadata": {
        "id": "78uQZ14W9H4Q"
      },
      "execution_count": null,
      "outputs": []
    },
    {
      "cell_type": "code",
      "source": [
        "# Training the model.\n",
        "training = model_6.fit(X_train, Y_train, batch_size=64, epochs=20, validation_split=0.2)"
      ],
      "metadata": {
        "colab": {
          "base_uri": "https://localhost:8080/"
        },
        "id": "x-DPmyL59JpD",
        "outputId": "c465ebc2-8a8f-4644-a62e-7ce67fcb630a"
      },
      "execution_count": null,
      "outputs": [
        {
          "output_type": "stream",
          "name": "stdout",
          "text": [
            "Epoch 1/20\n",
            "\u001b[1m625/625\u001b[0m \u001b[32m━━━━━━━━━━━━━━━━━━━━\u001b[0m\u001b[37m\u001b[0m \u001b[1m23s\u001b[0m 34ms/step - accuracy: 0.2003 - loss: 2.1717 - val_accuracy: 0.2906 - val_loss: 1.9293\n",
            "Epoch 2/20\n",
            "\u001b[1m625/625\u001b[0m \u001b[32m━━━━━━━━━━━━━━━━━━━━\u001b[0m\u001b[37m\u001b[0m \u001b[1m22s\u001b[0m 35ms/step - accuracy: 0.2637 - loss: 1.9620 - val_accuracy: 0.3242 - val_loss: 1.8779\n",
            "Epoch 3/20\n",
            "\u001b[1m625/625\u001b[0m \u001b[32m━━━━━━━━━━━━━━━━━━━━\u001b[0m\u001b[37m\u001b[0m \u001b[1m43s\u001b[0m 38ms/step - accuracy: 0.2838 - loss: 1.9268 - val_accuracy: 0.3106 - val_loss: 1.8834\n",
            "Epoch 4/20\n",
            "\u001b[1m625/625\u001b[0m \u001b[32m━━━━━━━━━━━━━━━━━━━━\u001b[0m\u001b[37m\u001b[0m \u001b[1m41s\u001b[0m 38ms/step - accuracy: 0.2965 - loss: 1.8920 - val_accuracy: 0.3238 - val_loss: 1.8628\n",
            "Epoch 5/20\n",
            "\u001b[1m625/625\u001b[0m \u001b[32m━━━━━━━━━━━━━━━━━━━━\u001b[0m\u001b[37m\u001b[0m \u001b[1m41s\u001b[0m 37ms/step - accuracy: 0.3065 - loss: 1.8763 - val_accuracy: 0.3424 - val_loss: 1.8077\n",
            "Epoch 6/20\n",
            "\u001b[1m625/625\u001b[0m \u001b[32m━━━━━━━━━━━━━━━━━━━━\u001b[0m\u001b[37m\u001b[0m \u001b[1m39s\u001b[0m 34ms/step - accuracy: 0.3211 - loss: 1.8524 - val_accuracy: 0.3462 - val_loss: 1.8384\n",
            "Epoch 7/20\n",
            "\u001b[1m625/625\u001b[0m \u001b[32m━━━━━━━━━━━━━━━━━━━━\u001b[0m\u001b[37m\u001b[0m \u001b[1m43s\u001b[0m 37ms/step - accuracy: 0.3264 - loss: 1.8433 - val_accuracy: 0.3685 - val_loss: 1.7906\n",
            "Epoch 8/20\n",
            "\u001b[1m625/625\u001b[0m \u001b[32m━━━━━━━━━━━━━━━━━━━━\u001b[0m\u001b[37m\u001b[0m \u001b[1m40s\u001b[0m 35ms/step - accuracy: 0.3309 - loss: 1.8236 - val_accuracy: 0.3655 - val_loss: 1.8006\n",
            "Epoch 9/20\n",
            "\u001b[1m625/625\u001b[0m \u001b[32m━━━━━━━━━━━━━━━━━━━━\u001b[0m\u001b[37m\u001b[0m \u001b[1m40s\u001b[0m 33ms/step - accuracy: 0.3327 - loss: 1.8230 - val_accuracy: 0.3845 - val_loss: 1.7343\n",
            "Epoch 10/20\n",
            "\u001b[1m625/625\u001b[0m \u001b[32m━━━━━━━━━━━━━━━━━━━━\u001b[0m\u001b[37m\u001b[0m \u001b[1m44s\u001b[0m 38ms/step - accuracy: 0.3369 - loss: 1.8038 - val_accuracy: 0.3802 - val_loss: 1.7655\n",
            "Epoch 11/20\n",
            "\u001b[1m625/625\u001b[0m \u001b[32m━━━━━━━━━━━━━━━━━━━━\u001b[0m\u001b[37m\u001b[0m \u001b[1m40s\u001b[0m 36ms/step - accuracy: 0.3401 - loss: 1.8026 - val_accuracy: 0.3892 - val_loss: 1.7482\n",
            "Epoch 12/20\n",
            "\u001b[1m625/625\u001b[0m \u001b[32m━━━━━━━━━━━━━━━━━━━━\u001b[0m\u001b[37m\u001b[0m \u001b[1m40s\u001b[0m 34ms/step - accuracy: 0.3456 - loss: 1.7901 - val_accuracy: 0.3809 - val_loss: 1.7911\n",
            "Epoch 13/20\n",
            "\u001b[1m625/625\u001b[0m \u001b[32m━━━━━━━━━━━━━━━━━━━━\u001b[0m\u001b[37m\u001b[0m \u001b[1m41s\u001b[0m 35ms/step - accuracy: 0.3454 - loss: 1.7851 - val_accuracy: 0.3730 - val_loss: 1.7621\n",
            "Epoch 14/20\n",
            "\u001b[1m625/625\u001b[0m \u001b[32m━━━━━━━━━━━━━━━━━━━━\u001b[0m\u001b[37m\u001b[0m \u001b[1m40s\u001b[0m 33ms/step - accuracy: 0.3582 - loss: 1.7779 - val_accuracy: 0.3898 - val_loss: 1.7359\n",
            "Epoch 15/20\n",
            "\u001b[1m625/625\u001b[0m \u001b[32m━━━━━━━━━━━━━━━━━━━━\u001b[0m\u001b[37m\u001b[0m \u001b[1m42s\u001b[0m 34ms/step - accuracy: 0.3565 - loss: 1.7602 - val_accuracy: 0.3733 - val_loss: 1.7690\n",
            "Epoch 16/20\n",
            "\u001b[1m625/625\u001b[0m \u001b[32m━━━━━━━━━━━━━━━━━━━━\u001b[0m\u001b[37m\u001b[0m \u001b[1m41s\u001b[0m 35ms/step - accuracy: 0.3610 - loss: 1.7612 - val_accuracy: 0.3829 - val_loss: 1.7615\n",
            "Epoch 17/20\n",
            "\u001b[1m625/625\u001b[0m \u001b[32m━━━━━━━━━━━━━━━━━━━━\u001b[0m\u001b[37m\u001b[0m \u001b[1m40s\u001b[0m 34ms/step - accuracy: 0.3628 - loss: 1.7514 - val_accuracy: 0.3911 - val_loss: 1.7269\n",
            "Epoch 18/20\n",
            "\u001b[1m625/625\u001b[0m \u001b[32m━━━━━━━━━━━━━━━━━━━━\u001b[0m\u001b[37m\u001b[0m \u001b[1m41s\u001b[0m 34ms/step - accuracy: 0.3592 - loss: 1.7571 - val_accuracy: 0.3779 - val_loss: 1.7727\n",
            "Epoch 19/20\n",
            "\u001b[1m625/625\u001b[0m \u001b[32m━━━━━━━━━━━━━━━━━━━━\u001b[0m\u001b[37m\u001b[0m \u001b[1m41s\u001b[0m 34ms/step - accuracy: 0.3645 - loss: 1.7475 - val_accuracy: 0.3956 - val_loss: 1.7421\n",
            "Epoch 20/20\n",
            "\u001b[1m625/625\u001b[0m \u001b[32m━━━━━━━━━━━━━━━━━━━━\u001b[0m\u001b[37m\u001b[0m \u001b[1m42s\u001b[0m 36ms/step - accuracy: 0.3615 - loss: 1.7474 - val_accuracy: 0.4027 - val_loss: 1.6902\n"
          ]
        }
      ]
    },
    {
      "cell_type": "code",
      "source": [
        "import matplotlib.pyplot as plt\n",
        "%matplotlib inline\n",
        "# list all data in training\n",
        "print(training.history.keys())\n",
        "# summarize training for accuracy\n",
        "plt.plot(training.history['accuracy'])\n",
        "plt.plot(training.history['val_accuracy'])\n",
        "plt.title('model accuracy')\n",
        "plt.ylabel('accuracy')\n",
        "plt.xlabel('epoch')\n",
        "plt.legend(['train', 'test'], loc='upper left')\n",
        "plt.show()\n",
        "# summarize traning for loss\n",
        "plt.plot(training.history['loss'])\n",
        "plt.plot(training.history['val_loss'])\n",
        "plt.title('model loss')\n",
        "plt.ylabel('loss')\n",
        "plt.xlabel('epoch')\n",
        "plt.legend(['train', 'test'], loc='upper left')\n",
        "plt.show()"
      ],
      "metadata": {
        "colab": {
          "base_uri": "https://localhost:8080/",
          "height": 943
        },
        "id": "76deti6G9LyU",
        "outputId": "e20dc26a-2d96-483f-a5f2-0992a7cd12d3"
      },
      "execution_count": null,
      "outputs": [
        {
          "output_type": "stream",
          "name": "stdout",
          "text": [
            "dict_keys(['accuracy', 'loss', 'val_accuracy', 'val_loss'])\n"
          ]
        },
        {
          "output_type": "display_data",
          "data": {
            "text/plain": [
              "<Figure size 640x480 with 1 Axes>"
            ],
            "image/png": "[encoded data removed]"
          },
          "metadata": {}
        },
        {
          "output_type": "display_data",
          "data": {
            "text/plain": [
              "<Figure size 640x480 with 1 Axes>"
            ],
            "image/png": "[encoded data removed]"
          },
          "metadata": {}
        }
      ]
    },
    {
      "cell_type": "code",
      "source": [
        "#evaluate the model\n",
        "test_loss, test_acc = model_6.evaluate(X_test, Y_test)\n",
        "print('Test accuracy:', test_acc)"
      ],
      "metadata": {
        "colab": {
          "base_uri": "https://localhost:8080/"
        },
        "id": "Nf5p5_yY9NIK",
        "outputId": "0796a29f-c3d0-4d5f-dd0e-24aadcd59e2c"
      },
      "execution_count": null,
      "outputs": [
        {
          "output_type": "stream",
          "name": "stdout",
          "text": [
            "\u001b[1m313/313\u001b[0m \u001b[32m━━━━━━━━━━━━━━━━━━━━\u001b[0m\u001b[37m\u001b[0m \u001b[1m2s\u001b[0m 6ms/step - accuracy: 0.4046 - loss: 1.6733\n",
            "Test accuracy: 0.4034000039100647\n"
          ]
        }
      ]
    },
    {
      "cell_type": "code",
      "source": [
        "model_6.summary"
      ],
      "metadata": {
        "colab": {
          "base_uri": "https://localhost:8080/",
          "height": 202
        },
        "id": "yLXuDQ539OuX",
        "outputId": "ba81f9df-dc14-40da-c01c-3a0f72639829"
      },
      "execution_count": null,
      "outputs": [
        {
          "output_type": "execute_result",
          "data": {
            "text/plain": [
              "<bound method Model.summary of <Sequential name=sequential_12, built=True>>"
            ],
            "text/html": [
              "<div style=\"max-width:800px; border: 1px solid var(--colab-border-color);\"><style>\n",
              "      pre.function-repr-contents {\n",
              "        overflow-x: auto;\n",
              "        padding: 8px 12px;\n",
              "        max-height: 500px;\n",
              "      }\n",
              "\n",
              "      pre.function-repr-contents.function-repr-contents-collapsed {\n",
              "        cursor: pointer;\n",
              "        max-height: 100px;\n",
              "      }\n",
              "    </style>\n",
              "    <pre style=\"white-space: initial; background:\n",
              "         var(--colab-secondary-surface-color); padding: 8px 12px;\n",
              "         border-bottom: 1px solid var(--colab-border-color);\"><b>keras.src.models.model.Model.summary</b><br/>def summary(line_length=None, positions=None, print_fn=None, expand_nested=False, show_trainable=False, layer_range=None)</pre><pre class=\"function-repr-contents function-repr-contents-collapsed\" style=\"\"><a class=\"filepath\" style=\"display:none\" href=\"#\">/usr/local/lib/python3.11/dist-packages/keras/src/models/model.py</a>Prints a string summary of the network.\n",
              "\n",
              "Args:\n",
              "    line_length: Total length of printed lines\n",
              "        (e.g. set this to adapt the display to different\n",
              "        terminal window sizes).\n",
              "    positions: Relative or absolute positions of log elements\n",
              "        in each line. If not provided, becomes\n",
              "        `[0.3, 0.6, 0.70, 1.]`. Defaults to `None`.\n",
              "    print_fn: Print function to use. By default, prints to `stdout`.\n",
              "        If `stdout` doesn&#x27;t work in your environment, change to `print`.\n",
              "        It will be called on each line of the summary.\n",
              "        You can set it to a custom function\n",
              "        in order to capture the string summary.\n",
              "    expand_nested: Whether to expand the nested models.\n",
              "        Defaults to `False`.\n",
              "    show_trainable: Whether to show if a layer is trainable.\n",
              "        Defaults to `False`.\n",
              "    layer_range: a list or tuple of 2 strings,\n",
              "        which is the starting layer name and ending layer name\n",
              "        (both inclusive) indicating the range of layers to be printed\n",
              "        in summary. It also accepts regex patterns instead of exact\n",
              "        names. In this case, the start predicate will be\n",
              "        the first element that matches `layer_range[0]`\n",
              "        and the end predicate will be the last element\n",
              "        that matches `layer_range[1]`.\n",
              "        By default `None` considers all layers of the model.\n",
              "\n",
              "Raises:\n",
              "    ValueError: if `summary()` is called before the model is built.</pre>\n",
              "      <script>\n",
              "      if (google.colab.kernel.accessAllowed && google.colab.files && google.colab.files.view) {\n",
              "        for (const element of document.querySelectorAll('.filepath')) {\n",
              "          element.style.display = 'block'\n",
              "          element.onclick = (event) => {\n",
              "            event.preventDefault();\n",
              "            event.stopPropagation();\n",
              "            google.colab.files.view(element.textContent, 218);\n",
              "          };\n",
              "        }\n",
              "      }\n",
              "      for (const element of document.querySelectorAll('.function-repr-contents')) {\n",
              "        element.onclick = (event) => {\n",
              "          event.preventDefault();\n",
              "          event.stopPropagation();\n",
              "          element.classList.toggle('function-repr-contents-collapsed');\n",
              "        };\n",
              "      }\n",
              "      </script>\n",
              "      </div>"
            ]
          },
          "metadata": {},
          "execution_count": 84
        }
      ]
    },
    {
      "cell_type": "code",
      "source": [
        "model_6.weights"
      ],
      "metadata": {
        "colab": {
          "base_uri": "https://localhost:8080/"
        },
        "id": "U5jyDtnJ9QJZ",
        "outputId": "72ca337e-a8c8-4eb7-f56c-e1aa417097bc"
      },
      "execution_count": null,
      "outputs": [
        {
          "output_type": "execute_result",
          "data": {
            "text/plain": [
              "[<Variable path=sequential_12/dense_layer/kernel, shape=(3072, 512), dtype=float32, value=[[-3.6152191e-02  2.7600700e-02 -2.5437178e-02 ... -1.0254328e-02\n",
              "   -3.7155289e-02  3.8142659e-02]\n",
              "  [-1.6488193e-02  3.4703815e-03  2.2192169e-02 ... -1.0063151e-02\n",
              "   -3.9950807e-02  2.6805669e-03]\n",
              "  [ 2.7338637e-02 -3.9729342e-02 -4.4470970e-02 ...  1.1261319e-02\n",
              "   -2.4071824e-02  3.1845793e-03]\n",
              "  ...\n",
              "  [-2.6802148e-03  2.8135411e-02  2.6987066e-02 ...  1.7644217e-02\n",
              "    1.3624558e-02  2.5998782e-02]\n",
              "  [ 1.3625627e-02 -1.3482323e-02  7.5668627e-03 ... -3.9649785e-02\n",
              "    2.8417952e-02 -2.1707792e-02]\n",
              "  [ 2.2518648e-02  6.4787891e-05 -2.3454038e-02 ...  2.2673899e-02\n",
              "   -4.7481791e-03 -2.8245829e-02]]>,\n",
              " <Variable path=sequential_12/dense_layer/bias, shape=(512,), dtype=float32, value=[-6.00188412e-03 -5.99464215e-03 -7.22013135e-03 -6.00164803e-03\n",
              "  -7.38848839e-03 -6.68338835e-01 -5.62692247e-03 -3.30779562e-03\n",
              "  -7.79206771e-03 -2.40510819e-03 -6.00276981e-03 -6.00291835e-03\n",
              "  -6.00230554e-03 -8.90608691e-03 -5.92326513e-03 -6.00253791e-03\n",
              "  -4.99704201e-03 -3.09007079e-03 -3.97766102e-03 -2.65730778e-03\n",
              "  -1.01672327e-02 -1.17830141e-02 -6.70449529e-03 -5.97854098e-03\n",
              "  -4.57917107e-03 -6.00055046e-03 -6.17123162e-03 -3.64063936e-03\n",
              "  -3.41581274e-03 -5.91825834e-03 -3.52192391e-03 -5.36862295e-03\n",
              "  -5.34732779e-03 -5.21428837e-03 -5.98832592e-03 -8.51700362e-03\n",
              "  -6.35710824e-03 -2.40172334e-02 -6.00204663e-03 -5.14789158e-03\n",
              "  -3.83487670e-03 -5.96962264e-03 -7.45149935e-03 -6.36737188e-03\n",
              "  -1.58165451e-02 -5.78093622e-03 -4.50523011e-03 -3.75082553e-03\n",
              "  -2.68307477e-02 -4.52265050e-03 -6.00391114e-03  1.83491632e-01\n",
              "  -5.99787338e-03 -7.67871039e-03 -6.58998761e-05 -5.99289080e-03\n",
              "  -3.91614484e-03 -5.98985050e-03 -5.48661128e-03  3.09709217e-02\n",
              "  -6.00120425e-03 -1.52541895e-03 -5.08081447e-03 -4.50870907e-03\n",
              "  -8.75852944e-04 -2.90325703e-03 -7.60132540e-03 -2.68416153e-03\n",
              "  -1.83725310e-03 -6.42096857e-03 -6.00367691e-03 -6.06062217e-03\n",
              "   4.64080535e-02 -1.01116635e-02 -2.44557229e-03 -3.74905579e-03\n",
              "  -8.88143852e-03 -4.50872444e-03 -4.84435773e-03 -4.55794157e-03\n",
              "  -6.71602134e-03 -4.90714796e-03 -4.32244642e-03 -6.10802835e-03\n",
              "   1.74591988e-01 -8.46341997e-03 -6.00348972e-03 -2.92864605e-03\n",
              "  -6.00118702e-03 -6.00210298e-03 -3.86135816e-03 -4.33476595e-03\n",
              "  -6.00300729e-03 -6.37425808e-03 -4.30325210e-01 -5.17697353e-03\n",
              "  -6.00271160e-03 -7.24718627e-03 -5.99681167e-03 -5.31693408e-03\n",
              "   2.66261101e-01 -3.58760846e-03 -5.98324742e-03 -6.62514940e-04\n",
              "  -6.00308832e-03 -1.92272535e-03 -3.37984646e-03 -5.10649616e-03\n",
              "  -1.04095079e-02 -5.95378783e-03  3.06218606e-03 -4.96663386e-03\n",
              "  -5.99690992e-03 -1.18368575e-02 -2.06009876e-02 -1.11225462e-02\n",
              "  -4.11087042e-03 -4.38758265e-03 -3.61408573e-03 -3.80072626e-03\n",
              "  -6.00275584e-03 -5.98966330e-03 -6.87176501e-03 -6.00340636e-03\n",
              "  -6.00404013e-03 -6.00386690e-03 -6.00220542e-03  8.78865086e-03\n",
              "   2.12589651e-02 -6.00191019e-03 -6.00314327e-03 -2.05445453e-03\n",
              "  -6.00324851e-03 -6.00077258e-03 -6.66321535e-03 -6.37468649e-03\n",
              "  -5.35390060e-03 -6.75882306e-03 -5.10297762e-03 -8.07076599e-03\n",
              "  -2.36186152e-03 -6.00307574e-03 -1.22923730e-02 -5.11382613e-03\n",
              "  -6.00150926e-03 -7.30983680e-03 -6.00125082e-03 -2.25649052e-03\n",
              "  -4.70635109e-03 -5.97485574e-03 -2.26207124e-03 -6.00256305e-03\n",
              "  -5.99820493e-03 -5.99895604e-03 -6.68182969e-03 -5.19752083e-03\n",
              "  -1.70292464e-04  6.70137815e-03 -5.87694626e-03 -4.69200686e-03\n",
              "  -5.10437274e-03 -3.82815511e-03 -5.51025290e-03 -6.46802218e-05\n",
              "  -2.49872566e-03 -5.98269422e-03 -6.00402150e-03 -1.76821917e-03\n",
              "  -2.76273675e-03 -7.04127504e-03 -4.18821961e-01 -5.99810109e-03\n",
              "  -5.73140848e-03 -6.00373652e-03 -6.00258587e-03 -8.25881213e-03\n",
              "  -2.05476210e-03 -7.19011296e-03 -4.37395694e-03 -4.03798185e-03\n",
              "  -5.99717582e-03 -4.71973279e-03 -6.46759011e-03 -6.32946426e-03\n",
              "  -4.50569903e-03 -2.07759673e-03 -8.12342856e-03 -5.99436089e-03\n",
              "  -5.70395589e-03 -5.58223808e-03 -5.99910226e-03 -5.54242497e-03\n",
              "  -5.62983844e-03  4.06047404e-02 -1.20139550e-02 -3.76699353e-03\n",
              "  -2.00188300e-03 -5.63610904e-03 -5.44777513e-03 -6.00169180e-03\n",
              "  -5.99197485e-03 -5.18889120e-03 -6.00248715e-03 -4.11258731e-03\n",
              "  -6.00275537e-03 -6.00123079e-03  2.36873180e-02 -5.98767539e-03\n",
              "  -4.63002361e-03  3.48091824e-03 -4.83935094e-03 -4.54789959e-03\n",
              "  -5.99516090e-03  1.46132082e-01 -5.55668585e-03 -3.02162906e-03\n",
              "  -6.23373361e-03 -6.00258866e-03 -1.15986383e-02 -3.68667603e-03\n",
              "  -4.93917335e-03 -1.94484759e-02 -2.08902545e-03 -6.00319542e-03\n",
              "  -5.99547196e-03 -6.00323593e-03  3.02514341e-02 -9.56931803e-03\n",
              "  -5.92304207e-03 -6.00005686e-03 -6.56092167e-03 -7.04588369e-03\n",
              "  -6.00164337e-03 -6.14403188e-03 -4.72877780e-03 -3.99889378e-03\n",
              "  -6.27915328e-03 -5.97858708e-03 -5.14179934e-03  1.26103614e-03\n",
              "  -6.00407040e-03 -5.74143091e-03 -7.12797418e-03 -4.46178624e-03\n",
              "  -2.39803083e-02 -6.00225152e-03 -6.00364571e-03 -5.99280186e-03\n",
              "  -3.20549519e-03 -4.63431142e-03 -5.99617511e-03 -1.79781602e-03\n",
              "  -6.21182099e-03 -2.56114602e-01 -5.99448523e-03 -5.99714788e-03\n",
              "  -1.31055887e-03 -5.97425038e-03 -6.00004569e-03 -6.00097422e-03\n",
              "  -8.30773730e-03 -6.00235444e-03 -7.24239042e-03 -6.00295654e-03\n",
              "  -4.88639437e-03 -6.43493421e-03 -7.67025864e-03 -5.99842425e-03\n",
              "  -4.19151457e-03 -1.81808567e-03 -3.96994548e-03 -3.97482049e-03\n",
              "  -1.73650531e-03 -6.00276655e-03 -4.54095704e-03 -4.18899395e-03\n",
              "  -2.14575487e-03 -3.70814535e-03 -1.91030477e-03 -6.00215653e-03\n",
              "  -5.09682018e-03 -6.00360753e-03 -4.51952033e-03  7.98077509e-03\n",
              "  -6.15116162e-03 -2.39772443e-02 -2.96832016e-03 -6.00118749e-03\n",
              "  -5.32570481e-03 -5.89136081e-03 -5.98394591e-03 -4.27928180e-01\n",
              "  -6.00214209e-03 -1.41908973e-02 -4.13329341e-03 -6.00328948e-03\n",
              "  -6.00163313e-03 -6.00395724e-03 -8.77904065e-04 -5.70917130e-03\n",
              "  -5.54525340e-03 -5.07419510e-03 -6.02097064e-03 -6.00201171e-03\n",
              "  -5.52639784e-03 -5.99882193e-03 -5.71048725e-03 -3.45120742e-03\n",
              "  -6.00394374e-03 -8.53632670e-03 -8.36475659e-03 -6.00152649e-03\n",
              "  -6.00392045e-03 -4.53012902e-03 -6.00345945e-03 -5.99444518e-03\n",
              "  -3.91511293e-03 -5.99697605e-03 -5.28498739e-03 -6.45567328e-02\n",
              "  -6.00400055e-03 -6.50769752e-03 -5.11139585e-03 -8.06693174e-03\n",
              "  -6.73075067e-03 -1.23165559e-03 -3.55448807e-03 -7.97119830e-03\n",
              "  -6.78607589e-03 -6.00175979e-03 -9.39638354e-03 -3.50448559e-03\n",
              "  -5.82109857e-03 -6.36117101e-01 -4.85188281e-03 -4.68871882e-03\n",
              "   1.31998397e-02  0.00000000e+00 -2.17389618e-03 -5.53991459e-03\n",
              "  -8.02001171e-03 -5.08838519e-03 -8.25614203e-03 -9.83066391e-03\n",
              "  -5.99575834e-03 -3.15030180e-02  1.52554305e-03 -2.38080323e-02\n",
              "  -3.80277098e-03 -3.34800198e-03 -6.00232370e-03 -4.78617288e-03\n",
              "  -5.99772763e-03 -5.99812204e-03 -1.01624699e-02 -5.51634096e-03\n",
              "  -8.23478971e-04 -5.96315041e-03 -2.60779937e-03 -3.89315677e-03\n",
              "  -5.99155016e-03 -6.00129412e-03 -7.46093970e-03 -4.55410546e-03\n",
              "  -6.00063056e-03 -5.47048927e-04 -6.06498215e-03 -3.14573292e-03\n",
              "  -8.52616318e-03 -6.94479886e-03 -4.54315264e-03 -9.11346450e-03\n",
              "  -6.00095000e-03 -5.17644919e-03 -5.99608244e-03 -5.52723976e-03\n",
              "  -6.00282522e-03 -5.99648710e-03  2.73498118e-01 -5.75997401e-03\n",
              "   5.98115008e-03  0.00000000e+00  6.42166138e-02 -5.98895317e-03\n",
              "   1.55336186e-01 -5.32556791e-03 -5.14203124e-03 -6.41086511e-03\n",
              "  -6.54989574e-03  6.82635158e-02  2.17191293e-03 -5.32807456e-03\n",
              "  -2.93171266e-03 -5.28831780e-03 -5.59724355e-03 -5.99673158e-03\n",
              "  -9.07832198e-03 -7.64338393e-03 -5.99075248e-03 -5.99076180e-03\n",
              "  -2.28610425e-03 -4.43659723e-03 -4.11306834e-03  8.84735677e-03\n",
              "  -8.32940545e-03 -3.46000656e-03  6.00447297e-01 -1.04565267e-03\n",
              "  -5.51946647e-03 -1.77079402e-02 -6.53680693e-03 -5.45143848e-03\n",
              "  -6.00410998e-03 -6.00125920e-03 -5.98688936e-03 -4.81246365e-03\n",
              "  -1.34343118e-03 -6.43466553e-03 -3.42981354e-03 -2.22024950e-03\n",
              "  -7.27627706e-03 -6.09706203e-03 -4.76726098e-03 -5.10504283e-03\n",
              "  -5.99447545e-03 -5.57554327e-03 -5.99958841e-03 -8.73314776e-03\n",
              "  -6.00307016e-03 -1.44700310e-03 -6.00266363e-03 -1.42681506e-02\n",
              "  -4.37264005e-03 -7.01909373e-03 -6.00130809e-03 -8.33670795e-03\n",
              "  -5.99742308e-03 -8.49326700e-03 -6.07545162e-03  9.07513197e-04\n",
              "  -1.25583988e-02 -5.99194784e-03 -6.00063754e-03 -1.75634667e-01\n",
              "   1.52686117e-02 -5.91647299e-03 -6.98175933e-03 -5.97249391e-03\n",
              "   1.45147860e-01 -6.33684080e-03 -4.59147664e-03 -6.00192277e-03\n",
              "  -2.88474443e-03 -6.00385899e-03 -3.52067407e-03 -5.99995442e-03\n",
              "  -5.99936862e-03 -1.44980638e-03  2.99903098e-03 -6.00411231e-03\n",
              "  -6.00216072e-03 -1.86288054e-03 -6.00226782e-03 -8.47280212e-03\n",
              "  -6.00134535e-03 -4.22277907e-03 -5.33724623e-03 -8.47253390e-03\n",
              "  -5.09313447e-03 -5.69320610e-03 -5.99672878e-03 -6.00320660e-03\n",
              "  -7.63646886e-03 -5.98675665e-03 -3.16652493e-03 -3.00684548e-03\n",
              "  -6.30552927e-03 -5.99656021e-03 -3.93173471e-03 -1.31965186e-02\n",
              "  -5.97711373e-03 -2.18685437e-02 -4.18827916e-03 -5.98978112e-03\n",
              "  -8.42215121e-03 -4.51390818e-03 -5.95755503e-03 -8.40713549e-03\n",
              "  -6.00364897e-03 -2.66460731e-04  7.37274124e-04 -4.48904978e-03\n",
              "  -6.00313628e-03 -1.58022474e-02 -5.28928079e-03 -3.06914584e-03\n",
              "  -5.11731580e-03 -1.11951297e-02 -6.00292906e-03 -5.97991003e-03\n",
              "  -2.61766766e-03 -4.53544268e-03 -6.00130670e-03 -5.99874835e-03\n",
              "  -6.00094488e-03  2.58793618e-04 -5.37132146e-03 -5.99724799e-03\n",
              "  -2.43315799e-03 -7.39399111e-03 -7.46860728e-03 -6.60911528e-03]>,\n",
              " <Variable path=sequential_12/dense_layer_2/kernel, shape=(512, 512), dtype=float32, value=[[ 0.02402652 -0.04032712  0.04128546 ...  0.01677458  0.03842752\n",
              "   -0.0162036 ]\n",
              "  [-0.07397405 -0.01040389 -0.0418833  ... -0.06773251 -0.05033311\n",
              "   -0.08125782]\n",
              "  [-0.03353013 -0.06919103 -0.05546285 ... -0.00072605  0.06859437\n",
              "    0.04180555]\n",
              "  ...\n",
              "  [ 0.00381119  0.0072796  -0.05016446 ...  0.0077606  -0.07317884\n",
              "    0.04853558]\n",
              "  [-0.03087596 -0.01466089 -0.01617705 ... -0.01861509 -0.05498482\n",
              "   -0.06612239]\n",
              "  [-0.05537508  0.0442994  -0.07255179 ...  0.04188667  0.03382361\n",
              "    0.06489476]]>,\n",
              " <Variable path=sequential_12/dense_layer_2/bias, shape=(512,), dtype=float32, value=[ 0.04785228 -0.01321132 -0.11028015 -0.298272   -0.02323746 -0.3948956\n",
              "  -0.08691037 -0.06775936 -0.09604899  0.21516156 -0.5211532   0.19545425\n",
              "  -0.18962584 -0.38079777 -0.36711952 -0.20303588 -0.16434516 -0.3701113\n",
              "  -0.20313418 -0.46888846 -0.32332867 -0.18601377 -0.19621165 -0.14785318\n",
              "  -0.37925404 -0.27982125 -0.17156231 -0.29928958  0.10252172 -0.1406772\n",
              "  -0.42322257 -0.41332692 -0.13516776 -0.27979925 -0.26963344 -0.19108494\n",
              "   0.01579747 -0.36502066 -0.2810223  -0.05786886 -0.37064326 -0.13961837\n",
              "  -0.14671257 -0.23805234 -0.1646951   0.13496287 -0.19952606  0.19207257\n",
              "  -0.08865091 -0.17624427 -0.20186622  0.05497395 -0.10975462 -0.26742023\n",
              "  -0.21154584  0.12449115 -0.4212837   0.00686566 -0.16837463 -0.20476705\n",
              "  -0.2357738   0.06788208  0.06051653  0.13515599 -0.3271433  -0.2045601\n",
              "   0.02821109 -0.30435538 -0.17475438 -0.39425352 -0.38682356 -0.07335838\n",
              "  -0.05895169 -0.38411137 -0.20487753 -0.00220867 -0.00839494 -0.06940804\n",
              "  -0.20696986  0.08335859  0.25323564 -0.14978987 -0.46431467 -0.03349814\n",
              "  -0.05584985 -0.36903274  0.12188654 -0.2817681  -0.34752607 -0.02769151\n",
              "  -0.03922167 -0.40167233  0.02785228 -0.3569301   0.24550632  0.07748664\n",
              "  -0.47767553 -0.28599942 -0.1519048  -0.39607173 -0.16355798  0.08348554\n",
              "  -0.19420709  0.24179007 -0.04247847  0.03739697  0.03974114  0.21484901\n",
              "   0.07246711 -0.49287552 -0.2657564  -0.01855486  0.18987359  0.13904323\n",
              "   0.07099284 -0.27004603 -0.3089848  -0.40485245 -0.22523731 -0.33095354\n",
              "  -0.08972532 -0.41115993  0.05424339  0.23245153 -0.4581914  -0.2762425\n",
              "  -0.25107825 -0.06076468 -0.36677164 -0.04941444  0.20916292 -0.103307\n",
              "  -0.30404285 -0.07317396 -0.15054321  0.12833999 -0.20317936 -0.3980364\n",
              "  -0.11672457  0.05320334 -0.18632868  0.1624879  -0.45041442 -0.39814365\n",
              "  -0.25071275  0.03674174  0.0834703  -0.55591047 -0.30639684 -0.38216698\n",
              "   0.2869884  -0.4704768  -0.12807448 -0.11423378  0.01668128 -0.032823\n",
              "   0.14927456 -0.09285539 -0.36918426 -0.09773802 -0.17366764  0.32026106\n",
              "   0.02158752 -0.4192979  -0.2851293  -0.20200029  0.16941035 -0.08876349\n",
              "   0.08600064 -0.4653076  -0.09032841 -0.2409451  -0.20002332  0.02597965\n",
              "   0.14795423 -0.23554285 -0.10122799 -0.3959206  -0.29533654 -0.2057953\n",
              "   0.03767497 -0.60142    -0.17510137 -0.11183473  0.29361063 -0.28773296\n",
              "  -0.25921652  0.20994684  0.1308153  -0.23994622 -0.3696482  -0.35192734\n",
              "   0.0727934  -0.06169146 -0.18575281 -0.19467412 -0.09444406 -0.09321067\n",
              "  -0.43505132 -0.3900342  -0.260398   -0.3039013  -0.24766909 -0.29647347\n",
              "  -0.29663968  0.13674942 -0.26845694 -0.46027258  0.10726839  0.20515794\n",
              "  -0.20730683 -0.05572934  0.12868294 -0.31734458  0.08777957  0.17431332\n",
              "   0.15708016 -0.16249321 -0.14025523 -0.07798925  0.10862566 -0.30835518\n",
              "  -0.35782674 -0.17340237 -0.11763333 -0.12963945 -0.2857888   0.15148243\n",
              "  -0.43394762 -0.05785491 -0.21215874 -0.315269   -0.32431725 -0.21544835\n",
              "  -0.59304833 -0.11733362  0.08186781 -0.28155658  0.02852397 -0.1889471\n",
              "  -0.2499289  -0.3466731  -0.46764347 -0.18290046 -0.5652006  -0.17869422\n",
              "  -0.32502505  0.15459274 -0.01144427 -0.35958484  0.11113025 -0.12501101\n",
              "   0.06134789 -0.1327938  -0.26164675 -0.34463996 -0.09700602 -0.26411113\n",
              "  -0.07695214  0.14394361  0.17811556 -0.25656125 -0.16636573 -0.23075116\n",
              "  -0.2570638  -0.2782974   0.16045406 -0.25531358 -0.3626115  -0.053994\n",
              "  -0.00878513 -0.22194381 -0.12919644 -0.10804748 -0.30727687 -0.18657549\n",
              "  -0.17807765  0.05862791 -0.22513683 -0.45066872 -0.3529507  -0.17083102\n",
              "  -0.18676953 -0.08135885 -0.1404507   0.03320503 -0.3409386   0.09591143\n",
              "  -0.23575892 -0.23323692 -0.3538996  -0.4765282  -0.08644611 -0.18641485\n",
              "  -0.22598256 -0.40894973 -0.17329386  0.1829365  -0.3633642   0.21432179\n",
              "   0.09320183 -0.15111011 -0.06857723 -0.02438122 -0.03398793  0.15042137\n",
              "  -0.3252597   0.03639552 -0.17032677  0.05673235 -0.24829297 -0.19148865\n",
              "  -0.22727482 -0.10696318 -0.2001022  -0.05047984 -0.46568534 -0.22858623\n",
              "  -0.4193361  -0.40513304 -0.44153053 -0.02842753 -0.08892184 -0.31364647\n",
              "  -0.15122296  0.0875833   0.12824902 -0.12277684 -0.29002285 -0.34407398\n",
              "  -0.19185157 -0.23459199  0.12702496 -0.56823075 -0.263897   -0.27126926\n",
              "  -0.09678806 -0.21143708 -0.07287198 -0.20440498  0.08477056 -0.1231208\n",
              "  -0.44090655 -0.44086686  0.14311062  0.01845693 -0.0714756  -0.2600135\n",
              "   0.06006182 -0.22005981 -0.4162629   0.2296001  -0.01979757 -0.42539608\n",
              "  -0.26115796  0.17242725 -0.21488012 -0.3383728  -0.20097096 -0.33233708\n",
              "  -0.2119308  -0.32156286  0.05984114 -0.20673022 -0.10344361 -0.17247167\n",
              "  -0.32226378 -0.03364716  0.01847728 -0.48070008  0.0643768  -0.11491989\n",
              "  -0.3064988  -0.38360596 -0.34831917  0.09621781 -0.10123652  0.1414491\n",
              "  -0.49788928 -0.1335236  -0.04260094 -0.29922348 -0.03788066 -0.57556945\n",
              "  -0.18358429 -0.04652332 -0.05297264  0.02429849 -0.14063157 -0.5560335\n",
              "  -0.15522313 -0.3114821  -0.243265   -0.39476654 -0.20883818 -0.2059199\n",
              "   0.05256401 -0.06282356 -0.11971907 -0.27985474 -0.16371147  0.11197331\n",
              "  -0.07250506 -0.24962741 -0.30332682 -0.20193328 -0.36933696 -0.43187812\n",
              "  -0.38978463 -0.23414516 -0.2761182  -0.23016904 -0.23927324 -0.23243572\n",
              "  -0.12037162 -0.07870745 -0.26065364 -0.25824365 -0.20464522 -0.17960824\n",
              "   0.03095676  0.07499499 -0.29462713 -0.42792326 -0.00589298 -0.27071482\n",
              "  -0.1801376  -0.1366916  -0.07962079 -0.5542603  -0.21013282 -0.23265941\n",
              "  -0.11881103 -0.2983456  -0.00880939 -0.3668016  -0.1234811  -0.3384529\n",
              "   0.19602454  0.17673281 -0.12186146 -0.10249215 -0.4084625  -0.4060435\n",
              "  -0.02658697 -0.41720703 -0.02529624 -0.17169847 -0.13727318 -0.30146003\n",
              "  -0.07686902  0.2100028   0.01109547 -0.23086892 -0.4370858   0.10296456\n",
              "  -0.2422466  -0.13895679  0.25629458 -0.31363922  0.0227589   0.11579359\n",
              "  -0.33178353 -0.12668206 -0.2545353  -0.4067263  -0.28887582 -0.26788172\n",
              "  -0.11169594 -0.16664414 -0.19592197 -0.24583057 -0.09884932 -0.02281977\n",
              "   0.21355467 -0.23433234  0.07499046 -0.3090236  -0.18231077 -0.2160966\n",
              "  -0.29575643 -0.2154513  -0.20722103 -0.2807106  -0.21867815 -0.34140208\n",
              "  -0.21517727 -0.02733423 -0.26309752 -0.02879732 -0.00140701  0.10185771\n",
              "   0.05203509 -0.39231244 -0.17695968  0.21937443 -0.09849492  0.03119817\n",
              "  -0.55510086 -0.35095853 -0.2965299  -0.49579796 -0.1771476   0.18526714\n",
              "  -0.1348734  -0.36567867 -0.1054114  -0.00528416  0.07532102 -0.10112847\n",
              "  -0.32136276 -0.4673928 ]>,\n",
              " <Variable path=sequential_12/dense_layer_3/kernel, shape=(512, 512), dtype=float32, value=[[-0.04436    -0.06405084 -0.09511253 ... -0.17547885 -0.02960392\n",
              "    0.01388916]\n",
              "  [ 0.14295788 -0.22771841  0.00147989 ... -0.0781224  -0.13751641\n",
              "    0.01371832]\n",
              "  [ 0.02277445  0.01374337  0.04019114 ... -0.03866572 -0.02322156\n",
              "   -0.00781485]\n",
              "  ...\n",
              "  [-0.20683055  0.10050051  0.0426175  ... -0.01799802  0.04478082\n",
              "   -0.02990499]\n",
              "  [-0.09112424  0.05664013 -0.11617026 ... -0.04385442  0.00721747\n",
              "    0.00901044]\n",
              "  [-0.04187006 -0.11903648 -0.07984862 ...  0.00700888 -0.04313335\n",
              "   -0.13220836]]>,\n",
              " <Variable path=sequential_12/dense_layer_3/bias, shape=(512,), dtype=float32, value=[ 0.20898561 -0.1493644   0.08587644  0.19333331 -0.00408563 -0.10213125\n",
              "   0.01864572 -0.09372878 -0.08490494  0.18414432 -0.0897646  -0.00510638\n",
              "   0.12646767  0.04389716 -0.125717    0.29610533 -0.13359866 -0.13258384\n",
              "   0.01820259  0.04685828  0.3552399   0.11685461  0.18085098  0.05337092\n",
              "  -0.17402409  0.10372611  0.103859   -0.00447678  0.10198319 -0.1518237\n",
              "  -0.10910959  0.12781458 -0.09577682 -0.06544214 -0.03164789 -0.04353797\n",
              "  -0.12576437  0.36397147  0.1526029  -0.1294499  -0.09177084  0.42138144\n",
              "   0.05015548 -0.15320338  0.02451719 -0.09082625  0.11829358  0.09096816\n",
              "   0.12006821 -0.20538804  0.07463291  0.07856055 -0.03728445  0.10483896\n",
              "  -0.1639212  -0.1101276   0.01686931  0.04634248 -0.11775619  0.20608048\n",
              "   0.18786915  0.20829666  0.15029174  0.02006448  0.0398595   0.20063071\n",
              "  -0.04527887 -0.12766275  0.04015886  0.12464157 -0.0997511   0.11416361\n",
              "  -0.1481509  -0.09003143 -0.04421889  0.12867922  0.02705434  0.08709734\n",
              "   0.38226688  0.30419207  0.04768932 -0.20536953  0.09809945 -0.09874406\n",
              "   0.00358502 -0.15081139 -0.03985163  0.06781585  0.00243179  0.15743612\n",
              "   0.05484139  0.04366942  0.15798405 -0.19150876  0.01970263  0.02449527\n",
              "   0.10493489 -0.12564154  0.14945868  0.38203454  0.00573276 -0.06371351\n",
              "  -0.10819359 -0.02510351 -0.13106474  0.21689515 -0.15406834 -0.13007459\n",
              "   0.11328439 -0.05412877  0.3022383  -0.0590804  -0.05905499 -0.15276493\n",
              "  -0.07405374  0.07290316 -0.1563078   0.01082289 -0.10505107  0.18501748\n",
              "  -0.16087869 -0.06732245  0.07710107  0.3172578  -0.23818871  0.14508116\n",
              "   0.2732044  -0.12336203 -0.10613033  0.06218141  0.061906   -0.05521736\n",
              "  -0.10803129 -0.0719003   0.17808351 -0.0416132   0.10788752 -0.03355858\n",
              "   0.19320339 -0.22248279  0.2397077   0.12202286  0.10096554  0.02136212\n",
              "  -0.00385148 -0.24432662  0.09454007 -0.14296916 -0.15394367  0.38250685\n",
              "   0.13344121 -0.05856847 -0.11766823 -0.11097193 -0.122249    0.07988833\n",
              "  -0.09464565 -0.12578616 -0.01299594 -0.11856187 -0.12146499 -0.16864556\n",
              "  -0.08209242 -0.1923033   0.18094546  0.48483014  0.02731706  0.0499221\n",
              "   0.16017742 -0.11556613  0.18637773  0.1417731   0.19700491 -0.13012828\n",
              "   0.08197599 -0.14118493 -0.16992363 -0.08983415  0.08068406  0.46678054\n",
              "   0.13344035 -0.17527877  0.16299336 -0.04787238 -0.147428   -0.06014921\n",
              "  -0.09616714  0.21107242 -0.04116525  0.09783389  0.06592632  0.04805515\n",
              "   0.12848069 -0.17060702  0.23974328 -0.15036856 -0.21060595  0.44518676\n",
              "  -0.1678138   0.175573   -0.05160482 -0.14596732 -0.00505828 -0.1528927\n",
              "  -0.04402756 -0.00357194 -0.0401199  -0.1596882   0.04085869  0.12289429\n",
              "  -0.06922793 -0.04109889  0.13680696 -0.0178153  -0.12469758  0.13635454\n",
              "   0.08248503 -0.12745456  0.2947351  -0.16613784  0.51571214 -0.16521567\n",
              "   0.15258296  0.04464146 -0.10425311 -0.2344286   0.38008147 -0.10327518\n",
              "  -0.13394633  0.22797926  0.16864036  0.04269511 -0.10502545 -0.1702127\n",
              "  -0.06163368 -0.07097752  0.25248307 -0.13278015  0.0625067  -0.00340228\n",
              "  -0.02660463 -0.1540684   0.49498123  0.00156599  0.00302019 -0.10832686\n",
              "  -0.1955944   0.01344903 -0.06400758  0.15774722  0.13810092 -0.01307234\n",
              "  -0.006322    0.37482652  0.26219657  0.01227451  0.16450389 -0.15851279\n",
              "   0.13414139  0.0681052  -0.09234615  0.19333918  0.02750199  0.02966352\n",
              "  -0.06590668  0.04047471 -0.21108408 -0.25328156 -0.10335011 -0.10535662\n",
              "  -0.14856246 -0.03813877  0.18232217  0.09728192 -0.28084835 -0.12675971\n",
              "  -0.14166865  0.06518822 -0.14749134 -0.01349835 -0.00728788 -0.10304656\n",
              "  -0.18041287  0.14218456 -0.2241251   0.17810936 -0.22231632  0.30693325\n",
              "   0.16292566 -0.03779259  0.01417306  0.28775275  0.03810456 -0.04788526\n",
              "   0.2886944  -0.04876519  0.05851255  0.03741135  0.35313573 -0.12026022\n",
              "  -0.1930155   0.19198309 -0.01832209 -0.05684714 -0.01385681 -0.05585545\n",
              "   0.06039186 -0.07075685  0.02318955  0.10574932 -0.14215982  0.46723562\n",
              "   0.08302293  0.07788454  0.31028247 -0.09807439 -0.12082358  0.49083707\n",
              "  -0.14236963  0.13592266  0.05828682  0.11025295 -0.14143027 -0.17453447\n",
              "  -0.40389284 -0.07617113  0.09581066 -0.11017288  0.00648435  0.27559796\n",
              "  -0.15217467  0.00603086  0.19799328  0.20794788 -0.14391918 -0.00602776\n",
              "  -0.0756238   0.00565763 -0.12946546  0.16048574 -0.11317862 -0.15655522\n",
              "   0.18644166 -0.13771737  0.00485789 -0.15396367 -0.02940899  0.01173704\n",
              "   0.21204166 -0.11720559 -0.17434976  0.19355926  0.01705229  0.22286646\n",
              "   0.3509695  -0.01397332 -0.08467628  0.3244847  -0.09377105  0.19458416\n",
              "  -0.01098081 -0.27534965  0.22758642 -0.07524703 -0.15988696 -0.1903161\n",
              "   0.00298283 -0.06869885 -0.14695318  0.3465625  -0.16159569  0.2273208\n",
              "  -0.04311338 -0.08253133 -0.14900716  0.05505556  0.10559954 -0.04459917\n",
              "  -0.156885    0.06311294  0.23421766  0.27598116 -0.12528327 -0.15232907\n",
              "   0.00337754  0.1998888  -0.1666341  -0.12476184  0.05182496  0.23632933\n",
              "  -0.23970018  0.26632318 -0.12234464  0.05457125 -0.36970258 -0.07196452\n",
              "  -0.13020112  0.04672139  0.15513791 -0.13080758  0.00904849  0.19350368\n",
              "  -0.03040619 -0.1406529  -0.13746114 -0.12209997  0.08500946 -0.02767409\n",
              "   0.11128759  0.08677223 -0.1534506   0.08911493 -0.07401843 -0.10165797\n",
              "  -0.18090045  0.18470824 -0.07677841  0.06577918  0.0603939   0.3401169\n",
              "   0.09495664  0.13577959 -0.16373235  0.00184605  0.27786592 -0.01383313\n",
              "   0.00235628 -0.043851    0.01150625  0.15345426 -0.27767947 -0.14830875\n",
              "  -0.19707146 -0.04420122 -0.09455536  0.37742752  0.17518319  0.11400542\n",
              "   0.07099633 -0.02787348 -0.21565703  0.21681939  0.22235362  0.06419562\n",
              "  -0.11400801  0.00491945  0.11313658  0.10036224  0.03060017 -0.03246332\n",
              "   0.40272564 -0.06973125 -0.18399309  0.25664568  0.10071582 -0.24693598\n",
              "   0.1699175   0.5362423  -0.3399937   0.07821115  0.43191114 -0.10485883\n",
              "  -0.12641948 -0.06889097 -0.16073973  0.23838703  0.25441298  0.01590632\n",
              "  -0.02134594 -0.19155051 -0.04493273 -0.02759582 -0.08942865 -0.14768773\n",
              "  -0.15218523  0.04523714  0.08199357  0.05243789  0.03770673 -0.07254563\n",
              "   0.22523805  0.13415217  0.15490553  0.17591952 -0.12632807 -0.18448299\n",
              "   0.03982571 -0.12256472 -0.27282828 -0.10831139  0.01835401  0.22243866\n",
              "  -0.07474856 -0.04503024 -0.1584869  -0.07385828 -0.07124954 -0.13212408\n",
              "  -0.152898    0.09701227  0.1826422  -0.14762194  0.13961078 -0.16898654\n",
              "   0.0644915   0.21715952 -0.0588782   0.5935347   0.2849022  -0.13860181\n",
              "  -0.09783667 -0.19160037]>,\n",
              " <Variable path=sequential_12/dense_layer_4/kernel, shape=(512, 10), dtype=float32, value=[[ 0.01246764 -0.02344521 -0.12560676 ...  0.06564805 -0.02494303\n",
              "    0.07173026]\n",
              "  [-0.00080711  0.01224157 -0.07552128 ...  0.04310847 -0.01216626\n",
              "   -0.05809152]\n",
              "  [ 0.00272744  0.06551527 -0.01632517 ...  0.02990144  0.01141596\n",
              "    0.04263651]\n",
              "  ...\n",
              "  [ 0.01088744  0.04543063 -0.0645512  ... -0.04537263 -0.04031057\n",
              "   -0.02116102]\n",
              "  [-0.05880808 -0.01524977 -0.08461727 ... -0.05571602 -0.0868774\n",
              "    0.00223393]\n",
              "  [ 0.01296176  0.02035901  0.02176379 ... -0.04820276 -0.10479387\n",
              "    0.0272154 ]]>,\n",
              " <Variable path=sequential_12/dense_layer_4/bias, shape=(10,), dtype=float32, value=[-0.09529783 -0.142218   -0.2243496   0.15441127 -0.06433029  0.04261129\n",
              "   0.10158192  0.0822869   0.05996383  0.10233219]>]"
            ]
          },
          "metadata": {},
          "execution_count": 85
        }
      ]
    },
    {
      "cell_type": "code",
      "source": [
        "model_6.get_config()"
      ],
      "metadata": {
        "colab": {
          "base_uri": "https://localhost:8080/"
        },
        "id": "4E6ndr2A9Rxe",
        "outputId": "2ef2ba12-59db-4c72-f73c-0672d38cce55"
      },
      "execution_count": null,
      "outputs": [
        {
          "output_type": "execute_result",
          "data": {
            "text/plain": [
              "{'name': 'sequential_12',\n",
              " 'trainable': True,\n",
              " 'dtype': {'module': 'keras',\n",
              "  'class_name': 'DTypePolicy',\n",
              "  'config': {'name': 'float32'},\n",
              "  'registered_name': None},\n",
              " 'layers': [{'module': 'keras.layers',\n",
              "   'class_name': 'InputLayer',\n",
              "   'config': {'batch_shape': (None, 3072),\n",
              "    'dtype': 'float32',\n",
              "    'sparse': False,\n",
              "    'name': 'input_layer_12'},\n",
              "   'registered_name': None},\n",
              "  {'module': 'keras.layers',\n",
              "   'class_name': 'Dense',\n",
              "   'config': {'name': 'dense_layer',\n",
              "    'trainable': True,\n",
              "    'dtype': {'module': 'keras',\n",
              "     'class_name': 'DTypePolicy',\n",
              "     'config': {'name': 'float32'},\n",
              "     'registered_name': None},\n",
              "    'units': 512,\n",
              "    'activation': 'relu',\n",
              "    'use_bias': True,\n",
              "    'kernel_initializer': {'module': 'keras.initializers',\n",
              "     'class_name': 'GlorotUniform',\n",
              "     'config': {'seed': None},\n",
              "     'registered_name': None},\n",
              "    'bias_initializer': {'module': 'keras.initializers',\n",
              "     'class_name': 'Zeros',\n",
              "     'config': {},\n",
              "     'registered_name': None},\n",
              "    'kernel_regularizer': None,\n",
              "    'bias_regularizer': None,\n",
              "    'kernel_constraint': None,\n",
              "    'bias_constraint': None},\n",
              "   'registered_name': None,\n",
              "   'build_config': {'input_shape': (None, 3072)}},\n",
              "  {'module': 'keras.layers',\n",
              "   'class_name': 'Dropout',\n",
              "   'config': {'name': 'dropout_18',\n",
              "    'trainable': True,\n",
              "    'dtype': {'module': 'keras',\n",
              "     'class_name': 'DTypePolicy',\n",
              "     'config': {'name': 'float32'},\n",
              "     'registered_name': None},\n",
              "    'rate': 0.3,\n",
              "    'seed': None,\n",
              "    'noise_shape': None},\n",
              "   'registered_name': None},\n",
              "  {'module': 'keras.layers',\n",
              "   'class_name': 'Dense',\n",
              "   'config': {'name': 'dense_layer_2',\n",
              "    'trainable': True,\n",
              "    'dtype': {'module': 'keras',\n",
              "     'class_name': 'DTypePolicy',\n",
              "     'config': {'name': 'float32'},\n",
              "     'registered_name': None},\n",
              "    'units': 512,\n",
              "    'activation': 'relu',\n",
              "    'use_bias': True,\n",
              "    'kernel_initializer': {'module': 'keras.initializers',\n",
              "     'class_name': 'GlorotUniform',\n",
              "     'config': {'seed': None},\n",
              "     'registered_name': None},\n",
              "    'bias_initializer': {'module': 'keras.initializers',\n",
              "     'class_name': 'Zeros',\n",
              "     'config': {},\n",
              "     'registered_name': None},\n",
              "    'kernel_regularizer': None,\n",
              "    'bias_regularizer': None,\n",
              "    'kernel_constraint': None,\n",
              "    'bias_constraint': None},\n",
              "   'registered_name': None,\n",
              "   'build_config': {'input_shape': (None, 512)}},\n",
              "  {'module': 'keras.layers',\n",
              "   'class_name': 'Dropout',\n",
              "   'config': {'name': 'dropout_19',\n",
              "    'trainable': True,\n",
              "    'dtype': {'module': 'keras',\n",
              "     'class_name': 'DTypePolicy',\n",
              "     'config': {'name': 'float32'},\n",
              "     'registered_name': None},\n",
              "    'rate': 0.3,\n",
              "    'seed': None,\n",
              "    'noise_shape': None},\n",
              "   'registered_name': None},\n",
              "  {'module': 'keras.layers',\n",
              "   'class_name': 'Dense',\n",
              "   'config': {'name': 'dense_layer_3',\n",
              "    'trainable': True,\n",
              "    'dtype': {'module': 'keras',\n",
              "     'class_name': 'DTypePolicy',\n",
              "     'config': {'name': 'float32'},\n",
              "     'registered_name': None},\n",
              "    'units': 512,\n",
              "    'activation': 'relu',\n",
              "    'use_bias': True,\n",
              "    'kernel_initializer': {'module': 'keras.initializers',\n",
              "     'class_name': 'GlorotUniform',\n",
              "     'config': {'seed': None},\n",
              "     'registered_name': None},\n",
              "    'bias_initializer': {'module': 'keras.initializers',\n",
              "     'class_name': 'Zeros',\n",
              "     'config': {},\n",
              "     'registered_name': None},\n",
              "    'kernel_regularizer': None,\n",
              "    'bias_regularizer': None,\n",
              "    'kernel_constraint': None,\n",
              "    'bias_constraint': None},\n",
              "   'registered_name': None,\n",
              "   'build_config': {'input_shape': (None, 512)}},\n",
              "  {'module': 'keras.layers',\n",
              "   'class_name': 'Dropout',\n",
              "   'config': {'name': 'dropout_20',\n",
              "    'trainable': True,\n",
              "    'dtype': {'module': 'keras',\n",
              "     'class_name': 'DTypePolicy',\n",
              "     'config': {'name': 'float32'},\n",
              "     'registered_name': None},\n",
              "    'rate': 0.3,\n",
              "    'seed': None,\n",
              "    'noise_shape': None},\n",
              "   'registered_name': None},\n",
              "  {'module': 'keras.layers',\n",
              "   'class_name': 'Dense',\n",
              "   'config': {'name': 'dense_layer_4',\n",
              "    'trainable': True,\n",
              "    'dtype': {'module': 'keras',\n",
              "     'class_name': 'DTypePolicy',\n",
              "     'config': {'name': 'float32'},\n",
              "     'registered_name': None},\n",
              "    'units': 10,\n",
              "    'activation': 'softmax',\n",
              "    'use_bias': True,\n",
              "    'kernel_initializer': {'module': 'keras.initializers',\n",
              "     'class_name': 'GlorotUniform',\n",
              "     'config': {'seed': None},\n",
              "     'registered_name': None},\n",
              "    'bias_initializer': {'module': 'keras.initializers',\n",
              "     'class_name': 'Zeros',\n",
              "     'config': {},\n",
              "     'registered_name': None},\n",
              "    'kernel_regularizer': None,\n",
              "    'bias_regularizer': None,\n",
              "    'kernel_constraint': None,\n",
              "    'bias_constraint': None},\n",
              "   'registered_name': None,\n",
              "   'build_config': {'input_shape': (None, 512)}}],\n",
              " 'build_input_shape': (None, 3072)}"
            ]
          },
          "metadata": {},
          "execution_count": 86
        }
      ]
    },
    {
      "cell_type": "markdown",
      "source": [
        "###Conclusion: After adding the multiple layers the last layer 6th, the accuracy of the model reached to the  accuracy: 0.4046 - loss: 1.6733  . Also the Analysis of the graphs of the model accuracy and model loss is as follows: Top plot (Model Accuracy):The accuracy improves over epochs for both training and test datasets.Test accuracy is consistently higher than training accuracy, which might indicate good generalization.Bottom plot (Model Loss):The loss decreases over epochs for both training and test datasets, indicating learning progress.Test loss is lower than training loss, which is unusual and might suggest some regularization effects or data augmentation.\n"
      ],
      "metadata": {
        "id": "TgcH8ltEDT68"
      }
    },
    {
      "cell_type": "code",
      "source": [],
      "metadata": {
        "id": "JwxZ2QdfFuHZ"
      },
      "execution_count": null,
      "outputs": []
    }
  ]
}